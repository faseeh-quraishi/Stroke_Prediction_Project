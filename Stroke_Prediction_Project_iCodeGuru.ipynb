{
  "cells": [
    {
      "cell_type": "code",
      "execution_count": null,
      "id": "ad00bb9f",
      "metadata": {
        "id": "ad00bb9f"
      },
      "outputs": [],
      "source": [
        "import numpy as np #array processing\n",
        "import pandas as pd #data processing\n",
        "\n",
        "#Data Visualization\n",
        "import matplotlib.pyplot as plt\n",
        "import seaborn as sns\n",
        "\n",
        "# Neural Network\n",
        "import tensorflow\n",
        "from tensorflow import keras\n",
        "from tensorflow.keras import Sequential\n",
        "from tensorflow.keras.layers import Dense,Dropout\n",
        "from tensorflow.keras.optimizers import Adam\n",
        "from tensorflow.keras.losses import BinaryCrossentropy\n",
        "\n",
        "#Metrics\n",
        "from sklearn.metrics import accuracy_score"
      ]
    },
    {
      "cell_type": "code",
      "execution_count": null,
      "id": "d284e88d",
      "metadata": {
        "colab": {
          "base_uri": "https://localhost:8080/",
          "height": 206
        },
        "id": "d284e88d",
        "outputId": "3d15fc19-4eeb-40b1-efd3-3f0197ee0fb6"
      },
      "outputs": [
        {
          "output_type": "execute_result",
          "data": {
            "text/plain": [
              "      id  gender   age  hypertension  heart_disease ever_married  \\\n",
              "0   9046    Male  67.0             0              1          Yes   \n",
              "1  51676  Female  61.0             0              0          Yes   \n",
              "2  31112    Male  80.0             0              1          Yes   \n",
              "3  60182  Female  49.0             0              0          Yes   \n",
              "4   1665  Female  79.0             1              0          Yes   \n",
              "\n",
              "       work_type Residence_type  avg_glucose_level   bmi   smoking_status  \\\n",
              "0        Private          Urban             228.69  36.6  formerly smoked   \n",
              "1  Self-employed          Rural             202.21   NaN     never smoked   \n",
              "2        Private          Rural             105.92  32.5     never smoked   \n",
              "3        Private          Urban             171.23  34.4           smokes   \n",
              "4  Self-employed          Rural             174.12  24.0     never smoked   \n",
              "\n",
              "   stroke  \n",
              "0       1  \n",
              "1       1  \n",
              "2       1  \n",
              "3       1  \n",
              "4       1  "
            ],
            "text/html": [
              "\n",
              "  <div id=\"df-4eed40f5-9afc-4728-8bf1-9a7062842ab3\">\n",
              "    <div class=\"colab-df-container\">\n",
              "      <div>\n",
              "<style scoped>\n",
              "    .dataframe tbody tr th:only-of-type {\n",
              "        vertical-align: middle;\n",
              "    }\n",
              "\n",
              "    .dataframe tbody tr th {\n",
              "        vertical-align: top;\n",
              "    }\n",
              "\n",
              "    .dataframe thead th {\n",
              "        text-align: right;\n",
              "    }\n",
              "</style>\n",
              "<table border=\"1\" class=\"dataframe\">\n",
              "  <thead>\n",
              "    <tr style=\"text-align: right;\">\n",
              "      <th></th>\n",
              "      <th>id</th>\n",
              "      <th>gender</th>\n",
              "      <th>age</th>\n",
              "      <th>hypertension</th>\n",
              "      <th>heart_disease</th>\n",
              "      <th>ever_married</th>\n",
              "      <th>work_type</th>\n",
              "      <th>Residence_type</th>\n",
              "      <th>avg_glucose_level</th>\n",
              "      <th>bmi</th>\n",
              "      <th>smoking_status</th>\n",
              "      <th>stroke</th>\n",
              "    </tr>\n",
              "  </thead>\n",
              "  <tbody>\n",
              "    <tr>\n",
              "      <th>0</th>\n",
              "      <td>9046</td>\n",
              "      <td>Male</td>\n",
              "      <td>67.0</td>\n",
              "      <td>0</td>\n",
              "      <td>1</td>\n",
              "      <td>Yes</td>\n",
              "      <td>Private</td>\n",
              "      <td>Urban</td>\n",
              "      <td>228.69</td>\n",
              "      <td>36.6</td>\n",
              "      <td>formerly smoked</td>\n",
              "      <td>1</td>\n",
              "    </tr>\n",
              "    <tr>\n",
              "      <th>1</th>\n",
              "      <td>51676</td>\n",
              "      <td>Female</td>\n",
              "      <td>61.0</td>\n",
              "      <td>0</td>\n",
              "      <td>0</td>\n",
              "      <td>Yes</td>\n",
              "      <td>Self-employed</td>\n",
              "      <td>Rural</td>\n",
              "      <td>202.21</td>\n",
              "      <td>NaN</td>\n",
              "      <td>never smoked</td>\n",
              "      <td>1</td>\n",
              "    </tr>\n",
              "    <tr>\n",
              "      <th>2</th>\n",
              "      <td>31112</td>\n",
              "      <td>Male</td>\n",
              "      <td>80.0</td>\n",
              "      <td>0</td>\n",
              "      <td>1</td>\n",
              "      <td>Yes</td>\n",
              "      <td>Private</td>\n",
              "      <td>Rural</td>\n",
              "      <td>105.92</td>\n",
              "      <td>32.5</td>\n",
              "      <td>never smoked</td>\n",
              "      <td>1</td>\n",
              "    </tr>\n",
              "    <tr>\n",
              "      <th>3</th>\n",
              "      <td>60182</td>\n",
              "      <td>Female</td>\n",
              "      <td>49.0</td>\n",
              "      <td>0</td>\n",
              "      <td>0</td>\n",
              "      <td>Yes</td>\n",
              "      <td>Private</td>\n",
              "      <td>Urban</td>\n",
              "      <td>171.23</td>\n",
              "      <td>34.4</td>\n",
              "      <td>smokes</td>\n",
              "      <td>1</td>\n",
              "    </tr>\n",
              "    <tr>\n",
              "      <th>4</th>\n",
              "      <td>1665</td>\n",
              "      <td>Female</td>\n",
              "      <td>79.0</td>\n",
              "      <td>1</td>\n",
              "      <td>0</td>\n",
              "      <td>Yes</td>\n",
              "      <td>Self-employed</td>\n",
              "      <td>Rural</td>\n",
              "      <td>174.12</td>\n",
              "      <td>24.0</td>\n",
              "      <td>never smoked</td>\n",
              "      <td>1</td>\n",
              "    </tr>\n",
              "  </tbody>\n",
              "</table>\n",
              "</div>\n",
              "      <button class=\"colab-df-convert\" onclick=\"convertToInteractive('df-4eed40f5-9afc-4728-8bf1-9a7062842ab3')\"\n",
              "              title=\"Convert this dataframe to an interactive table.\"\n",
              "              style=\"display:none;\">\n",
              "        \n",
              "  <svg xmlns=\"http://www.w3.org/2000/svg\" height=\"24px\"viewBox=\"0 0 24 24\"\n",
              "       width=\"24px\">\n",
              "    <path d=\"M0 0h24v24H0V0z\" fill=\"none\"/>\n",
              "    <path d=\"M18.56 5.44l.94 2.06.94-2.06 2.06-.94-2.06-.94-.94-2.06-.94 2.06-2.06.94zm-11 1L8.5 8.5l.94-2.06 2.06-.94-2.06-.94L8.5 2.5l-.94 2.06-2.06.94zm10 10l.94 2.06.94-2.06 2.06-.94-2.06-.94-.94-2.06-.94 2.06-2.06.94z\"/><path d=\"M17.41 7.96l-1.37-1.37c-.4-.4-.92-.59-1.43-.59-.52 0-1.04.2-1.43.59L10.3 9.45l-7.72 7.72c-.78.78-.78 2.05 0 2.83L4 21.41c.39.39.9.59 1.41.59.51 0 1.02-.2 1.41-.59l7.78-7.78 2.81-2.81c.8-.78.8-2.07 0-2.86zM5.41 20L4 18.59l7.72-7.72 1.47 1.35L5.41 20z\"/>\n",
              "  </svg>\n",
              "      </button>\n",
              "      \n",
              "  <style>\n",
              "    .colab-df-container {\n",
              "      display:flex;\n",
              "      flex-wrap:wrap;\n",
              "      gap: 12px;\n",
              "    }\n",
              "\n",
              "    .colab-df-convert {\n",
              "      background-color: #E8F0FE;\n",
              "      border: none;\n",
              "      border-radius: 50%;\n",
              "      cursor: pointer;\n",
              "      display: none;\n",
              "      fill: #1967D2;\n",
              "      height: 32px;\n",
              "      padding: 0 0 0 0;\n",
              "      width: 32px;\n",
              "    }\n",
              "\n",
              "    .colab-df-convert:hover {\n",
              "      background-color: #E2EBFA;\n",
              "      box-shadow: 0px 1px 2px rgba(60, 64, 67, 0.3), 0px 1px 3px 1px rgba(60, 64, 67, 0.15);\n",
              "      fill: #174EA6;\n",
              "    }\n",
              "\n",
              "    [theme=dark] .colab-df-convert {\n",
              "      background-color: #3B4455;\n",
              "      fill: #D2E3FC;\n",
              "    }\n",
              "\n",
              "    [theme=dark] .colab-df-convert:hover {\n",
              "      background-color: #434B5C;\n",
              "      box-shadow: 0px 1px 3px 1px rgba(0, 0, 0, 0.15);\n",
              "      filter: drop-shadow(0px 1px 2px rgba(0, 0, 0, 0.3));\n",
              "      fill: #FFFFFF;\n",
              "    }\n",
              "  </style>\n",
              "\n",
              "      <script>\n",
              "        const buttonEl =\n",
              "          document.querySelector('#df-4eed40f5-9afc-4728-8bf1-9a7062842ab3 button.colab-df-convert');\n",
              "        buttonEl.style.display =\n",
              "          google.colab.kernel.accessAllowed ? 'block' : 'none';\n",
              "\n",
              "        async function convertToInteractive(key) {\n",
              "          const element = document.querySelector('#df-4eed40f5-9afc-4728-8bf1-9a7062842ab3');\n",
              "          const dataTable =\n",
              "            await google.colab.kernel.invokeFunction('convertToInteractive',\n",
              "                                                     [key], {});\n",
              "          if (!dataTable) return;\n",
              "\n",
              "          const docLinkHtml = 'Like what you see? Visit the ' +\n",
              "            '<a target=\"_blank\" href=https://colab.research.google.com/notebooks/data_table.ipynb>data table notebook</a>'\n",
              "            + ' to learn more about interactive tables.';\n",
              "          element.innerHTML = '';\n",
              "          dataTable['output_type'] = 'display_data';\n",
              "          await google.colab.output.renderOutput(dataTable, element);\n",
              "          const docLink = document.createElement('div');\n",
              "          docLink.innerHTML = docLinkHtml;\n",
              "          element.appendChild(docLink);\n",
              "        }\n",
              "      </script>\n",
              "    </div>\n",
              "  </div>\n",
              "  "
            ]
          },
          "metadata": {},
          "execution_count": 4
        }
      ],
      "source": [
        "stroke_data = pd.read_csv(\"/content/healthcare-dataset-stroke-data.csv\")\n",
        "stroke_data.head()\n"
      ]
    },
    {
      "cell_type": "code",
      "execution_count": null,
      "id": "22e9fa89",
      "metadata": {
        "colab": {
          "base_uri": "https://localhost:8080/",
          "height": 206
        },
        "id": "22e9fa89",
        "outputId": "91b3a709-b6e4-4756-f491-9a43b5a2b824"
      },
      "outputs": [
        {
          "output_type": "execute_result",
          "data": {
            "text/plain": [
              "         id  gender   age  hypertension  heart_disease ever_married  \\\n",
              "5105  18234  Female  80.0             1              0          Yes   \n",
              "5106  44873  Female  81.0             0              0          Yes   \n",
              "5107  19723  Female  35.0             0              0          Yes   \n",
              "5108  37544    Male  51.0             0              0          Yes   \n",
              "5109  44679  Female  44.0             0              0          Yes   \n",
              "\n",
              "          work_type Residence_type  avg_glucose_level   bmi   smoking_status  \\\n",
              "5105        Private          Urban              83.75   NaN     never smoked   \n",
              "5106  Self-employed          Urban             125.20  40.0     never smoked   \n",
              "5107  Self-employed          Rural              82.99  30.6     never smoked   \n",
              "5108        Private          Rural             166.29  25.6  formerly smoked   \n",
              "5109       Govt_job          Urban              85.28  26.2          Unknown   \n",
              "\n",
              "      stroke  \n",
              "5105       0  \n",
              "5106       0  \n",
              "5107       0  \n",
              "5108       0  \n",
              "5109       0  "
            ],
            "text/html": [
              "\n",
              "  <div id=\"df-23de6772-abed-426c-895a-46cbf3319280\">\n",
              "    <div class=\"colab-df-container\">\n",
              "      <div>\n",
              "<style scoped>\n",
              "    .dataframe tbody tr th:only-of-type {\n",
              "        vertical-align: middle;\n",
              "    }\n",
              "\n",
              "    .dataframe tbody tr th {\n",
              "        vertical-align: top;\n",
              "    }\n",
              "\n",
              "    .dataframe thead th {\n",
              "        text-align: right;\n",
              "    }\n",
              "</style>\n",
              "<table border=\"1\" class=\"dataframe\">\n",
              "  <thead>\n",
              "    <tr style=\"text-align: right;\">\n",
              "      <th></th>\n",
              "      <th>id</th>\n",
              "      <th>gender</th>\n",
              "      <th>age</th>\n",
              "      <th>hypertension</th>\n",
              "      <th>heart_disease</th>\n",
              "      <th>ever_married</th>\n",
              "      <th>work_type</th>\n",
              "      <th>Residence_type</th>\n",
              "      <th>avg_glucose_level</th>\n",
              "      <th>bmi</th>\n",
              "      <th>smoking_status</th>\n",
              "      <th>stroke</th>\n",
              "    </tr>\n",
              "  </thead>\n",
              "  <tbody>\n",
              "    <tr>\n",
              "      <th>5105</th>\n",
              "      <td>18234</td>\n",
              "      <td>Female</td>\n",
              "      <td>80.0</td>\n",
              "      <td>1</td>\n",
              "      <td>0</td>\n",
              "      <td>Yes</td>\n",
              "      <td>Private</td>\n",
              "      <td>Urban</td>\n",
              "      <td>83.75</td>\n",
              "      <td>NaN</td>\n",
              "      <td>never smoked</td>\n",
              "      <td>0</td>\n",
              "    </tr>\n",
              "    <tr>\n",
              "      <th>5106</th>\n",
              "      <td>44873</td>\n",
              "      <td>Female</td>\n",
              "      <td>81.0</td>\n",
              "      <td>0</td>\n",
              "      <td>0</td>\n",
              "      <td>Yes</td>\n",
              "      <td>Self-employed</td>\n",
              "      <td>Urban</td>\n",
              "      <td>125.20</td>\n",
              "      <td>40.0</td>\n",
              "      <td>never smoked</td>\n",
              "      <td>0</td>\n",
              "    </tr>\n",
              "    <tr>\n",
              "      <th>5107</th>\n",
              "      <td>19723</td>\n",
              "      <td>Female</td>\n",
              "      <td>35.0</td>\n",
              "      <td>0</td>\n",
              "      <td>0</td>\n",
              "      <td>Yes</td>\n",
              "      <td>Self-employed</td>\n",
              "      <td>Rural</td>\n",
              "      <td>82.99</td>\n",
              "      <td>30.6</td>\n",
              "      <td>never smoked</td>\n",
              "      <td>0</td>\n",
              "    </tr>\n",
              "    <tr>\n",
              "      <th>5108</th>\n",
              "      <td>37544</td>\n",
              "      <td>Male</td>\n",
              "      <td>51.0</td>\n",
              "      <td>0</td>\n",
              "      <td>0</td>\n",
              "      <td>Yes</td>\n",
              "      <td>Private</td>\n",
              "      <td>Rural</td>\n",
              "      <td>166.29</td>\n",
              "      <td>25.6</td>\n",
              "      <td>formerly smoked</td>\n",
              "      <td>0</td>\n",
              "    </tr>\n",
              "    <tr>\n",
              "      <th>5109</th>\n",
              "      <td>44679</td>\n",
              "      <td>Female</td>\n",
              "      <td>44.0</td>\n",
              "      <td>0</td>\n",
              "      <td>0</td>\n",
              "      <td>Yes</td>\n",
              "      <td>Govt_job</td>\n",
              "      <td>Urban</td>\n",
              "      <td>85.28</td>\n",
              "      <td>26.2</td>\n",
              "      <td>Unknown</td>\n",
              "      <td>0</td>\n",
              "    </tr>\n",
              "  </tbody>\n",
              "</table>\n",
              "</div>\n",
              "      <button class=\"colab-df-convert\" onclick=\"convertToInteractive('df-23de6772-abed-426c-895a-46cbf3319280')\"\n",
              "              title=\"Convert this dataframe to an interactive table.\"\n",
              "              style=\"display:none;\">\n",
              "        \n",
              "  <svg xmlns=\"http://www.w3.org/2000/svg\" height=\"24px\"viewBox=\"0 0 24 24\"\n",
              "       width=\"24px\">\n",
              "    <path d=\"M0 0h24v24H0V0z\" fill=\"none\"/>\n",
              "    <path d=\"M18.56 5.44l.94 2.06.94-2.06 2.06-.94-2.06-.94-.94-2.06-.94 2.06-2.06.94zm-11 1L8.5 8.5l.94-2.06 2.06-.94-2.06-.94L8.5 2.5l-.94 2.06-2.06.94zm10 10l.94 2.06.94-2.06 2.06-.94-2.06-.94-.94-2.06-.94 2.06-2.06.94z\"/><path d=\"M17.41 7.96l-1.37-1.37c-.4-.4-.92-.59-1.43-.59-.52 0-1.04.2-1.43.59L10.3 9.45l-7.72 7.72c-.78.78-.78 2.05 0 2.83L4 21.41c.39.39.9.59 1.41.59.51 0 1.02-.2 1.41-.59l7.78-7.78 2.81-2.81c.8-.78.8-2.07 0-2.86zM5.41 20L4 18.59l7.72-7.72 1.47 1.35L5.41 20z\"/>\n",
              "  </svg>\n",
              "      </button>\n",
              "      \n",
              "  <style>\n",
              "    .colab-df-container {\n",
              "      display:flex;\n",
              "      flex-wrap:wrap;\n",
              "      gap: 12px;\n",
              "    }\n",
              "\n",
              "    .colab-df-convert {\n",
              "      background-color: #E8F0FE;\n",
              "      border: none;\n",
              "      border-radius: 50%;\n",
              "      cursor: pointer;\n",
              "      display: none;\n",
              "      fill: #1967D2;\n",
              "      height: 32px;\n",
              "      padding: 0 0 0 0;\n",
              "      width: 32px;\n",
              "    }\n",
              "\n",
              "    .colab-df-convert:hover {\n",
              "      background-color: #E2EBFA;\n",
              "      box-shadow: 0px 1px 2px rgba(60, 64, 67, 0.3), 0px 1px 3px 1px rgba(60, 64, 67, 0.15);\n",
              "      fill: #174EA6;\n",
              "    }\n",
              "\n",
              "    [theme=dark] .colab-df-convert {\n",
              "      background-color: #3B4455;\n",
              "      fill: #D2E3FC;\n",
              "    }\n",
              "\n",
              "    [theme=dark] .colab-df-convert:hover {\n",
              "      background-color: #434B5C;\n",
              "      box-shadow: 0px 1px 3px 1px rgba(0, 0, 0, 0.15);\n",
              "      filter: drop-shadow(0px 1px 2px rgba(0, 0, 0, 0.3));\n",
              "      fill: #FFFFFF;\n",
              "    }\n",
              "  </style>\n",
              "\n",
              "      <script>\n",
              "        const buttonEl =\n",
              "          document.querySelector('#df-23de6772-abed-426c-895a-46cbf3319280 button.colab-df-convert');\n",
              "        buttonEl.style.display =\n",
              "          google.colab.kernel.accessAllowed ? 'block' : 'none';\n",
              "\n",
              "        async function convertToInteractive(key) {\n",
              "          const element = document.querySelector('#df-23de6772-abed-426c-895a-46cbf3319280');\n",
              "          const dataTable =\n",
              "            await google.colab.kernel.invokeFunction('convertToInteractive',\n",
              "                                                     [key], {});\n",
              "          if (!dataTable) return;\n",
              "\n",
              "          const docLinkHtml = 'Like what you see? Visit the ' +\n",
              "            '<a target=\"_blank\" href=https://colab.research.google.com/notebooks/data_table.ipynb>data table notebook</a>'\n",
              "            + ' to learn more about interactive tables.';\n",
              "          element.innerHTML = '';\n",
              "          dataTable['output_type'] = 'display_data';\n",
              "          await google.colab.output.renderOutput(dataTable, element);\n",
              "          const docLink = document.createElement('div');\n",
              "          docLink.innerHTML = docLinkHtml;\n",
              "          element.appendChild(docLink);\n",
              "        }\n",
              "      </script>\n",
              "    </div>\n",
              "  </div>\n",
              "  "
            ]
          },
          "metadata": {},
          "execution_count": 5
        }
      ],
      "source": [
        "stroke_data.tail() # show data from end"
      ]
    },
    {
      "cell_type": "code",
      "execution_count": null,
      "id": "ec8fd7d6",
      "metadata": {
        "colab": {
          "base_uri": "https://localhost:8080/"
        },
        "id": "ec8fd7d6",
        "outputId": "b4a0e0eb-03f8-485c-c21c-e81968c90d41"
      },
      "outputs": [
        {
          "output_type": "execute_result",
          "data": {
            "text/plain": [
              "pandas.core.frame.DataFrame"
            ]
          },
          "metadata": {},
          "execution_count": 6
        }
      ],
      "source": [
        "type(stroke_data)"
      ]
    },
    {
      "cell_type": "code",
      "execution_count": null,
      "id": "e729e471",
      "metadata": {
        "id": "e729e471"
      },
      "outputs": [],
      "source": []
    },
    {
      "cell_type": "code",
      "execution_count": null,
      "id": "5c82b8a4",
      "metadata": {
        "colab": {
          "base_uri": "https://localhost:8080/"
        },
        "id": "5c82b8a4",
        "outputId": "e077439f-e8fb-435c-b718-e3c58e9fa59b"
      },
      "outputs": [
        {
          "output_type": "execute_result",
          "data": {
            "text/plain": [
              "2"
            ]
          },
          "metadata": {},
          "execution_count": 7
        }
      ],
      "source": [
        "stroke_data.ndim\n"
      ]
    },
    {
      "cell_type": "code",
      "execution_count": null,
      "id": "70cebc34",
      "metadata": {
        "colab": {
          "base_uri": "https://localhost:8080/"
        },
        "id": "70cebc34",
        "outputId": "d41ab61a-e3bc-4a89-8d11-1493b3d2e71a"
      },
      "outputs": [
        {
          "output_type": "execute_result",
          "data": {
            "text/plain": [
              "(5110, 12)"
            ]
          },
          "metadata": {},
          "execution_count": 8
        }
      ],
      "source": [
        "stroke_data.shape"
      ]
    },
    {
      "cell_type": "code",
      "execution_count": null,
      "id": "6a005db9",
      "metadata": {
        "colab": {
          "base_uri": "https://localhost:8080/"
        },
        "id": "6a005db9",
        "outputId": "a8d8f3b8-d886-4b2b-fcb1-73bd6ebc4196"
      },
      "outputs": [
        {
          "output_type": "execute_result",
          "data": {
            "text/plain": [
              "id                     int64\n",
              "gender                object\n",
              "age                  float64\n",
              "hypertension           int64\n",
              "heart_disease          int64\n",
              "ever_married          object\n",
              "work_type             object\n",
              "Residence_type        object\n",
              "avg_glucose_level    float64\n",
              "bmi                  float64\n",
              "smoking_status        object\n",
              "stroke                 int64\n",
              "dtype: object"
            ]
          },
          "metadata": {},
          "execution_count": 9
        }
      ],
      "source": [
        "stroke_data.dtypes #dtypes = data types"
      ]
    },
    {
      "cell_type": "code",
      "execution_count": null,
      "id": "770a07b6",
      "metadata": {
        "colab": {
          "base_uri": "https://localhost:8080/"
        },
        "id": "770a07b6",
        "outputId": "1073e4a0-b910-4b39-97dd-7c98081e77c0"
      },
      "outputs": [
        {
          "output_type": "stream",
          "name": "stdout",
          "text": [
            "<class 'pandas.core.frame.DataFrame'>\n",
            "RangeIndex: 5110 entries, 0 to 5109\n",
            "Data columns (total 12 columns):\n",
            " #   Column             Non-Null Count  Dtype  \n",
            "---  ------             --------------  -----  \n",
            " 0   id                 5110 non-null   int64  \n",
            " 1   gender             5110 non-null   object \n",
            " 2   age                5110 non-null   float64\n",
            " 3   hypertension       5110 non-null   int64  \n",
            " 4   heart_disease      5110 non-null   int64  \n",
            " 5   ever_married       5110 non-null   object \n",
            " 6   work_type          5110 non-null   object \n",
            " 7   Residence_type     5110 non-null   object \n",
            " 8   avg_glucose_level  5110 non-null   float64\n",
            " 9   bmi                4909 non-null   float64\n",
            " 10  smoking_status     5110 non-null   object \n",
            " 11  stroke             5110 non-null   int64  \n",
            "dtypes: float64(3), int64(4), object(5)\n",
            "memory usage: 479.2+ KB\n"
          ]
        }
      ],
      "source": [
        "stroke_data.info()"
      ]
    },
    {
      "cell_type": "code",
      "execution_count": null,
      "id": "e11d873e",
      "metadata": {
        "colab": {
          "base_uri": "https://localhost:8080/",
          "height": 300
        },
        "id": "e11d873e",
        "outputId": "2327cf63-c6d9-4a9f-c4ad-b8bbe598f820"
      },
      "outputs": [
        {
          "output_type": "execute_result",
          "data": {
            "text/plain": [
              "                 id          age  hypertension  heart_disease  \\\n",
              "count   5110.000000  5110.000000   5110.000000    5110.000000   \n",
              "mean   36517.829354    43.226614      0.097456       0.054012   \n",
              "std    21161.721625    22.612647      0.296607       0.226063   \n",
              "min       67.000000     0.080000      0.000000       0.000000   \n",
              "25%    17741.250000    25.000000      0.000000       0.000000   \n",
              "50%    36932.000000    45.000000      0.000000       0.000000   \n",
              "75%    54682.000000    61.000000      0.000000       0.000000   \n",
              "max    72940.000000    82.000000      1.000000       1.000000   \n",
              "\n",
              "       avg_glucose_level          bmi       stroke  \n",
              "count        5110.000000  4909.000000  5110.000000  \n",
              "mean          106.147677    28.893237     0.048728  \n",
              "std            45.283560     7.854067     0.215320  \n",
              "min            55.120000    10.300000     0.000000  \n",
              "25%            77.245000    23.500000     0.000000  \n",
              "50%            91.885000    28.100000     0.000000  \n",
              "75%           114.090000    33.100000     0.000000  \n",
              "max           271.740000    97.600000     1.000000  "
            ],
            "text/html": [
              "\n",
              "  <div id=\"df-2264f881-bb33-4f56-8263-22829ef9b44b\">\n",
              "    <div class=\"colab-df-container\">\n",
              "      <div>\n",
              "<style scoped>\n",
              "    .dataframe tbody tr th:only-of-type {\n",
              "        vertical-align: middle;\n",
              "    }\n",
              "\n",
              "    .dataframe tbody tr th {\n",
              "        vertical-align: top;\n",
              "    }\n",
              "\n",
              "    .dataframe thead th {\n",
              "        text-align: right;\n",
              "    }\n",
              "</style>\n",
              "<table border=\"1\" class=\"dataframe\">\n",
              "  <thead>\n",
              "    <tr style=\"text-align: right;\">\n",
              "      <th></th>\n",
              "      <th>id</th>\n",
              "      <th>age</th>\n",
              "      <th>hypertension</th>\n",
              "      <th>heart_disease</th>\n",
              "      <th>avg_glucose_level</th>\n",
              "      <th>bmi</th>\n",
              "      <th>stroke</th>\n",
              "    </tr>\n",
              "  </thead>\n",
              "  <tbody>\n",
              "    <tr>\n",
              "      <th>count</th>\n",
              "      <td>5110.000000</td>\n",
              "      <td>5110.000000</td>\n",
              "      <td>5110.000000</td>\n",
              "      <td>5110.000000</td>\n",
              "      <td>5110.000000</td>\n",
              "      <td>4909.000000</td>\n",
              "      <td>5110.000000</td>\n",
              "    </tr>\n",
              "    <tr>\n",
              "      <th>mean</th>\n",
              "      <td>36517.829354</td>\n",
              "      <td>43.226614</td>\n",
              "      <td>0.097456</td>\n",
              "      <td>0.054012</td>\n",
              "      <td>106.147677</td>\n",
              "      <td>28.893237</td>\n",
              "      <td>0.048728</td>\n",
              "    </tr>\n",
              "    <tr>\n",
              "      <th>std</th>\n",
              "      <td>21161.721625</td>\n",
              "      <td>22.612647</td>\n",
              "      <td>0.296607</td>\n",
              "      <td>0.226063</td>\n",
              "      <td>45.283560</td>\n",
              "      <td>7.854067</td>\n",
              "      <td>0.215320</td>\n",
              "    </tr>\n",
              "    <tr>\n",
              "      <th>min</th>\n",
              "      <td>67.000000</td>\n",
              "      <td>0.080000</td>\n",
              "      <td>0.000000</td>\n",
              "      <td>0.000000</td>\n",
              "      <td>55.120000</td>\n",
              "      <td>10.300000</td>\n",
              "      <td>0.000000</td>\n",
              "    </tr>\n",
              "    <tr>\n",
              "      <th>25%</th>\n",
              "      <td>17741.250000</td>\n",
              "      <td>25.000000</td>\n",
              "      <td>0.000000</td>\n",
              "      <td>0.000000</td>\n",
              "      <td>77.245000</td>\n",
              "      <td>23.500000</td>\n",
              "      <td>0.000000</td>\n",
              "    </tr>\n",
              "    <tr>\n",
              "      <th>50%</th>\n",
              "      <td>36932.000000</td>\n",
              "      <td>45.000000</td>\n",
              "      <td>0.000000</td>\n",
              "      <td>0.000000</td>\n",
              "      <td>91.885000</td>\n",
              "      <td>28.100000</td>\n",
              "      <td>0.000000</td>\n",
              "    </tr>\n",
              "    <tr>\n",
              "      <th>75%</th>\n",
              "      <td>54682.000000</td>\n",
              "      <td>61.000000</td>\n",
              "      <td>0.000000</td>\n",
              "      <td>0.000000</td>\n",
              "      <td>114.090000</td>\n",
              "      <td>33.100000</td>\n",
              "      <td>0.000000</td>\n",
              "    </tr>\n",
              "    <tr>\n",
              "      <th>max</th>\n",
              "      <td>72940.000000</td>\n",
              "      <td>82.000000</td>\n",
              "      <td>1.000000</td>\n",
              "      <td>1.000000</td>\n",
              "      <td>271.740000</td>\n",
              "      <td>97.600000</td>\n",
              "      <td>1.000000</td>\n",
              "    </tr>\n",
              "  </tbody>\n",
              "</table>\n",
              "</div>\n",
              "      <button class=\"colab-df-convert\" onclick=\"convertToInteractive('df-2264f881-bb33-4f56-8263-22829ef9b44b')\"\n",
              "              title=\"Convert this dataframe to an interactive table.\"\n",
              "              style=\"display:none;\">\n",
              "        \n",
              "  <svg xmlns=\"http://www.w3.org/2000/svg\" height=\"24px\"viewBox=\"0 0 24 24\"\n",
              "       width=\"24px\">\n",
              "    <path d=\"M0 0h24v24H0V0z\" fill=\"none\"/>\n",
              "    <path d=\"M18.56 5.44l.94 2.06.94-2.06 2.06-.94-2.06-.94-.94-2.06-.94 2.06-2.06.94zm-11 1L8.5 8.5l.94-2.06 2.06-.94-2.06-.94L8.5 2.5l-.94 2.06-2.06.94zm10 10l.94 2.06.94-2.06 2.06-.94-2.06-.94-.94-2.06-.94 2.06-2.06.94z\"/><path d=\"M17.41 7.96l-1.37-1.37c-.4-.4-.92-.59-1.43-.59-.52 0-1.04.2-1.43.59L10.3 9.45l-7.72 7.72c-.78.78-.78 2.05 0 2.83L4 21.41c.39.39.9.59 1.41.59.51 0 1.02-.2 1.41-.59l7.78-7.78 2.81-2.81c.8-.78.8-2.07 0-2.86zM5.41 20L4 18.59l7.72-7.72 1.47 1.35L5.41 20z\"/>\n",
              "  </svg>\n",
              "      </button>\n",
              "      \n",
              "  <style>\n",
              "    .colab-df-container {\n",
              "      display:flex;\n",
              "      flex-wrap:wrap;\n",
              "      gap: 12px;\n",
              "    }\n",
              "\n",
              "    .colab-df-convert {\n",
              "      background-color: #E8F0FE;\n",
              "      border: none;\n",
              "      border-radius: 50%;\n",
              "      cursor: pointer;\n",
              "      display: none;\n",
              "      fill: #1967D2;\n",
              "      height: 32px;\n",
              "      padding: 0 0 0 0;\n",
              "      width: 32px;\n",
              "    }\n",
              "\n",
              "    .colab-df-convert:hover {\n",
              "      background-color: #E2EBFA;\n",
              "      box-shadow: 0px 1px 2px rgba(60, 64, 67, 0.3), 0px 1px 3px 1px rgba(60, 64, 67, 0.15);\n",
              "      fill: #174EA6;\n",
              "    }\n",
              "\n",
              "    [theme=dark] .colab-df-convert {\n",
              "      background-color: #3B4455;\n",
              "      fill: #D2E3FC;\n",
              "    }\n",
              "\n",
              "    [theme=dark] .colab-df-convert:hover {\n",
              "      background-color: #434B5C;\n",
              "      box-shadow: 0px 1px 3px 1px rgba(0, 0, 0, 0.15);\n",
              "      filter: drop-shadow(0px 1px 2px rgba(0, 0, 0, 0.3));\n",
              "      fill: #FFFFFF;\n",
              "    }\n",
              "  </style>\n",
              "\n",
              "      <script>\n",
              "        const buttonEl =\n",
              "          document.querySelector('#df-2264f881-bb33-4f56-8263-22829ef9b44b button.colab-df-convert');\n",
              "        buttonEl.style.display =\n",
              "          google.colab.kernel.accessAllowed ? 'block' : 'none';\n",
              "\n",
              "        async function convertToInteractive(key) {\n",
              "          const element = document.querySelector('#df-2264f881-bb33-4f56-8263-22829ef9b44b');\n",
              "          const dataTable =\n",
              "            await google.colab.kernel.invokeFunction('convertToInteractive',\n",
              "                                                     [key], {});\n",
              "          if (!dataTable) return;\n",
              "\n",
              "          const docLinkHtml = 'Like what you see? Visit the ' +\n",
              "            '<a target=\"_blank\" href=https://colab.research.google.com/notebooks/data_table.ipynb>data table notebook</a>'\n",
              "            + ' to learn more about interactive tables.';\n",
              "          element.innerHTML = '';\n",
              "          dataTable['output_type'] = 'display_data';\n",
              "          await google.colab.output.renderOutput(dataTable, element);\n",
              "          const docLink = document.createElement('div');\n",
              "          docLink.innerHTML = docLinkHtml;\n",
              "          element.appendChild(docLink);\n",
              "        }\n",
              "      </script>\n",
              "    </div>\n",
              "  </div>\n",
              "  "
            ]
          },
          "metadata": {},
          "execution_count": 11
        }
      ],
      "source": [
        "stroke_data.describe()\n"
      ]
    },
    {
      "cell_type": "raw",
      "id": "9564ef34",
      "metadata": {
        "id": "9564ef34"
      },
      "source": []
    },
    {
      "cell_type": "code",
      "execution_count": null,
      "id": "2a3cdd73",
      "metadata": {
        "colab": {
          "base_uri": "https://localhost:8080/"
        },
        "id": "2a3cdd73",
        "outputId": "8ff009b3-6308-4337-83b0-5714093df876"
      },
      "outputs": [
        {
          "output_type": "execute_result",
          "data": {
            "text/plain": [
              "Index(['id', 'gender', 'age', 'hypertension', 'heart_disease', 'ever_married',\n",
              "       'work_type', 'Residence_type', 'avg_glucose_level', 'bmi',\n",
              "       'smoking_status', 'stroke'],\n",
              "      dtype='object')"
            ]
          },
          "metadata": {},
          "execution_count": 12
        }
      ],
      "source": [
        "stroke_data.columns"
      ]
    },
    {
      "cell_type": "code",
      "execution_count": null,
      "id": "8ce079af",
      "metadata": {
        "colab": {
          "base_uri": "https://localhost:8080/"
        },
        "id": "8ce079af",
        "outputId": "fe80c692-aea2-4872-a2c0-bc51942431c3"
      },
      "outputs": [
        {
          "output_type": "execute_result",
          "data": {
            "text/plain": [
              "2"
            ]
          },
          "metadata": {},
          "execution_count": 13
        }
      ],
      "source": [
        "stroke_data.stroke.nunique() #total no: different value"
      ]
    },
    {
      "cell_type": "code",
      "execution_count": null,
      "id": "53a470cf",
      "metadata": {
        "colab": {
          "base_uri": "https://localhost:8080/"
        },
        "id": "53a470cf",
        "outputId": "f61ff383-1961-4c53-d64a-95a61baff5bb"
      },
      "outputs": [
        {
          "output_type": "execute_result",
          "data": {
            "text/plain": [
              "array([1, 0])"
            ]
          },
          "metadata": {},
          "execution_count": 14
        }
      ],
      "source": [
        "stroke_data.stroke.unique() #different values"
      ]
    },
    {
      "cell_type": "code",
      "execution_count": null,
      "id": "d5ed6a0b",
      "metadata": {
        "colab": {
          "base_uri": "https://localhost:8080/"
        },
        "id": "d5ed6a0b",
        "outputId": "daffd360-1a88-4355-d0bc-c738cc664376"
      },
      "outputs": [
        {
          "output_type": "execute_result",
          "data": {
            "text/plain": [
              "0    95.127202\n",
              "1     4.872798\n",
              "Name: %, dtype: float64"
            ]
          },
          "metadata": {},
          "execution_count": 15
        }
      ],
      "source": [
        "stroke_data.stroke.value_counts().rename('count'), #counts no: occurence of different values\n",
        "stroke_data.stroke.value_counts(True).mul(100).rename(\"%\") #counts % of occurence of different values\n",
        "                    #True gives percentage in value_counts."
      ]
    },
    {
      "cell_type": "code",
      "execution_count": null,
      "id": "8784e1a3",
      "metadata": {
        "colab": {
          "base_uri": "https://localhost:8080/"
        },
        "id": "8784e1a3",
        "outputId": "98cf7f27-aab6-4aad-9ab9-290234fff238"
      },
      "outputs": [
        {
          "output_type": "execute_result",
          "data": {
            "text/plain": [
              "0    4861\n",
              "1     249\n",
              "Name: stroke, dtype: int64"
            ]
          },
          "metadata": {},
          "execution_count": 16
        }
      ],
      "source": [
        "stroke_data[\"stroke\"].value_counts() ##counts no: occurence of different values"
      ]
    },
    {
      "cell_type": "code",
      "execution_count": null,
      "id": "555dfed8",
      "metadata": {
        "colab": {
          "base_uri": "https://localhost:8080/"
        },
        "id": "555dfed8",
        "outputId": "58a395fd-d9e0-4f38-88e3-bb2320e48bc2"
      },
      "outputs": [
        {
          "output_type": "execute_result",
          "data": {
            "text/plain": [
              "2520    0\n",
              "4757    0\n",
              "574     0\n",
              "49      1\n",
              "448     0\n",
              "1070    0\n",
              "1455    0\n",
              "3549    0\n",
              "963     0\n",
              "2364    0\n",
              "5004    0\n",
              "4125    0\n",
              "2443    0\n",
              "1434    0\n",
              "4076    0\n",
              "384     0\n",
              "334     0\n",
              "4282    0\n",
              "2487    0\n",
              "4594    0\n",
              "Name: stroke, dtype: int64"
            ]
          },
          "metadata": {},
          "execution_count": 17
        }
      ],
      "source": [
        "stroke_data.stroke.sample(20) #randomly picks 20 records from stroke feature"
      ]
    },
    {
      "cell_type": "code",
      "execution_count": null,
      "id": "f49eb208",
      "metadata": {
        "scrolled": true,
        "colab": {
          "base_uri": "https://localhost:8080/",
          "height": 312
        },
        "id": "f49eb208",
        "outputId": "186d69ba-9785-4ff2-c43c-408fe35ea250"
      },
      "outputs": [
        {
          "output_type": "execute_result",
          "data": {
            "text/plain": [
              "Text(0.5, 1.0, 'Number of Patients')"
            ]
          },
          "metadata": {},
          "execution_count": 18
        },
        {
          "output_type": "display_data",
          "data": {
            "text/plain": [
              "<Figure size 432x288 with 1 Axes>"
            ],
            "image/png": "[encoded data removed]"
          },
          "metadata": {
            "needs_background": "light"
          }
        }
      ],
      "source": [
        "sns.countplot(data = stroke_data, x = 'stroke') #no: of occurences in graphical form\n",
        "plt.title('Number of Patients')"
      ]
    },
    {
      "cell_type": "code",
      "execution_count": null,
      "id": "81f22e04",
      "metadata": {
        "colab": {
          "base_uri": "https://localhost:8080/",
          "height": 312
        },
        "id": "81f22e04",
        "outputId": "50dc9aa7-033d-4426-ad73-d32bb671fe0c"
      },
      "outputs": [
        {
          "output_type": "execute_result",
          "data": {
            "text/plain": [
              "Text(0.5, 1.0, 'Number of Genders')"
            ]
          },
          "metadata": {},
          "execution_count": 19
        },
        {
          "output_type": "display_data",
          "data": {
            "text/plain": [
              "<Figure size 432x288 with 1 Axes>"
            ],
            "image/png": "[encoded data removed]"
          },
          "metadata": {
            "needs_background": "light"
          }
        }
      ],
      "source": [
        "sns.countplot(data = stroke_data,x = 'gender')\n",
        "plt.title('Number of Genders')"
      ]
    },
    {
      "cell_type": "code",
      "execution_count": null,
      "id": "b1576e18",
      "metadata": {
        "id": "b1576e18"
      },
      "outputs": [],
      "source": []
    },
    {
      "cell_type": "code",
      "execution_count": null,
      "id": "7fdbc0ff",
      "metadata": {
        "colab": {
          "base_uri": "https://localhost:8080/",
          "height": 424
        },
        "id": "7fdbc0ff",
        "outputId": "d26ab7ae-a1e0-4b18-bf91-1d12f5d05a31"
      },
      "outputs": [
        {
          "output_type": "execute_result",
          "data": {
            "text/plain": [
              "         id  gender    age  hypertension  heart_disease  ever_married  \\\n",
              "0     False   False  False         False          False         False   \n",
              "1     False   False  False         False          False         False   \n",
              "2     False   False  False         False          False         False   \n",
              "3     False   False  False         False          False         False   \n",
              "4     False   False  False         False          False         False   \n",
              "...     ...     ...    ...           ...            ...           ...   \n",
              "5105  False   False  False         False          False         False   \n",
              "5106  False   False  False         False          False         False   \n",
              "5107  False   False  False         False          False         False   \n",
              "5108  False   False  False         False          False         False   \n",
              "5109  False   False  False         False          False         False   \n",
              "\n",
              "      work_type  Residence_type  avg_glucose_level    bmi  smoking_status  \\\n",
              "0         False           False              False  False           False   \n",
              "1         False           False              False   True           False   \n",
              "2         False           False              False  False           False   \n",
              "3         False           False              False  False           False   \n",
              "4         False           False              False  False           False   \n",
              "...         ...             ...                ...    ...             ...   \n",
              "5105      False           False              False   True           False   \n",
              "5106      False           False              False  False           False   \n",
              "5107      False           False              False  False           False   \n",
              "5108      False           False              False  False           False   \n",
              "5109      False           False              False  False           False   \n",
              "\n",
              "      stroke  \n",
              "0      False  \n",
              "1      False  \n",
              "2      False  \n",
              "3      False  \n",
              "4      False  \n",
              "...      ...  \n",
              "5105   False  \n",
              "5106   False  \n",
              "5107   False  \n",
              "5108   False  \n",
              "5109   False  \n",
              "\n",
              "[5110 rows x 12 columns]"
            ],
            "text/html": [
              "\n",
              "  <div id=\"df-eeb55bb2-18f2-4030-999d-0c66278cdaaa\">\n",
              "    <div class=\"colab-df-container\">\n",
              "      <div>\n",
              "<style scoped>\n",
              "    .dataframe tbody tr th:only-of-type {\n",
              "        vertical-align: middle;\n",
              "    }\n",
              "\n",
              "    .dataframe tbody tr th {\n",
              "        vertical-align: top;\n",
              "    }\n",
              "\n",
              "    .dataframe thead th {\n",
              "        text-align: right;\n",
              "    }\n",
              "</style>\n",
              "<table border=\"1\" class=\"dataframe\">\n",
              "  <thead>\n",
              "    <tr style=\"text-align: right;\">\n",
              "      <th></th>\n",
              "      <th>id</th>\n",
              "      <th>gender</th>\n",
              "      <th>age</th>\n",
              "      <th>hypertension</th>\n",
              "      <th>heart_disease</th>\n",
              "      <th>ever_married</th>\n",
              "      <th>work_type</th>\n",
              "      <th>Residence_type</th>\n",
              "      <th>avg_glucose_level</th>\n",
              "      <th>bmi</th>\n",
              "      <th>smoking_status</th>\n",
              "      <th>stroke</th>\n",
              "    </tr>\n",
              "  </thead>\n",
              "  <tbody>\n",
              "    <tr>\n",
              "      <th>0</th>\n",
              "      <td>False</td>\n",
              "      <td>False</td>\n",
              "      <td>False</td>\n",
              "      <td>False</td>\n",
              "      <td>False</td>\n",
              "      <td>False</td>\n",
              "      <td>False</td>\n",
              "      <td>False</td>\n",
              "      <td>False</td>\n",
              "      <td>False</td>\n",
              "      <td>False</td>\n",
              "      <td>False</td>\n",
              "    </tr>\n",
              "    <tr>\n",
              "      <th>1</th>\n",
              "      <td>False</td>\n",
              "      <td>False</td>\n",
              "      <td>False</td>\n",
              "      <td>False</td>\n",
              "      <td>False</td>\n",
              "      <td>False</td>\n",
              "      <td>False</td>\n",
              "      <td>False</td>\n",
              "      <td>False</td>\n",
              "      <td>True</td>\n",
              "      <td>False</td>\n",
              "      <td>False</td>\n",
              "    </tr>\n",
              "    <tr>\n",
              "      <th>2</th>\n",
              "      <td>False</td>\n",
              "      <td>False</td>\n",
              "      <td>False</td>\n",
              "      <td>False</td>\n",
              "      <td>False</td>\n",
              "      <td>False</td>\n",
              "      <td>False</td>\n",
              "      <td>False</td>\n",
              "      <td>False</td>\n",
              "      <td>False</td>\n",
              "      <td>False</td>\n",
              "      <td>False</td>\n",
              "    </tr>\n",
              "    <tr>\n",
              "      <th>3</th>\n",
              "      <td>False</td>\n",
              "      <td>False</td>\n",
              "      <td>False</td>\n",
              "      <td>False</td>\n",
              "      <td>False</td>\n",
              "      <td>False</td>\n",
              "      <td>False</td>\n",
              "      <td>False</td>\n",
              "      <td>False</td>\n",
              "      <td>False</td>\n",
              "      <td>False</td>\n",
              "      <td>False</td>\n",
              "    </tr>\n",
              "    <tr>\n",
              "      <th>4</th>\n",
              "      <td>False</td>\n",
              "      <td>False</td>\n",
              "      <td>False</td>\n",
              "      <td>False</td>\n",
              "      <td>False</td>\n",
              "      <td>False</td>\n",
              "      <td>False</td>\n",
              "      <td>False</td>\n",
              "      <td>False</td>\n",
              "      <td>False</td>\n",
              "      <td>False</td>\n",
              "      <td>False</td>\n",
              "    </tr>\n",
              "    <tr>\n",
              "      <th>...</th>\n",
              "      <td>...</td>\n",
              "      <td>...</td>\n",
              "      <td>...</td>\n",
              "      <td>...</td>\n",
              "      <td>...</td>\n",
              "      <td>...</td>\n",
              "      <td>...</td>\n",
              "      <td>...</td>\n",
              "      <td>...</td>\n",
              "      <td>...</td>\n",
              "      <td>...</td>\n",
              "      <td>...</td>\n",
              "    </tr>\n",
              "    <tr>\n",
              "      <th>5105</th>\n",
              "      <td>False</td>\n",
              "      <td>False</td>\n",
              "      <td>False</td>\n",
              "      <td>False</td>\n",
              "      <td>False</td>\n",
              "      <td>False</td>\n",
              "      <td>False</td>\n",
              "      <td>False</td>\n",
              "      <td>False</td>\n",
              "      <td>True</td>\n",
              "      <td>False</td>\n",
              "      <td>False</td>\n",
              "    </tr>\n",
              "    <tr>\n",
              "      <th>5106</th>\n",
              "      <td>False</td>\n",
              "      <td>False</td>\n",
              "      <td>False</td>\n",
              "      <td>False</td>\n",
              "      <td>False</td>\n",
              "      <td>False</td>\n",
              "      <td>False</td>\n",
              "      <td>False</td>\n",
              "      <td>False</td>\n",
              "      <td>False</td>\n",
              "      <td>False</td>\n",
              "      <td>False</td>\n",
              "    </tr>\n",
              "    <tr>\n",
              "      <th>5107</th>\n",
              "      <td>False</td>\n",
              "      <td>False</td>\n",
              "      <td>False</td>\n",
              "      <td>False</td>\n",
              "      <td>False</td>\n",
              "      <td>False</td>\n",
              "      <td>False</td>\n",
              "      <td>False</td>\n",
              "      <td>False</td>\n",
              "      <td>False</td>\n",
              "      <td>False</td>\n",
              "      <td>False</td>\n",
              "    </tr>\n",
              "    <tr>\n",
              "      <th>5108</th>\n",
              "      <td>False</td>\n",
              "      <td>False</td>\n",
              "      <td>False</td>\n",
              "      <td>False</td>\n",
              "      <td>False</td>\n",
              "      <td>False</td>\n",
              "      <td>False</td>\n",
              "      <td>False</td>\n",
              "      <td>False</td>\n",
              "      <td>False</td>\n",
              "      <td>False</td>\n",
              "      <td>False</td>\n",
              "    </tr>\n",
              "    <tr>\n",
              "      <th>5109</th>\n",
              "      <td>False</td>\n",
              "      <td>False</td>\n",
              "      <td>False</td>\n",
              "      <td>False</td>\n",
              "      <td>False</td>\n",
              "      <td>False</td>\n",
              "      <td>False</td>\n",
              "      <td>False</td>\n",
              "      <td>False</td>\n",
              "      <td>False</td>\n",
              "      <td>False</td>\n",
              "      <td>False</td>\n",
              "    </tr>\n",
              "  </tbody>\n",
              "</table>\n",
              "<p>5110 rows × 12 columns</p>\n",
              "</div>\n",
              "      <button class=\"colab-df-convert\" onclick=\"convertToInteractive('df-eeb55bb2-18f2-4030-999d-0c66278cdaaa')\"\n",
              "              title=\"Convert this dataframe to an interactive table.\"\n",
              "              style=\"display:none;\">\n",
              "        \n",
              "  <svg xmlns=\"http://www.w3.org/2000/svg\" height=\"24px\"viewBox=\"0 0 24 24\"\n",
              "       width=\"24px\">\n",
              "    <path d=\"M0 0h24v24H0V0z\" fill=\"none\"/>\n",
              "    <path d=\"M18.56 5.44l.94 2.06.94-2.06 2.06-.94-2.06-.94-.94-2.06-.94 2.06-2.06.94zm-11 1L8.5 8.5l.94-2.06 2.06-.94-2.06-.94L8.5 2.5l-.94 2.06-2.06.94zm10 10l.94 2.06.94-2.06 2.06-.94-2.06-.94-.94-2.06-.94 2.06-2.06.94z\"/><path d=\"M17.41 7.96l-1.37-1.37c-.4-.4-.92-.59-1.43-.59-.52 0-1.04.2-1.43.59L10.3 9.45l-7.72 7.72c-.78.78-.78 2.05 0 2.83L4 21.41c.39.39.9.59 1.41.59.51 0 1.02-.2 1.41-.59l7.78-7.78 2.81-2.81c.8-.78.8-2.07 0-2.86zM5.41 20L4 18.59l7.72-7.72 1.47 1.35L5.41 20z\"/>\n",
              "  </svg>\n",
              "      </button>\n",
              "      \n",
              "  <style>\n",
              "    .colab-df-container {\n",
              "      display:flex;\n",
              "      flex-wrap:wrap;\n",
              "      gap: 12px;\n",
              "    }\n",
              "\n",
              "    .colab-df-convert {\n",
              "      background-color: #E8F0FE;\n",
              "      border: none;\n",
              "      border-radius: 50%;\n",
              "      cursor: pointer;\n",
              "      display: none;\n",
              "      fill: #1967D2;\n",
              "      height: 32px;\n",
              "      padding: 0 0 0 0;\n",
              "      width: 32px;\n",
              "    }\n",
              "\n",
              "    .colab-df-convert:hover {\n",
              "      background-color: #E2EBFA;\n",
              "      box-shadow: 0px 1px 2px rgba(60, 64, 67, 0.3), 0px 1px 3px 1px rgba(60, 64, 67, 0.15);\n",
              "      fill: #174EA6;\n",
              "    }\n",
              "\n",
              "    [theme=dark] .colab-df-convert {\n",
              "      background-color: #3B4455;\n",
              "      fill: #D2E3FC;\n",
              "    }\n",
              "\n",
              "    [theme=dark] .colab-df-convert:hover {\n",
              "      background-color: #434B5C;\n",
              "      box-shadow: 0px 1px 3px 1px rgba(0, 0, 0, 0.15);\n",
              "      filter: drop-shadow(0px 1px 2px rgba(0, 0, 0, 0.3));\n",
              "      fill: #FFFFFF;\n",
              "    }\n",
              "  </style>\n",
              "\n",
              "      <script>\n",
              "        const buttonEl =\n",
              "          document.querySelector('#df-eeb55bb2-18f2-4030-999d-0c66278cdaaa button.colab-df-convert');\n",
              "        buttonEl.style.display =\n",
              "          google.colab.kernel.accessAllowed ? 'block' : 'none';\n",
              "\n",
              "        async function convertToInteractive(key) {\n",
              "          const element = document.querySelector('#df-eeb55bb2-18f2-4030-999d-0c66278cdaaa');\n",
              "          const dataTable =\n",
              "            await google.colab.kernel.invokeFunction('convertToInteractive',\n",
              "                                                     [key], {});\n",
              "          if (!dataTable) return;\n",
              "\n",
              "          const docLinkHtml = 'Like what you see? Visit the ' +\n",
              "            '<a target=\"_blank\" href=https://colab.research.google.com/notebooks/data_table.ipynb>data table notebook</a>'\n",
              "            + ' to learn more about interactive tables.';\n",
              "          element.innerHTML = '';\n",
              "          dataTable['output_type'] = 'display_data';\n",
              "          await google.colab.output.renderOutput(dataTable, element);\n",
              "          const docLink = document.createElement('div');\n",
              "          docLink.innerHTML = docLinkHtml;\n",
              "          element.appendChild(docLink);\n",
              "        }\n",
              "      </script>\n",
              "    </div>\n",
              "  </div>\n",
              "  "
            ]
          },
          "metadata": {},
          "execution_count": 20
        }
      ],
      "source": [
        "stroke_data.isnull()"
      ]
    },
    {
      "cell_type": "code",
      "execution_count": null,
      "id": "95cbab03",
      "metadata": {
        "colab": {
          "base_uri": "https://localhost:8080/"
        },
        "id": "95cbab03",
        "outputId": "1cfcb3ba-e1af-46bb-99c5-b488eb9e833f"
      },
      "outputs": [
        {
          "output_type": "execute_result",
          "data": {
            "text/plain": [
              "id                   False\n",
              "gender               False\n",
              "age                  False\n",
              "hypertension         False\n",
              "heart_disease        False\n",
              "ever_married         False\n",
              "work_type            False\n",
              "Residence_type       False\n",
              "avg_glucose_level    False\n",
              "bmi                   True\n",
              "smoking_status       False\n",
              "stroke               False\n",
              "dtype: bool"
            ]
          },
          "metadata": {},
          "execution_count": 21
        }
      ],
      "source": [
        "stroke_data.isnull().any()"
      ]
    },
    {
      "cell_type": "code",
      "execution_count": null,
      "id": "9c0d66cb",
      "metadata": {
        "scrolled": true,
        "id": "9c0d66cb"
      },
      "outputs": [],
      "source": []
    },
    {
      "cell_type": "code",
      "execution_count": null,
      "id": "6a88a455",
      "metadata": {
        "colab": {
          "base_uri": "https://localhost:8080/"
        },
        "id": "6a88a455",
        "outputId": "67c4494a-0c58-407b-d93d-980f737533ab"
      },
      "outputs": [
        {
          "output_type": "stream",
          "name": "stdout",
          "text": [
            "Missing data sum: \n"
          ]
        },
        {
          "output_type": "execute_result",
          "data": {
            "text/plain": [
              "id                     0\n",
              "gender                 0\n",
              "age                    0\n",
              "hypertension           0\n",
              "heart_disease          0\n",
              "ever_married           0\n",
              "work_type              0\n",
              "Residence_type         0\n",
              "avg_glucose_level      0\n",
              "bmi                  201\n",
              "smoking_status         0\n",
              "stroke                 0\n",
              "dtype: int64"
            ]
          },
          "metadata": {},
          "execution_count": 22
        }
      ],
      "source": [
        "print('Missing data sum: ')\n",
        "stroke_data.isnull().sum()"
      ]
    },
    {
      "cell_type": "code",
      "execution_count": null,
      "id": "df5ada0f",
      "metadata": {
        "colab": {
          "base_uri": "https://localhost:8080/"
        },
        "id": "df5ada0f",
        "outputId": "b18eba52-a815-456f-bf39-0c2b5d9c07c0"
      },
      "outputs": [
        {
          "output_type": "stream",
          "name": "stdout",
          "text": [
            "Missing Data Percentage:\n"
          ]
        },
        {
          "output_type": "execute_result",
          "data": {
            "text/plain": [
              "id                   0.00000\n",
              "gender               0.00000\n",
              "age                  0.00000\n",
              "hypertension         0.00000\n",
              "heart_disease        0.00000\n",
              "ever_married         0.00000\n",
              "work_type            0.00000\n",
              "Residence_type       0.00000\n",
              "avg_glucose_level    0.00000\n",
              "bmi                  4.09452\n",
              "smoking_status       0.00000\n",
              "stroke               0.00000\n",
              "dtype: float64"
            ]
          },
          "metadata": {},
          "execution_count": 23
        }
      ],
      "source": [
        "print('Missing Data Percentage:')\n",
        "(stroke_data.isnull().sum()/stroke_data.count()).mul(100)"
      ]
    },
    {
      "cell_type": "code",
      "execution_count": null,
      "id": "5c05709d",
      "metadata": {
        "colab": {
          "base_uri": "https://localhost:8080/"
        },
        "id": "5c05709d",
        "outputId": "94987fed-3c37-4cf8-f446-1b37e63ec768"
      },
      "outputs": [
        {
          "output_type": "stream",
          "name": "stdout",
          "text": [
            "categorical features: ['gender', 'ever_married', 'work_type', 'Residence_type', 'smoking_status']\n"
          ]
        }
      ],
      "source": [
        "categorical_features = [feature for feature in stroke_data.columns if stroke_data[feature].dtype == 'O']\n",
        "print('categorical features:',categorical_features)\n"
      ]
    },
    {
      "cell_type": "code",
      "execution_count": null,
      "id": "64ebe4f3",
      "metadata": {
        "colab": {
          "base_uri": "https://localhost:8080/"
        },
        "id": "64ebe4f3",
        "outputId": "0dfc22b8-a9c0-4df9-a6d5-cc2518a4ace6"
      },
      "outputs": [
        {
          "output_type": "execute_result",
          "data": {
            "text/plain": [
              "['id',\n",
              " 'age',\n",
              " 'hypertension',\n",
              " 'heart_disease',\n",
              " 'avg_glucose_level',\n",
              " 'bmi',\n",
              " 'stroke']"
            ]
          },
          "metadata": {},
          "execution_count": 25
        }
      ],
      "source": [
        "numerical_features = [feature for feature in stroke_data.columns if stroke_data[feature].dtype != 'object']\n",
        "numerical_features\n"
      ]
    },
    {
      "cell_type": "code",
      "execution_count": null,
      "id": "5cdc4638",
      "metadata": {
        "colab": {
          "base_uri": "https://localhost:8080/",
          "height": 206
        },
        "id": "5cdc4638",
        "outputId": "bed884e0-95a5-4b92-dae4-2a296ae48d11"
      },
      "outputs": [
        {
          "output_type": "execute_result",
          "data": {
            "text/plain": [
              "                0\n",
              "0          gender\n",
              "1    ever_married\n",
              "2       work_type\n",
              "3  Residence_type\n",
              "4  smoking_status"
            ],
            "text/html": [
              "\n",
              "  <div id=\"df-83d489e9-f15c-4bfc-9b47-4b95d8df7ed1\">\n",
              "    <div class=\"colab-df-container\">\n",
              "      <div>\n",
              "<style scoped>\n",
              "    .dataframe tbody tr th:only-of-type {\n",
              "        vertical-align: middle;\n",
              "    }\n",
              "\n",
              "    .dataframe tbody tr th {\n",
              "        vertical-align: top;\n",
              "    }\n",
              "\n",
              "    .dataframe thead th {\n",
              "        text-align: right;\n",
              "    }\n",
              "</style>\n",
              "<table border=\"1\" class=\"dataframe\">\n",
              "  <thead>\n",
              "    <tr style=\"text-align: right;\">\n",
              "      <th></th>\n",
              "      <th>0</th>\n",
              "    </tr>\n",
              "  </thead>\n",
              "  <tbody>\n",
              "    <tr>\n",
              "      <th>0</th>\n",
              "      <td>gender</td>\n",
              "    </tr>\n",
              "    <tr>\n",
              "      <th>1</th>\n",
              "      <td>ever_married</td>\n",
              "    </tr>\n",
              "    <tr>\n",
              "      <th>2</th>\n",
              "      <td>work_type</td>\n",
              "    </tr>\n",
              "    <tr>\n",
              "      <th>3</th>\n",
              "      <td>Residence_type</td>\n",
              "    </tr>\n",
              "    <tr>\n",
              "      <th>4</th>\n",
              "      <td>smoking_status</td>\n",
              "    </tr>\n",
              "  </tbody>\n",
              "</table>\n",
              "</div>\n",
              "      <button class=\"colab-df-convert\" onclick=\"convertToInteractive('df-83d489e9-f15c-4bfc-9b47-4b95d8df7ed1')\"\n",
              "              title=\"Convert this dataframe to an interactive table.\"\n",
              "              style=\"display:none;\">\n",
              "        \n",
              "  <svg xmlns=\"http://www.w3.org/2000/svg\" height=\"24px\"viewBox=\"0 0 24 24\"\n",
              "       width=\"24px\">\n",
              "    <path d=\"M0 0h24v24H0V0z\" fill=\"none\"/>\n",
              "    <path d=\"M18.56 5.44l.94 2.06.94-2.06 2.06-.94-2.06-.94-.94-2.06-.94 2.06-2.06.94zm-11 1L8.5 8.5l.94-2.06 2.06-.94-2.06-.94L8.5 2.5l-.94 2.06-2.06.94zm10 10l.94 2.06.94-2.06 2.06-.94-2.06-.94-.94-2.06-.94 2.06-2.06.94z\"/><path d=\"M17.41 7.96l-1.37-1.37c-.4-.4-.92-.59-1.43-.59-.52 0-1.04.2-1.43.59L10.3 9.45l-7.72 7.72c-.78.78-.78 2.05 0 2.83L4 21.41c.39.39.9.59 1.41.59.51 0 1.02-.2 1.41-.59l7.78-7.78 2.81-2.81c.8-.78.8-2.07 0-2.86zM5.41 20L4 18.59l7.72-7.72 1.47 1.35L5.41 20z\"/>\n",
              "  </svg>\n",
              "      </button>\n",
              "      \n",
              "  <style>\n",
              "    .colab-df-container {\n",
              "      display:flex;\n",
              "      flex-wrap:wrap;\n",
              "      gap: 12px;\n",
              "    }\n",
              "\n",
              "    .colab-df-convert {\n",
              "      background-color: #E8F0FE;\n",
              "      border: none;\n",
              "      border-radius: 50%;\n",
              "      cursor: pointer;\n",
              "      display: none;\n",
              "      fill: #1967D2;\n",
              "      height: 32px;\n",
              "      padding: 0 0 0 0;\n",
              "      width: 32px;\n",
              "    }\n",
              "\n",
              "    .colab-df-convert:hover {\n",
              "      background-color: #E2EBFA;\n",
              "      box-shadow: 0px 1px 2px rgba(60, 64, 67, 0.3), 0px 1px 3px 1px rgba(60, 64, 67, 0.15);\n",
              "      fill: #174EA6;\n",
              "    }\n",
              "\n",
              "    [theme=dark] .colab-df-convert {\n",
              "      background-color: #3B4455;\n",
              "      fill: #D2E3FC;\n",
              "    }\n",
              "\n",
              "    [theme=dark] .colab-df-convert:hover {\n",
              "      background-color: #434B5C;\n",
              "      box-shadow: 0px 1px 3px 1px rgba(0, 0, 0, 0.15);\n",
              "      filter: drop-shadow(0px 1px 2px rgba(0, 0, 0, 0.3));\n",
              "      fill: #FFFFFF;\n",
              "    }\n",
              "  </style>\n",
              "\n",
              "      <script>\n",
              "        const buttonEl =\n",
              "          document.querySelector('#df-83d489e9-f15c-4bfc-9b47-4b95d8df7ed1 button.colab-df-convert');\n",
              "        buttonEl.style.display =\n",
              "          google.colab.kernel.accessAllowed ? 'block' : 'none';\n",
              "\n",
              "        async function convertToInteractive(key) {\n",
              "          const element = document.querySelector('#df-83d489e9-f15c-4bfc-9b47-4b95d8df7ed1');\n",
              "          const dataTable =\n",
              "            await google.colab.kernel.invokeFunction('convertToInteractive',\n",
              "                                                     [key], {});\n",
              "          if (!dataTable) return;\n",
              "\n",
              "          const docLinkHtml = 'Like what you see? Visit the ' +\n",
              "            '<a target=\"_blank\" href=https://colab.research.google.com/notebooks/data_table.ipynb>data table notebook</a>'\n",
              "            + ' to learn more about interactive tables.';\n",
              "          element.innerHTML = '';\n",
              "          dataTable['output_type'] = 'display_data';\n",
              "          await google.colab.output.renderOutput(dataTable, element);\n",
              "          const docLink = document.createElement('div');\n",
              "          docLink.innerHTML = docLinkHtml;\n",
              "          element.appendChild(docLink);\n",
              "        }\n",
              "      </script>\n",
              "    </div>\n",
              "  </div>\n",
              "  "
            ]
          },
          "metadata": {},
          "execution_count": 26
        }
      ],
      "source": [
        "cd = pd.DataFrame(categorical_features)\n",
        "cd.head()\n"
      ]
    },
    {
      "cell_type": "code",
      "execution_count": null,
      "id": "95987290",
      "metadata": {
        "id": "95987290"
      },
      "outputs": [],
      "source": []
    },
    {
      "cell_type": "code",
      "execution_count": null,
      "id": "79fb5531",
      "metadata": {
        "colab": {
          "base_uri": "https://localhost:8080/"
        },
        "id": "79fb5531",
        "outputId": "25d9da13-7b89-46e1-d090-7e8c69e70868"
      },
      "outputs": [
        {
          "output_type": "execute_result",
          "data": {
            "text/plain": [
              "5107"
            ]
          },
          "metadata": {},
          "execution_count": 27
        }
      ],
      "source": [
        "stroke_data.gender.duplicated().sum()"
      ]
    },
    {
      "cell_type": "code",
      "execution_count": null,
      "id": "d78dde1a",
      "metadata": {
        "colab": {
          "base_uri": "https://localhost:8080/"
        },
        "id": "d78dde1a",
        "outputId": "2d238f76-28fa-46b9-bd30-16857d55cbb8"
      },
      "outputs": [
        {
          "output_type": "execute_result",
          "data": {
            "text/plain": [
              "0       False\n",
              "1       False\n",
              "2       False\n",
              "3       False\n",
              "4       False\n",
              "        ...  \n",
              "5105    False\n",
              "5106    False\n",
              "5107    False\n",
              "5108    False\n",
              "5109    False\n",
              "Length: 5110, dtype: bool"
            ]
          },
          "metadata": {},
          "execution_count": 28
        }
      ],
      "source": [
        "stroke_data.duplicated()"
      ]
    },
    {
      "cell_type": "code",
      "execution_count": null,
      "id": "1dad5af4",
      "metadata": {
        "colab": {
          "base_uri": "https://localhost:8080/"
        },
        "id": "1dad5af4",
        "outputId": "209c4a51-3e39-42d6-cb8f-8da1ed3f3225"
      },
      "outputs": [
        {
          "output_type": "execute_result",
          "data": {
            "text/plain": [
              "array(['Yes', 'No'], dtype=object)"
            ]
          },
          "metadata": {},
          "execution_count": 29
        }
      ],
      "source": [
        "stroke_data.ever_married.unique()"
      ]
    },
    {
      "cell_type": "code",
      "execution_count": null,
      "id": "6865f206",
      "metadata": {
        "colab": {
          "base_uri": "https://localhost:8080/"
        },
        "id": "6865f206",
        "outputId": "bbccb6f5-3924-45a1-bd2f-b60099c4dd00"
      },
      "outputs": [
        {
          "output_type": "execute_result",
          "data": {
            "text/plain": [
              "array(['Private', 'Self-employed', 'Govt_job', 'children', 'Never_worked'],\n",
              "      dtype=object)"
            ]
          },
          "metadata": {},
          "execution_count": 30
        }
      ],
      "source": [
        "stroke_data.work_type.unique()"
      ]
    },
    {
      "cell_type": "code",
      "execution_count": null,
      "id": "f979f9d3",
      "metadata": {
        "colab": {
          "base_uri": "https://localhost:8080/"
        },
        "id": "f979f9d3",
        "outputId": "a25f862a-6179-44c3-ddc1-eabb375b1e52"
      },
      "outputs": [
        {
          "output_type": "execute_result",
          "data": {
            "text/plain": [
              "array(['formerly smoked', 'never smoked', 'smokes', 'Unknown'],\n",
              "      dtype=object)"
            ]
          },
          "metadata": {},
          "execution_count": 31
        }
      ],
      "source": [
        "stroke_data.smoking_status.unique()"
      ]
    },
    {
      "cell_type": "code",
      "execution_count": null,
      "id": "553ff8f2",
      "metadata": {
        "colab": {
          "base_uri": "https://localhost:8080/"
        },
        "id": "553ff8f2",
        "outputId": "cdbb3c5a-9a60-4a33-f88c-d26945f482eb"
      },
      "outputs": [
        {
          "output_type": "execute_result",
          "data": {
            "text/plain": [
              "array(['Urban', 'Rural'], dtype=object)"
            ]
          },
          "metadata": {},
          "execution_count": 32
        }
      ],
      "source": [
        "stroke_data.Residence_type.unique()"
      ]
    },
    {
      "cell_type": "code",
      "execution_count": null,
      "id": "3d342c81",
      "metadata": {
        "colab": {
          "base_uri": "https://localhost:8080/"
        },
        "id": "3d342c81",
        "outputId": "78a34828-0f33-41b8-e5dd-bbc90ba0c166"
      },
      "outputs": [
        {
          "output_type": "execute_result",
          "data": {
            "text/plain": [
              "418"
            ]
          },
          "metadata": {},
          "execution_count": 33
        }
      ],
      "source": [
        "stroke_data.bmi.nunique()"
      ]
    },
    {
      "cell_type": "code",
      "execution_count": null,
      "id": "2ab16224",
      "metadata": {
        "colab": {
          "base_uri": "https://localhost:8080/"
        },
        "id": "2ab16224",
        "outputId": "91c34dfe-00a0-4aa3-e726-f2f968aef916"
      },
      "outputs": [
        {
          "output_type": "execute_result",
          "data": {
            "text/plain": [
              "3979"
            ]
          },
          "metadata": {},
          "execution_count": 34
        }
      ],
      "source": [
        "stroke_data.avg_glucose_level.nunique()"
      ]
    },
    {
      "cell_type": "code",
      "execution_count": null,
      "id": "4bc771dc",
      "metadata": {
        "colab": {
          "base_uri": "https://localhost:8080/",
          "height": 597
        },
        "id": "4bc771dc",
        "outputId": "f4d17266-1655-4151-9e20-af82fc023bdb"
      },
      "outputs": [
        {
          "output_type": "execute_result",
          "data": {
            "text/plain": [
              "[Text(0.5, 1.0, 'Correlation Matrix')]"
            ]
          },
          "metadata": {},
          "execution_count": 35
        },
        {
          "output_type": "display_data",
          "data": {
            "text/plain": [
              "<Figure size 576x576 with 2 Axes>"
            ],
            "image/png": "[encoded data removed]"
          },
          "metadata": {
            "needs_background": "light"
          }
        }
      ],
      "source": [
        "corr = stroke_data.corr().round(2)\n",
        "plt.figure(figsize=(8,8))\n",
        "sns.heatmap(data = corr, annot =True, cmap='Spectral').set(title='Correlation Matrix') #Annot = gives numbers over colors, cmap = group/list of colors"
      ]
    },
    {
      "cell_type": "code",
      "execution_count": null,
      "id": "029279ad",
      "metadata": {
        "colab": {
          "base_uri": "https://localhost:8080/",
          "height": 269
        },
        "id": "029279ad",
        "outputId": "77bb4870-7f42-4940-9791-b089cd0684c2"
      },
      "outputs": [
        {
          "output_type": "execute_result",
          "data": {
            "text/plain": [
              "                     id   age  hypertension  heart_disease  avg_glucose_level  \\\n",
              "id                 1.00  0.00          0.00          -0.00               0.00   \n",
              "age                0.00  1.00          0.28           0.26               0.24   \n",
              "hypertension       0.00  0.28          1.00           0.11               0.17   \n",
              "heart_disease     -0.00  0.26          0.11           1.00               0.16   \n",
              "avg_glucose_level  0.00  0.24          0.17           0.16               1.00   \n",
              "bmi                0.00  0.33          0.17           0.04               0.18   \n",
              "stroke             0.01  0.25          0.13           0.13               0.13   \n",
              "\n",
              "                    bmi  stroke  \n",
              "id                 0.00    0.01  \n",
              "age                0.33    0.25  \n",
              "hypertension       0.17    0.13  \n",
              "heart_disease      0.04    0.13  \n",
              "avg_glucose_level  0.18    0.13  \n",
              "bmi                1.00    0.04  \n",
              "stroke             0.04    1.00  "
            ],
            "text/html": [
              "\n",
              "  <div id=\"df-189a3baf-036a-4b5f-abdb-e7b3846525f3\">\n",
              "    <div class=\"colab-df-container\">\n",
              "      <div>\n",
              "<style scoped>\n",
              "    .dataframe tbody tr th:only-of-type {\n",
              "        vertical-align: middle;\n",
              "    }\n",
              "\n",
              "    .dataframe tbody tr th {\n",
              "        vertical-align: top;\n",
              "    }\n",
              "\n",
              "    .dataframe thead th {\n",
              "        text-align: right;\n",
              "    }\n",
              "</style>\n",
              "<table border=\"1\" class=\"dataframe\">\n",
              "  <thead>\n",
              "    <tr style=\"text-align: right;\">\n",
              "      <th></th>\n",
              "      <th>id</th>\n",
              "      <th>age</th>\n",
              "      <th>hypertension</th>\n",
              "      <th>heart_disease</th>\n",
              "      <th>avg_glucose_level</th>\n",
              "      <th>bmi</th>\n",
              "      <th>stroke</th>\n",
              "    </tr>\n",
              "  </thead>\n",
              "  <tbody>\n",
              "    <tr>\n",
              "      <th>id</th>\n",
              "      <td>1.00</td>\n",
              "      <td>0.00</td>\n",
              "      <td>0.00</td>\n",
              "      <td>-0.00</td>\n",
              "      <td>0.00</td>\n",
              "      <td>0.00</td>\n",
              "      <td>0.01</td>\n",
              "    </tr>\n",
              "    <tr>\n",
              "      <th>age</th>\n",
              "      <td>0.00</td>\n",
              "      <td>1.00</td>\n",
              "      <td>0.28</td>\n",
              "      <td>0.26</td>\n",
              "      <td>0.24</td>\n",
              "      <td>0.33</td>\n",
              "      <td>0.25</td>\n",
              "    </tr>\n",
              "    <tr>\n",
              "      <th>hypertension</th>\n",
              "      <td>0.00</td>\n",
              "      <td>0.28</td>\n",
              "      <td>1.00</td>\n",
              "      <td>0.11</td>\n",
              "      <td>0.17</td>\n",
              "      <td>0.17</td>\n",
              "      <td>0.13</td>\n",
              "    </tr>\n",
              "    <tr>\n",
              "      <th>heart_disease</th>\n",
              "      <td>-0.00</td>\n",
              "      <td>0.26</td>\n",
              "      <td>0.11</td>\n",
              "      <td>1.00</td>\n",
              "      <td>0.16</td>\n",
              "      <td>0.04</td>\n",
              "      <td>0.13</td>\n",
              "    </tr>\n",
              "    <tr>\n",
              "      <th>avg_glucose_level</th>\n",
              "      <td>0.00</td>\n",
              "      <td>0.24</td>\n",
              "      <td>0.17</td>\n",
              "      <td>0.16</td>\n",
              "      <td>1.00</td>\n",
              "      <td>0.18</td>\n",
              "      <td>0.13</td>\n",
              "    </tr>\n",
              "    <tr>\n",
              "      <th>bmi</th>\n",
              "      <td>0.00</td>\n",
              "      <td>0.33</td>\n",
              "      <td>0.17</td>\n",
              "      <td>0.04</td>\n",
              "      <td>0.18</td>\n",
              "      <td>1.00</td>\n",
              "      <td>0.04</td>\n",
              "    </tr>\n",
              "    <tr>\n",
              "      <th>stroke</th>\n",
              "      <td>0.01</td>\n",
              "      <td>0.25</td>\n",
              "      <td>0.13</td>\n",
              "      <td>0.13</td>\n",
              "      <td>0.13</td>\n",
              "      <td>0.04</td>\n",
              "      <td>1.00</td>\n",
              "    </tr>\n",
              "  </tbody>\n",
              "</table>\n",
              "</div>\n",
              "      <button class=\"colab-df-convert\" onclick=\"convertToInteractive('df-189a3baf-036a-4b5f-abdb-e7b3846525f3')\"\n",
              "              title=\"Convert this dataframe to an interactive table.\"\n",
              "              style=\"display:none;\">\n",
              "        \n",
              "  <svg xmlns=\"http://www.w3.org/2000/svg\" height=\"24px\"viewBox=\"0 0 24 24\"\n",
              "       width=\"24px\">\n",
              "    <path d=\"M0 0h24v24H0V0z\" fill=\"none\"/>\n",
              "    <path d=\"M18.56 5.44l.94 2.06.94-2.06 2.06-.94-2.06-.94-.94-2.06-.94 2.06-2.06.94zm-11 1L8.5 8.5l.94-2.06 2.06-.94-2.06-.94L8.5 2.5l-.94 2.06-2.06.94zm10 10l.94 2.06.94-2.06 2.06-.94-2.06-.94-.94-2.06-.94 2.06-2.06.94z\"/><path d=\"M17.41 7.96l-1.37-1.37c-.4-.4-.92-.59-1.43-.59-.52 0-1.04.2-1.43.59L10.3 9.45l-7.72 7.72c-.78.78-.78 2.05 0 2.83L4 21.41c.39.39.9.59 1.41.59.51 0 1.02-.2 1.41-.59l7.78-7.78 2.81-2.81c.8-.78.8-2.07 0-2.86zM5.41 20L4 18.59l7.72-7.72 1.47 1.35L5.41 20z\"/>\n",
              "  </svg>\n",
              "      </button>\n",
              "      \n",
              "  <style>\n",
              "    .colab-df-container {\n",
              "      display:flex;\n",
              "      flex-wrap:wrap;\n",
              "      gap: 12px;\n",
              "    }\n",
              "\n",
              "    .colab-df-convert {\n",
              "      background-color: #E8F0FE;\n",
              "      border: none;\n",
              "      border-radius: 50%;\n",
              "      cursor: pointer;\n",
              "      display: none;\n",
              "      fill: #1967D2;\n",
              "      height: 32px;\n",
              "      padding: 0 0 0 0;\n",
              "      width: 32px;\n",
              "    }\n",
              "\n",
              "    .colab-df-convert:hover {\n",
              "      background-color: #E2EBFA;\n",
              "      box-shadow: 0px 1px 2px rgba(60, 64, 67, 0.3), 0px 1px 3px 1px rgba(60, 64, 67, 0.15);\n",
              "      fill: #174EA6;\n",
              "    }\n",
              "\n",
              "    [theme=dark] .colab-df-convert {\n",
              "      background-color: #3B4455;\n",
              "      fill: #D2E3FC;\n",
              "    }\n",
              "\n",
              "    [theme=dark] .colab-df-convert:hover {\n",
              "      background-color: #434B5C;\n",
              "      box-shadow: 0px 1px 3px 1px rgba(0, 0, 0, 0.15);\n",
              "      filter: drop-shadow(0px 1px 2px rgba(0, 0, 0, 0.3));\n",
              "      fill: #FFFFFF;\n",
              "    }\n",
              "  </style>\n",
              "\n",
              "      <script>\n",
              "        const buttonEl =\n",
              "          document.querySelector('#df-189a3baf-036a-4b5f-abdb-e7b3846525f3 button.colab-df-convert');\n",
              "        buttonEl.style.display =\n",
              "          google.colab.kernel.accessAllowed ? 'block' : 'none';\n",
              "\n",
              "        async function convertToInteractive(key) {\n",
              "          const element = document.querySelector('#df-189a3baf-036a-4b5f-abdb-e7b3846525f3');\n",
              "          const dataTable =\n",
              "            await google.colab.kernel.invokeFunction('convertToInteractive',\n",
              "                                                     [key], {});\n",
              "          if (!dataTable) return;\n",
              "\n",
              "          const docLinkHtml = 'Like what you see? Visit the ' +\n",
              "            '<a target=\"_blank\" href=https://colab.research.google.com/notebooks/data_table.ipynb>data table notebook</a>'\n",
              "            + ' to learn more about interactive tables.';\n",
              "          element.innerHTML = '';\n",
              "          dataTable['output_type'] = 'display_data';\n",
              "          await google.colab.output.renderOutput(dataTable, element);\n",
              "          const docLink = document.createElement('div');\n",
              "          docLink.innerHTML = docLinkHtml;\n",
              "          element.appendChild(docLink);\n",
              "        }\n",
              "      </script>\n",
              "    </div>\n",
              "  </div>\n",
              "  "
            ]
          },
          "metadata": {},
          "execution_count": 36
        }
      ],
      "source": [
        "corr\n",
        "# 95-100 outstanding corr\n",
        "# 50-99 strong +ve corr\n",
        "# 20-50 medium +ve corr\n",
        "# 0-20 weak +ve corr\n",
        "# same for -ve"
      ]
    },
    {
      "cell_type": "code",
      "execution_count": null,
      "id": "cea3ac53",
      "metadata": {
        "colab": {
          "base_uri": "https://localhost:8080/",
          "height": 585
        },
        "id": "cea3ac53",
        "outputId": "04377141-0ce7-4f30-8da7-5f06180ea307"
      },
      "outputs": [
        {
          "output_type": "execute_result",
          "data": {
            "text/plain": [
              "<Axes: >"
            ]
          },
          "metadata": {},
          "execution_count": 37
        },
        {
          "output_type": "display_data",
          "data": {
            "text/plain": [
              "<Figure size 576x576 with 2 Axes>"
            ],
            "image/png": "[encoded data removed]"
          },
          "metadata": {
            "needs_background": "light"
          }
        }
      ],
      "source": [
        "plt.figure(figsize = (8,8))\n",
        "sns.heatmap(data=corr, annot = True,cmap = 'RdBu',fmt = 'g')"
      ]
    },
    {
      "cell_type": "code",
      "execution_count": null,
      "id": "6c596333",
      "metadata": {
        "colab": {
          "base_uri": "https://localhost:8080/",
          "height": 676
        },
        "id": "6c596333",
        "outputId": "cd6d7637-ffc4-42ec-8155-567450a5c857"
      },
      "outputs": [
        {
          "output_type": "display_data",
          "data": {
            "text/plain": [
              "<Figure size 720x720 with 2 Axes>"
            ],
            "image/png": "[encoded data removed]"
          },
          "metadata": {
            "needs_background": "light"
          }
        }
      ],
      "source": [
        "mask = np.triu(np.ones_like(corr,dtype = bool))\n",
        "plt.figure(figsize = (10,10))\n",
        "sns.heatmap(corr,center = 0,vmin = -1,vmax = 1, mask = mask, annot = True, cmap = 'BrBG')\n",
        "plt.show()"
      ]
    },
    {
      "cell_type": "code",
      "execution_count": null,
      "id": "7e34d770",
      "metadata": {
        "colab": {
          "base_uri": "https://localhost:8080/",
          "height": 1000
        },
        "id": "7e34d770",
        "outputId": "a1b74e61-cbe3-4128-d1f6-b3d50c34891f"
      },
      "outputs": [
        {
          "output_type": "display_data",
          "data": {
            "text/plain": [
              "<Figure size 600x300 with 1 Axes>"
            ],
            "image/png": "[encoded data removed]"
          },
          "metadata": {
            "needs_background": "light"
          }
        },
        {
          "output_type": "display_data",
          "data": {
            "text/plain": [
              "<Figure size 600x300 with 1 Axes>"
            ],
            "image/png": "[encoded data removed]"
          },
          "metadata": {
            "needs_background": "light"
          }
        },
        {
          "output_type": "display_data",
          "data": {
            "text/plain": [
              "<Figure size 600x300 with 1 Axes>"
            ],
            "image/png": "[encoded data removed]"
          },
          "metadata": {
            "needs_background": "light"
          }
        },
        {
          "output_type": "display_data",
          "data": {
            "text/plain": [
              "<Figure size 600x300 with 1 Axes>"
            ],
            "image/png": "[encoded data removed]"
          },
          "metadata": {
            "needs_background": "light"
          }
        },
        {
          "output_type": "display_data",
          "data": {
            "text/plain": [
              "<Figure size 600x300 with 1 Axes>"
            ],
            "image/png": "[encoded data removed]"
          },
          "metadata": {
            "needs_background": "light"
          }
        }
      ],
      "source": [
        "# Onwards dataset is divided into categorical and numerical features\n",
        "\n",
        "# Visualizing categorical features\n",
        "\n",
        "for col in categorical_features:\n",
        "    plt.figure(figsize= (6,3), dpi = 100)#dot per inch = dpi\n",
        "    sns.countplot(data = stroke_data,x=col,hue = 'stroke',palette = 'gist_rainbow_r') #x = col means values of that column \n",
        "    plt.legend(loc=(1.05,0.5))"
      ]
    },
    {
      "cell_type": "code",
      "execution_count": null,
      "id": "2c9cbf02",
      "metadata": {
        "colab": {
          "base_uri": "https://localhost:8080/",
          "height": 1000
        },
        "id": "2c9cbf02",
        "outputId": "ac3a01f3-8204-42d2-d89b-d990bc2024c7"
      },
      "outputs": [
        {
          "output_type": "display_data",
          "data": {
            "text/plain": [
              "<Figure size 600x300 with 1 Axes>"
            ],
            "image/png": "[encoded data removed]"
          },
          "metadata": {
            "needs_background": "light"
          }
        },
        {
          "output_type": "display_data",
          "data": {
            "text/plain": [
              "<Figure size 600x300 with 1 Axes>"
            ],
            "image/png": "[encoded data removed]"
          },
          "metadata": {
            "needs_background": "light"
          }
        },
        {
          "output_type": "display_data",
          "data": {
            "text/plain": [
              "<Figure size 600x300 with 1 Axes>"
            ],
            "image/png": "[encoded data removed]"
          },
          "metadata": {
            "needs_background": "light"
          }
        },
        {
          "output_type": "display_data",
          "data": {
            "text/plain": [
              "<Figure size 600x300 with 1 Axes>"
            ],
            "image/png": "[encoded data removed]"
          },
          "metadata": {
            "needs_background": "light"
          }
        },
        {
          "output_type": "display_data",
          "data": {
            "text/plain": [
              "<Figure size 600x300 with 1 Axes>"
            ],
            "image/png": "[encoded data removed]"
          },
          "metadata": {
            "needs_background": "light"
          }
        },
        {
          "output_type": "display_data",
          "data": {
            "text/plain": [
              "<Figure size 600x300 with 1 Axes>"
            ],
            "image/png": "[encoded data removed]"
          },
          "metadata": {
            "needs_background": "light"
          }
        },
        {
          "output_type": "display_data",
          "data": {
            "text/plain": [
              "<Figure size 600x300 with 1 Axes>"
            ],
            "image/png": "[encoded data removed]"
          },
          "metadata": {
            "needs_background": "light"
          }
        }
      ],
      "source": [
        "# Visualizing numerical data\n",
        "\n",
        "for col in numerical_features:\n",
        "    plt.figure(figsize = (6,3),dpi = 100)\n",
        "    sns.barplot(data = stroke_data, x = 'stroke', y = col,palette = 'gist_rainbow_r')"
      ]
    },
    {
      "cell_type": "code",
      "execution_count": null,
      "id": "3f134e61",
      "metadata": {
        "colab": {
          "base_uri": "https://localhost:8080/"
        },
        "id": "3f134e61",
        "outputId": "89bc522c-978b-45bc-f7d4-5392bf844e8c"
      },
      "outputs": [
        {
          "output_type": "execute_result",
          "data": {
            "text/plain": [
              "id                     0\n",
              "gender                 0\n",
              "age                    0\n",
              "hypertension           0\n",
              "heart_disease          0\n",
              "ever_married           0\n",
              "work_type              0\n",
              "Residence_type         0\n",
              "avg_glucose_level      0\n",
              "bmi                  201\n",
              "smoking_status         0\n",
              "stroke                 0\n",
              "dtype: int64"
            ]
          },
          "metadata": {},
          "execution_count": 41
        }
      ],
      "source": [
        "# Handling missing value\n",
        "\n",
        "stroke_data.isnull().sum()"
      ]
    },
    {
      "cell_type": "code",
      "execution_count": null,
      "id": "fe7a3ab9",
      "metadata": {
        "id": "fe7a3ab9"
      },
      "outputs": [],
      "source": [
        "stroke_data['bmi']= stroke_data['bmi'].fillna(stroke_data.bmi.mean())"
      ]
    },
    {
      "cell_type": "code",
      "execution_count": null,
      "id": "f078473e",
      "metadata": {
        "colab": {
          "base_uri": "https://localhost:8080/"
        },
        "id": "f078473e",
        "outputId": "22d918b5-80b5-4dfa-940b-5d8bb009ef78"
      },
      "outputs": [
        {
          "output_type": "execute_result",
          "data": {
            "text/plain": [
              "id                   0\n",
              "gender               0\n",
              "age                  0\n",
              "hypertension         0\n",
              "heart_disease        0\n",
              "ever_married         0\n",
              "work_type            0\n",
              "Residence_type       0\n",
              "avg_glucose_level    0\n",
              "bmi                  0\n",
              "smoking_status       0\n",
              "stroke               0\n",
              "dtype: int64"
            ]
          },
          "metadata": {},
          "execution_count": 43
        }
      ],
      "source": [
        "stroke_data.isnull().sum()"
      ]
    },
    {
      "cell_type": "code",
      "execution_count": null,
      "id": "3471eb86",
      "metadata": {
        "colab": {
          "base_uri": "https://localhost:8080/",
          "height": 424
        },
        "id": "3471eb86",
        "outputId": "87fb07e1-ed8c-4611-e57b-e52852b11839"
      },
      "outputs": [
        {
          "output_type": "execute_result",
          "data": {
            "text/plain": [
              "      gender   age  hypertension  heart_disease ever_married      work_type  \\\n",
              "0       Male  67.0             0              1          Yes        Private   \n",
              "1     Female  61.0             0              0          Yes  Self-employed   \n",
              "2       Male  80.0             0              1          Yes        Private   \n",
              "3     Female  49.0             0              0          Yes        Private   \n",
              "4     Female  79.0             1              0          Yes  Self-employed   \n",
              "...      ...   ...           ...            ...          ...            ...   \n",
              "5105  Female  80.0             1              0          Yes        Private   \n",
              "5106  Female  81.0             0              0          Yes  Self-employed   \n",
              "5107  Female  35.0             0              0          Yes  Self-employed   \n",
              "5108    Male  51.0             0              0          Yes        Private   \n",
              "5109  Female  44.0             0              0          Yes       Govt_job   \n",
              "\n",
              "     Residence_type  avg_glucose_level        bmi   smoking_status  stroke  \n",
              "0             Urban             228.69  36.600000  formerly smoked       1  \n",
              "1             Rural             202.21  28.893237     never smoked       1  \n",
              "2             Rural             105.92  32.500000     never smoked       1  \n",
              "3             Urban             171.23  34.400000           smokes       1  \n",
              "4             Rural             174.12  24.000000     never smoked       1  \n",
              "...             ...                ...        ...              ...     ...  \n",
              "5105          Urban              83.75  28.893237     never smoked       0  \n",
              "5106          Urban             125.20  40.000000     never smoked       0  \n",
              "5107          Rural              82.99  30.600000     never smoked       0  \n",
              "5108          Rural             166.29  25.600000  formerly smoked       0  \n",
              "5109          Urban              85.28  26.200000          Unknown       0  \n",
              "\n",
              "[5110 rows x 11 columns]"
            ],
            "text/html": [
              "\n",
              "  <div id=\"df-8f6c3690-896e-4e80-8242-04e08477c9de\">\n",
              "    <div class=\"colab-df-container\">\n",
              "      <div>\n",
              "<style scoped>\n",
              "    .dataframe tbody tr th:only-of-type {\n",
              "        vertical-align: middle;\n",
              "    }\n",
              "\n",
              "    .dataframe tbody tr th {\n",
              "        vertical-align: top;\n",
              "    }\n",
              "\n",
              "    .dataframe thead th {\n",
              "        text-align: right;\n",
              "    }\n",
              "</style>\n",
              "<table border=\"1\" class=\"dataframe\">\n",
              "  <thead>\n",
              "    <tr style=\"text-align: right;\">\n",
              "      <th></th>\n",
              "      <th>gender</th>\n",
              "      <th>age</th>\n",
              "      <th>hypertension</th>\n",
              "      <th>heart_disease</th>\n",
              "      <th>ever_married</th>\n",
              "      <th>work_type</th>\n",
              "      <th>Residence_type</th>\n",
              "      <th>avg_glucose_level</th>\n",
              "      <th>bmi</th>\n",
              "      <th>smoking_status</th>\n",
              "      <th>stroke</th>\n",
              "    </tr>\n",
              "  </thead>\n",
              "  <tbody>\n",
              "    <tr>\n",
              "      <th>0</th>\n",
              "      <td>Male</td>\n",
              "      <td>67.0</td>\n",
              "      <td>0</td>\n",
              "      <td>1</td>\n",
              "      <td>Yes</td>\n",
              "      <td>Private</td>\n",
              "      <td>Urban</td>\n",
              "      <td>228.69</td>\n",
              "      <td>36.600000</td>\n",
              "      <td>formerly smoked</td>\n",
              "      <td>1</td>\n",
              "    </tr>\n",
              "    <tr>\n",
              "      <th>1</th>\n",
              "      <td>Female</td>\n",
              "      <td>61.0</td>\n",
              "      <td>0</td>\n",
              "      <td>0</td>\n",
              "      <td>Yes</td>\n",
              "      <td>Self-employed</td>\n",
              "      <td>Rural</td>\n",
              "      <td>202.21</td>\n",
              "      <td>28.893237</td>\n",
              "      <td>never smoked</td>\n",
              "      <td>1</td>\n",
              "    </tr>\n",
              "    <tr>\n",
              "      <th>2</th>\n",
              "      <td>Male</td>\n",
              "      <td>80.0</td>\n",
              "      <td>0</td>\n",
              "      <td>1</td>\n",
              "      <td>Yes</td>\n",
              "      <td>Private</td>\n",
              "      <td>Rural</td>\n",
              "      <td>105.92</td>\n",
              "      <td>32.500000</td>\n",
              "      <td>never smoked</td>\n",
              "      <td>1</td>\n",
              "    </tr>\n",
              "    <tr>\n",
              "      <th>3</th>\n",
              "      <td>Female</td>\n",
              "      <td>49.0</td>\n",
              "      <td>0</td>\n",
              "      <td>0</td>\n",
              "      <td>Yes</td>\n",
              "      <td>Private</td>\n",
              "      <td>Urban</td>\n",
              "      <td>171.23</td>\n",
              "      <td>34.400000</td>\n",
              "      <td>smokes</td>\n",
              "      <td>1</td>\n",
              "    </tr>\n",
              "    <tr>\n",
              "      <th>4</th>\n",
              "      <td>Female</td>\n",
              "      <td>79.0</td>\n",
              "      <td>1</td>\n",
              "      <td>0</td>\n",
              "      <td>Yes</td>\n",
              "      <td>Self-employed</td>\n",
              "      <td>Rural</td>\n",
              "      <td>174.12</td>\n",
              "      <td>24.000000</td>\n",
              "      <td>never smoked</td>\n",
              "      <td>1</td>\n",
              "    </tr>\n",
              "    <tr>\n",
              "      <th>...</th>\n",
              "      <td>...</td>\n",
              "      <td>...</td>\n",
              "      <td>...</td>\n",
              "      <td>...</td>\n",
              "      <td>...</td>\n",
              "      <td>...</td>\n",
              "      <td>...</td>\n",
              "      <td>...</td>\n",
              "      <td>...</td>\n",
              "      <td>...</td>\n",
              "      <td>...</td>\n",
              "    </tr>\n",
              "    <tr>\n",
              "      <th>5105</th>\n",
              "      <td>Female</td>\n",
              "      <td>80.0</td>\n",
              "      <td>1</td>\n",
              "      <td>0</td>\n",
              "      <td>Yes</td>\n",
              "      <td>Private</td>\n",
              "      <td>Urban</td>\n",
              "      <td>83.75</td>\n",
              "      <td>28.893237</td>\n",
              "      <td>never smoked</td>\n",
              "      <td>0</td>\n",
              "    </tr>\n",
              "    <tr>\n",
              "      <th>5106</th>\n",
              "      <td>Female</td>\n",
              "      <td>81.0</td>\n",
              "      <td>0</td>\n",
              "      <td>0</td>\n",
              "      <td>Yes</td>\n",
              "      <td>Self-employed</td>\n",
              "      <td>Urban</td>\n",
              "      <td>125.20</td>\n",
              "      <td>40.000000</td>\n",
              "      <td>never smoked</td>\n",
              "      <td>0</td>\n",
              "    </tr>\n",
              "    <tr>\n",
              "      <th>5107</th>\n",
              "      <td>Female</td>\n",
              "      <td>35.0</td>\n",
              "      <td>0</td>\n",
              "      <td>0</td>\n",
              "      <td>Yes</td>\n",
              "      <td>Self-employed</td>\n",
              "      <td>Rural</td>\n",
              "      <td>82.99</td>\n",
              "      <td>30.600000</td>\n",
              "      <td>never smoked</td>\n",
              "      <td>0</td>\n",
              "    </tr>\n",
              "    <tr>\n",
              "      <th>5108</th>\n",
              "      <td>Male</td>\n",
              "      <td>51.0</td>\n",
              "      <td>0</td>\n",
              "      <td>0</td>\n",
              "      <td>Yes</td>\n",
              "      <td>Private</td>\n",
              "      <td>Rural</td>\n",
              "      <td>166.29</td>\n",
              "      <td>25.600000</td>\n",
              "      <td>formerly smoked</td>\n",
              "      <td>0</td>\n",
              "    </tr>\n",
              "    <tr>\n",
              "      <th>5109</th>\n",
              "      <td>Female</td>\n",
              "      <td>44.0</td>\n",
              "      <td>0</td>\n",
              "      <td>0</td>\n",
              "      <td>Yes</td>\n",
              "      <td>Govt_job</td>\n",
              "      <td>Urban</td>\n",
              "      <td>85.28</td>\n",
              "      <td>26.200000</td>\n",
              "      <td>Unknown</td>\n",
              "      <td>0</td>\n",
              "    </tr>\n",
              "  </tbody>\n",
              "</table>\n",
              "<p>5110 rows × 11 columns</p>\n",
              "</div>\n",
              "      <button class=\"colab-df-convert\" onclick=\"convertToInteractive('df-8f6c3690-896e-4e80-8242-04e08477c9de')\"\n",
              "              title=\"Convert this dataframe to an interactive table.\"\n",
              "              style=\"display:none;\">\n",
              "        \n",
              "  <svg xmlns=\"http://www.w3.org/2000/svg\" height=\"24px\"viewBox=\"0 0 24 24\"\n",
              "       width=\"24px\">\n",
              "    <path d=\"M0 0h24v24H0V0z\" fill=\"none\"/>\n",
              "    <path d=\"M18.56 5.44l.94 2.06.94-2.06 2.06-.94-2.06-.94-.94-2.06-.94 2.06-2.06.94zm-11 1L8.5 8.5l.94-2.06 2.06-.94-2.06-.94L8.5 2.5l-.94 2.06-2.06.94zm10 10l.94 2.06.94-2.06 2.06-.94-2.06-.94-.94-2.06-.94 2.06-2.06.94z\"/><path d=\"M17.41 7.96l-1.37-1.37c-.4-.4-.92-.59-1.43-.59-.52 0-1.04.2-1.43.59L10.3 9.45l-7.72 7.72c-.78.78-.78 2.05 0 2.83L4 21.41c.39.39.9.59 1.41.59.51 0 1.02-.2 1.41-.59l7.78-7.78 2.81-2.81c.8-.78.8-2.07 0-2.86zM5.41 20L4 18.59l7.72-7.72 1.47 1.35L5.41 20z\"/>\n",
              "  </svg>\n",
              "      </button>\n",
              "      \n",
              "  <style>\n",
              "    .colab-df-container {\n",
              "      display:flex;\n",
              "      flex-wrap:wrap;\n",
              "      gap: 12px;\n",
              "    }\n",
              "\n",
              "    .colab-df-convert {\n",
              "      background-color: #E8F0FE;\n",
              "      border: none;\n",
              "      border-radius: 50%;\n",
              "      cursor: pointer;\n",
              "      display: none;\n",
              "      fill: #1967D2;\n",
              "      height: 32px;\n",
              "      padding: 0 0 0 0;\n",
              "      width: 32px;\n",
              "    }\n",
              "\n",
              "    .colab-df-convert:hover {\n",
              "      background-color: #E2EBFA;\n",
              "      box-shadow: 0px 1px 2px rgba(60, 64, 67, 0.3), 0px 1px 3px 1px rgba(60, 64, 67, 0.15);\n",
              "      fill: #174EA6;\n",
              "    }\n",
              "\n",
              "    [theme=dark] .colab-df-convert {\n",
              "      background-color: #3B4455;\n",
              "      fill: #D2E3FC;\n",
              "    }\n",
              "\n",
              "    [theme=dark] .colab-df-convert:hover {\n",
              "      background-color: #434B5C;\n",
              "      box-shadow: 0px 1px 3px 1px rgba(0, 0, 0, 0.15);\n",
              "      filter: drop-shadow(0px 1px 2px rgba(0, 0, 0, 0.3));\n",
              "      fill: #FFFFFF;\n",
              "    }\n",
              "  </style>\n",
              "\n",
              "      <script>\n",
              "        const buttonEl =\n",
              "          document.querySelector('#df-8f6c3690-896e-4e80-8242-04e08477c9de button.colab-df-convert');\n",
              "        buttonEl.style.display =\n",
              "          google.colab.kernel.accessAllowed ? 'block' : 'none';\n",
              "\n",
              "        async function convertToInteractive(key) {\n",
              "          const element = document.querySelector('#df-8f6c3690-896e-4e80-8242-04e08477c9de');\n",
              "          const dataTable =\n",
              "            await google.colab.kernel.invokeFunction('convertToInteractive',\n",
              "                                                     [key], {});\n",
              "          if (!dataTable) return;\n",
              "\n",
              "          const docLinkHtml = 'Like what you see? Visit the ' +\n",
              "            '<a target=\"_blank\" href=https://colab.research.google.com/notebooks/data_table.ipynb>data table notebook</a>'\n",
              "            + ' to learn more about interactive tables.';\n",
              "          element.innerHTML = '';\n",
              "          dataTable['output_type'] = 'display_data';\n",
              "          await google.colab.output.renderOutput(dataTable, element);\n",
              "          const docLink = document.createElement('div');\n",
              "          docLink.innerHTML = docLinkHtml;\n",
              "          element.appendChild(docLink);\n",
              "        }\n",
              "      </script>\n",
              "    </div>\n",
              "  </div>\n",
              "  "
            ]
          },
          "metadata": {},
          "execution_count": 44
        }
      ],
      "source": [
        "# dropping irrelevant features\n",
        "\n",
        "train = stroke_data.drop(['id'],axis = 1)\n",
        "train\n"
      ]
    },
    {
      "cell_type": "code",
      "execution_count": null,
      "id": "09eb3efd",
      "metadata": {
        "colab": {
          "base_uri": "https://localhost:8080/"
        },
        "id": "09eb3efd",
        "outputId": "26c91bfc-62cc-4112-9748-91181862f33a"
      },
      "outputs": [
        {
          "output_type": "execute_result",
          "data": {
            "text/plain": [
              "Index(['gender', 'age', 'hypertension', 'heart_disease', 'ever_married',\n",
              "       'work_type', 'Residence_type', 'avg_glucose_level', 'bmi',\n",
              "       'smoking_status', 'stroke'],\n",
              "      dtype='object')"
            ]
          },
          "metadata": {},
          "execution_count": 45
        }
      ],
      "source": [
        "train.columns"
      ]
    },
    {
      "cell_type": "code",
      "execution_count": null,
      "id": "1081728f",
      "metadata": {
        "colab": {
          "base_uri": "https://localhost:8080/"
        },
        "id": "1081728f",
        "outputId": "0de52fcd-eff7-4fa2-e51d-a43e4b8d8dd5"
      },
      "outputs": [
        {
          "output_type": "execute_result",
          "data": {
            "text/plain": [
              "(5110, 11)"
            ]
          },
          "metadata": {},
          "execution_count": 46
        }
      ],
      "source": [
        "train.shape"
      ]
    },
    {
      "cell_type": "code",
      "execution_count": null,
      "id": "023f8112",
      "metadata": {
        "colab": {
          "base_uri": "https://localhost:8080/",
          "height": 424
        },
        "id": "023f8112",
        "outputId": "7f30b6f3-d2b0-42bf-da6c-e5cd220e4b34"
      },
      "outputs": [
        {
          "output_type": "execute_result",
          "data": {
            "text/plain": [
              "       age  hypertension  heart_disease  avg_glucose_level        bmi  stroke\n",
              "0     67.0             0              1             228.69  36.600000       1\n",
              "1     61.0             0              0             202.21  28.893237       1\n",
              "2     80.0             0              1             105.92  32.500000       1\n",
              "3     49.0             0              0             171.23  34.400000       1\n",
              "4     79.0             1              0             174.12  24.000000       1\n",
              "...    ...           ...            ...                ...        ...     ...\n",
              "5105  80.0             1              0              83.75  28.893237       0\n",
              "5106  81.0             0              0             125.20  40.000000       0\n",
              "5107  35.0             0              0              82.99  30.600000       0\n",
              "5108  51.0             0              0             166.29  25.600000       0\n",
              "5109  44.0             0              0              85.28  26.200000       0\n",
              "\n",
              "[5110 rows x 6 columns]"
            ],
            "text/html": [
              "\n",
              "  <div id=\"df-f60f6528-4947-45a9-8d0f-288b20882b64\">\n",
              "    <div class=\"colab-df-container\">\n",
              "      <div>\n",
              "<style scoped>\n",
              "    .dataframe tbody tr th:only-of-type {\n",
              "        vertical-align: middle;\n",
              "    }\n",
              "\n",
              "    .dataframe tbody tr th {\n",
              "        vertical-align: top;\n",
              "    }\n",
              "\n",
              "    .dataframe thead th {\n",
              "        text-align: right;\n",
              "    }\n",
              "</style>\n",
              "<table border=\"1\" class=\"dataframe\">\n",
              "  <thead>\n",
              "    <tr style=\"text-align: right;\">\n",
              "      <th></th>\n",
              "      <th>age</th>\n",
              "      <th>hypertension</th>\n",
              "      <th>heart_disease</th>\n",
              "      <th>avg_glucose_level</th>\n",
              "      <th>bmi</th>\n",
              "      <th>stroke</th>\n",
              "    </tr>\n",
              "  </thead>\n",
              "  <tbody>\n",
              "    <tr>\n",
              "      <th>0</th>\n",
              "      <td>67.0</td>\n",
              "      <td>0</td>\n",
              "      <td>1</td>\n",
              "      <td>228.69</td>\n",
              "      <td>36.600000</td>\n",
              "      <td>1</td>\n",
              "    </tr>\n",
              "    <tr>\n",
              "      <th>1</th>\n",
              "      <td>61.0</td>\n",
              "      <td>0</td>\n",
              "      <td>0</td>\n",
              "      <td>202.21</td>\n",
              "      <td>28.893237</td>\n",
              "      <td>1</td>\n",
              "    </tr>\n",
              "    <tr>\n",
              "      <th>2</th>\n",
              "      <td>80.0</td>\n",
              "      <td>0</td>\n",
              "      <td>1</td>\n",
              "      <td>105.92</td>\n",
              "      <td>32.500000</td>\n",
              "      <td>1</td>\n",
              "    </tr>\n",
              "    <tr>\n",
              "      <th>3</th>\n",
              "      <td>49.0</td>\n",
              "      <td>0</td>\n",
              "      <td>0</td>\n",
              "      <td>171.23</td>\n",
              "      <td>34.400000</td>\n",
              "      <td>1</td>\n",
              "    </tr>\n",
              "    <tr>\n",
              "      <th>4</th>\n",
              "      <td>79.0</td>\n",
              "      <td>1</td>\n",
              "      <td>0</td>\n",
              "      <td>174.12</td>\n",
              "      <td>24.000000</td>\n",
              "      <td>1</td>\n",
              "    </tr>\n",
              "    <tr>\n",
              "      <th>...</th>\n",
              "      <td>...</td>\n",
              "      <td>...</td>\n",
              "      <td>...</td>\n",
              "      <td>...</td>\n",
              "      <td>...</td>\n",
              "      <td>...</td>\n",
              "    </tr>\n",
              "    <tr>\n",
              "      <th>5105</th>\n",
              "      <td>80.0</td>\n",
              "      <td>1</td>\n",
              "      <td>0</td>\n",
              "      <td>83.75</td>\n",
              "      <td>28.893237</td>\n",
              "      <td>0</td>\n",
              "    </tr>\n",
              "    <tr>\n",
              "      <th>5106</th>\n",
              "      <td>81.0</td>\n",
              "      <td>0</td>\n",
              "      <td>0</td>\n",
              "      <td>125.20</td>\n",
              "      <td>40.000000</td>\n",
              "      <td>0</td>\n",
              "    </tr>\n",
              "    <tr>\n",
              "      <th>5107</th>\n",
              "      <td>35.0</td>\n",
              "      <td>0</td>\n",
              "      <td>0</td>\n",
              "      <td>82.99</td>\n",
              "      <td>30.600000</td>\n",
              "      <td>0</td>\n",
              "    </tr>\n",
              "    <tr>\n",
              "      <th>5108</th>\n",
              "      <td>51.0</td>\n",
              "      <td>0</td>\n",
              "      <td>0</td>\n",
              "      <td>166.29</td>\n",
              "      <td>25.600000</td>\n",
              "      <td>0</td>\n",
              "    </tr>\n",
              "    <tr>\n",
              "      <th>5109</th>\n",
              "      <td>44.0</td>\n",
              "      <td>0</td>\n",
              "      <td>0</td>\n",
              "      <td>85.28</td>\n",
              "      <td>26.200000</td>\n",
              "      <td>0</td>\n",
              "    </tr>\n",
              "  </tbody>\n",
              "</table>\n",
              "<p>5110 rows × 6 columns</p>\n",
              "</div>\n",
              "      <button class=\"colab-df-convert\" onclick=\"convertToInteractive('df-f60f6528-4947-45a9-8d0f-288b20882b64')\"\n",
              "              title=\"Convert this dataframe to an interactive table.\"\n",
              "              style=\"display:none;\">\n",
              "        \n",
              "  <svg xmlns=\"http://www.w3.org/2000/svg\" height=\"24px\"viewBox=\"0 0 24 24\"\n",
              "       width=\"24px\">\n",
              "    <path d=\"M0 0h24v24H0V0z\" fill=\"none\"/>\n",
              "    <path d=\"M18.56 5.44l.94 2.06.94-2.06 2.06-.94-2.06-.94-.94-2.06-.94 2.06-2.06.94zm-11 1L8.5 8.5l.94-2.06 2.06-.94-2.06-.94L8.5 2.5l-.94 2.06-2.06.94zm10 10l.94 2.06.94-2.06 2.06-.94-2.06-.94-.94-2.06-.94 2.06-2.06.94z\"/><path d=\"M17.41 7.96l-1.37-1.37c-.4-.4-.92-.59-1.43-.59-.52 0-1.04.2-1.43.59L10.3 9.45l-7.72 7.72c-.78.78-.78 2.05 0 2.83L4 21.41c.39.39.9.59 1.41.59.51 0 1.02-.2 1.41-.59l7.78-7.78 2.81-2.81c.8-.78.8-2.07 0-2.86zM5.41 20L4 18.59l7.72-7.72 1.47 1.35L5.41 20z\"/>\n",
              "  </svg>\n",
              "      </button>\n",
              "      \n",
              "  <style>\n",
              "    .colab-df-container {\n",
              "      display:flex;\n",
              "      flex-wrap:wrap;\n",
              "      gap: 12px;\n",
              "    }\n",
              "\n",
              "    .colab-df-convert {\n",
              "      background-color: #E8F0FE;\n",
              "      border: none;\n",
              "      border-radius: 50%;\n",
              "      cursor: pointer;\n",
              "      display: none;\n",
              "      fill: #1967D2;\n",
              "      height: 32px;\n",
              "      padding: 0 0 0 0;\n",
              "      width: 32px;\n",
              "    }\n",
              "\n",
              "    .colab-df-convert:hover {\n",
              "      background-color: #E2EBFA;\n",
              "      box-shadow: 0px 1px 2px rgba(60, 64, 67, 0.3), 0px 1px 3px 1px rgba(60, 64, 67, 0.15);\n",
              "      fill: #174EA6;\n",
              "    }\n",
              "\n",
              "    [theme=dark] .colab-df-convert {\n",
              "      background-color: #3B4455;\n",
              "      fill: #D2E3FC;\n",
              "    }\n",
              "\n",
              "    [theme=dark] .colab-df-convert:hover {\n",
              "      background-color: #434B5C;\n",
              "      box-shadow: 0px 1px 3px 1px rgba(0, 0, 0, 0.15);\n",
              "      filter: drop-shadow(0px 1px 2px rgba(0, 0, 0, 0.3));\n",
              "      fill: #FFFFFF;\n",
              "    }\n",
              "  </style>\n",
              "\n",
              "      <script>\n",
              "        const buttonEl =\n",
              "          document.querySelector('#df-f60f6528-4947-45a9-8d0f-288b20882b64 button.colab-df-convert');\n",
              "        buttonEl.style.display =\n",
              "          google.colab.kernel.accessAllowed ? 'block' : 'none';\n",
              "\n",
              "        async function convertToInteractive(key) {\n",
              "          const element = document.querySelector('#df-f60f6528-4947-45a9-8d0f-288b20882b64');\n",
              "          const dataTable =\n",
              "            await google.colab.kernel.invokeFunction('convertToInteractive',\n",
              "                                                     [key], {});\n",
              "          if (!dataTable) return;\n",
              "\n",
              "          const docLinkHtml = 'Like what you see? Visit the ' +\n",
              "            '<a target=\"_blank\" href=https://colab.research.google.com/notebooks/data_table.ipynb>data table notebook</a>'\n",
              "            + ' to learn more about interactive tables.';\n",
              "          element.innerHTML = '';\n",
              "          dataTable['output_type'] = 'display_data';\n",
              "          await google.colab.output.renderOutput(dataTable, element);\n",
              "          const docLink = document.createElement('div');\n",
              "          docLink.innerHTML = docLinkHtml;\n",
              "          element.appendChild(docLink);\n",
              "        }\n",
              "      </script>\n",
              "    </div>\n",
              "  </div>\n",
              "  "
            ]
          },
          "metadata": {},
          "execution_count": 47
        }
      ],
      "source": [
        "train_data_cat = train.select_dtypes('object')\n",
        "train_data_num = train.select_dtypes('number')\n",
        "train_data_num"
      ]
    },
    {
      "cell_type": "code",
      "execution_count": null,
      "id": "43bd5cdb",
      "metadata": {
        "colab": {
          "base_uri": "https://localhost:8080/",
          "height": 424
        },
        "id": "43bd5cdb",
        "outputId": "e47a71ba-9740-475e-805e-90745542bd3f"
      },
      "outputs": [
        {
          "output_type": "execute_result",
          "data": {
            "text/plain": [
              "      gender ever_married      work_type Residence_type   smoking_status\n",
              "0       Male          Yes        Private          Urban  formerly smoked\n",
              "1     Female          Yes  Self-employed          Rural     never smoked\n",
              "2       Male          Yes        Private          Rural     never smoked\n",
              "3     Female          Yes        Private          Urban           smokes\n",
              "4     Female          Yes  Self-employed          Rural     never smoked\n",
              "...      ...          ...            ...            ...              ...\n",
              "5105  Female          Yes        Private          Urban     never smoked\n",
              "5106  Female          Yes  Self-employed          Urban     never smoked\n",
              "5107  Female          Yes  Self-employed          Rural     never smoked\n",
              "5108    Male          Yes        Private          Rural  formerly smoked\n",
              "5109  Female          Yes       Govt_job          Urban          Unknown\n",
              "\n",
              "[5110 rows x 5 columns]"
            ],
            "text/html": [
              "\n",
              "  <div id=\"df-1b69d2da-439d-4930-b076-fe3ce655729e\">\n",
              "    <div class=\"colab-df-container\">\n",
              "      <div>\n",
              "<style scoped>\n",
              "    .dataframe tbody tr th:only-of-type {\n",
              "        vertical-align: middle;\n",
              "    }\n",
              "\n",
              "    .dataframe tbody tr th {\n",
              "        vertical-align: top;\n",
              "    }\n",
              "\n",
              "    .dataframe thead th {\n",
              "        text-align: right;\n",
              "    }\n",
              "</style>\n",
              "<table border=\"1\" class=\"dataframe\">\n",
              "  <thead>\n",
              "    <tr style=\"text-align: right;\">\n",
              "      <th></th>\n",
              "      <th>gender</th>\n",
              "      <th>ever_married</th>\n",
              "      <th>work_type</th>\n",
              "      <th>Residence_type</th>\n",
              "      <th>smoking_status</th>\n",
              "    </tr>\n",
              "  </thead>\n",
              "  <tbody>\n",
              "    <tr>\n",
              "      <th>0</th>\n",
              "      <td>Male</td>\n",
              "      <td>Yes</td>\n",
              "      <td>Private</td>\n",
              "      <td>Urban</td>\n",
              "      <td>formerly smoked</td>\n",
              "    </tr>\n",
              "    <tr>\n",
              "      <th>1</th>\n",
              "      <td>Female</td>\n",
              "      <td>Yes</td>\n",
              "      <td>Self-employed</td>\n",
              "      <td>Rural</td>\n",
              "      <td>never smoked</td>\n",
              "    </tr>\n",
              "    <tr>\n",
              "      <th>2</th>\n",
              "      <td>Male</td>\n",
              "      <td>Yes</td>\n",
              "      <td>Private</td>\n",
              "      <td>Rural</td>\n",
              "      <td>never smoked</td>\n",
              "    </tr>\n",
              "    <tr>\n",
              "      <th>3</th>\n",
              "      <td>Female</td>\n",
              "      <td>Yes</td>\n",
              "      <td>Private</td>\n",
              "      <td>Urban</td>\n",
              "      <td>smokes</td>\n",
              "    </tr>\n",
              "    <tr>\n",
              "      <th>4</th>\n",
              "      <td>Female</td>\n",
              "      <td>Yes</td>\n",
              "      <td>Self-employed</td>\n",
              "      <td>Rural</td>\n",
              "      <td>never smoked</td>\n",
              "    </tr>\n",
              "    <tr>\n",
              "      <th>...</th>\n",
              "      <td>...</td>\n",
              "      <td>...</td>\n",
              "      <td>...</td>\n",
              "      <td>...</td>\n",
              "      <td>...</td>\n",
              "    </tr>\n",
              "    <tr>\n",
              "      <th>5105</th>\n",
              "      <td>Female</td>\n",
              "      <td>Yes</td>\n",
              "      <td>Private</td>\n",
              "      <td>Urban</td>\n",
              "      <td>never smoked</td>\n",
              "    </tr>\n",
              "    <tr>\n",
              "      <th>5106</th>\n",
              "      <td>Female</td>\n",
              "      <td>Yes</td>\n",
              "      <td>Self-employed</td>\n",
              "      <td>Urban</td>\n",
              "      <td>never smoked</td>\n",
              "    </tr>\n",
              "    <tr>\n",
              "      <th>5107</th>\n",
              "      <td>Female</td>\n",
              "      <td>Yes</td>\n",
              "      <td>Self-employed</td>\n",
              "      <td>Rural</td>\n",
              "      <td>never smoked</td>\n",
              "    </tr>\n",
              "    <tr>\n",
              "      <th>5108</th>\n",
              "      <td>Male</td>\n",
              "      <td>Yes</td>\n",
              "      <td>Private</td>\n",
              "      <td>Rural</td>\n",
              "      <td>formerly smoked</td>\n",
              "    </tr>\n",
              "    <tr>\n",
              "      <th>5109</th>\n",
              "      <td>Female</td>\n",
              "      <td>Yes</td>\n",
              "      <td>Govt_job</td>\n",
              "      <td>Urban</td>\n",
              "      <td>Unknown</td>\n",
              "    </tr>\n",
              "  </tbody>\n",
              "</table>\n",
              "<p>5110 rows × 5 columns</p>\n",
              "</div>\n",
              "      <button class=\"colab-df-convert\" onclick=\"convertToInteractive('df-1b69d2da-439d-4930-b076-fe3ce655729e')\"\n",
              "              title=\"Convert this dataframe to an interactive table.\"\n",
              "              style=\"display:none;\">\n",
              "        \n",
              "  <svg xmlns=\"http://www.w3.org/2000/svg\" height=\"24px\"viewBox=\"0 0 24 24\"\n",
              "       width=\"24px\">\n",
              "    <path d=\"M0 0h24v24H0V0z\" fill=\"none\"/>\n",
              "    <path d=\"M18.56 5.44l.94 2.06.94-2.06 2.06-.94-2.06-.94-.94-2.06-.94 2.06-2.06.94zm-11 1L8.5 8.5l.94-2.06 2.06-.94-2.06-.94L8.5 2.5l-.94 2.06-2.06.94zm10 10l.94 2.06.94-2.06 2.06-.94-2.06-.94-.94-2.06-.94 2.06-2.06.94z\"/><path d=\"M17.41 7.96l-1.37-1.37c-.4-.4-.92-.59-1.43-.59-.52 0-1.04.2-1.43.59L10.3 9.45l-7.72 7.72c-.78.78-.78 2.05 0 2.83L4 21.41c.39.39.9.59 1.41.59.51 0 1.02-.2 1.41-.59l7.78-7.78 2.81-2.81c.8-.78.8-2.07 0-2.86zM5.41 20L4 18.59l7.72-7.72 1.47 1.35L5.41 20z\"/>\n",
              "  </svg>\n",
              "      </button>\n",
              "      \n",
              "  <style>\n",
              "    .colab-df-container {\n",
              "      display:flex;\n",
              "      flex-wrap:wrap;\n",
              "      gap: 12px;\n",
              "    }\n",
              "\n",
              "    .colab-df-convert {\n",
              "      background-color: #E8F0FE;\n",
              "      border: none;\n",
              "      border-radius: 50%;\n",
              "      cursor: pointer;\n",
              "      display: none;\n",
              "      fill: #1967D2;\n",
              "      height: 32px;\n",
              "      padding: 0 0 0 0;\n",
              "      width: 32px;\n",
              "    }\n",
              "\n",
              "    .colab-df-convert:hover {\n",
              "      background-color: #E2EBFA;\n",
              "      box-shadow: 0px 1px 2px rgba(60, 64, 67, 0.3), 0px 1px 3px 1px rgba(60, 64, 67, 0.15);\n",
              "      fill: #174EA6;\n",
              "    }\n",
              "\n",
              "    [theme=dark] .colab-df-convert {\n",
              "      background-color: #3B4455;\n",
              "      fill: #D2E3FC;\n",
              "    }\n",
              "\n",
              "    [theme=dark] .colab-df-convert:hover {\n",
              "      background-color: #434B5C;\n",
              "      box-shadow: 0px 1px 3px 1px rgba(0, 0, 0, 0.15);\n",
              "      filter: drop-shadow(0px 1px 2px rgba(0, 0, 0, 0.3));\n",
              "      fill: #FFFFFF;\n",
              "    }\n",
              "  </style>\n",
              "\n",
              "      <script>\n",
              "        const buttonEl =\n",
              "          document.querySelector('#df-1b69d2da-439d-4930-b076-fe3ce655729e button.colab-df-convert');\n",
              "        buttonEl.style.display =\n",
              "          google.colab.kernel.accessAllowed ? 'block' : 'none';\n",
              "\n",
              "        async function convertToInteractive(key) {\n",
              "          const element = document.querySelector('#df-1b69d2da-439d-4930-b076-fe3ce655729e');\n",
              "          const dataTable =\n",
              "            await google.colab.kernel.invokeFunction('convertToInteractive',\n",
              "                                                     [key], {});\n",
              "          if (!dataTable) return;\n",
              "\n",
              "          const docLinkHtml = 'Like what you see? Visit the ' +\n",
              "            '<a target=\"_blank\" href=https://colab.research.google.com/notebooks/data_table.ipynb>data table notebook</a>'\n",
              "            + ' to learn more about interactive tables.';\n",
              "          element.innerHTML = '';\n",
              "          dataTable['output_type'] = 'display_data';\n",
              "          await google.colab.output.renderOutput(dataTable, element);\n",
              "          const docLink = document.createElement('div');\n",
              "          docLink.innerHTML = docLinkHtml;\n",
              "          element.appendChild(docLink);\n",
              "        }\n",
              "      </script>\n",
              "    </div>\n",
              "  </div>\n",
              "  "
            ]
          },
          "metadata": {},
          "execution_count": 48
        }
      ],
      "source": [
        "train_data_cat"
      ]
    },
    {
      "cell_type": "code",
      "execution_count": null,
      "id": "db34c12b",
      "metadata": {
        "colab": {
          "base_uri": "https://localhost:8080/",
          "height": 505
        },
        "id": "db34c12b",
        "outputId": "d52b8855-6e69-4042-ac2e-aefa58fdeb59"
      },
      "outputs": [
        {
          "output_type": "execute_result",
          "data": {
            "text/plain": [
              "      gender_Female  gender_Male  gender_Other  ever_married_No  \\\n",
              "0                 0            1             0                0   \n",
              "1                 1            0             0                0   \n",
              "2                 0            1             0                0   \n",
              "3                 1            0             0                0   \n",
              "4                 1            0             0                0   \n",
              "...             ...          ...           ...              ...   \n",
              "5105              1            0             0                0   \n",
              "5106              1            0             0                0   \n",
              "5107              1            0             0                0   \n",
              "5108              0            1             0                0   \n",
              "5109              1            0             0                0   \n",
              "\n",
              "      ever_married_Yes  work_type_Govt_job  work_type_Never_worked  \\\n",
              "0                    1                   0                       0   \n",
              "1                    1                   0                       0   \n",
              "2                    1                   0                       0   \n",
              "3                    1                   0                       0   \n",
              "4                    1                   0                       0   \n",
              "...                ...                 ...                     ...   \n",
              "5105                 1                   0                       0   \n",
              "5106                 1                   0                       0   \n",
              "5107                 1                   0                       0   \n",
              "5108                 1                   0                       0   \n",
              "5109                 1                   1                       0   \n",
              "\n",
              "      work_type_Private  work_type_Self-employed  work_type_children  \\\n",
              "0                     1                        0                   0   \n",
              "1                     0                        1                   0   \n",
              "2                     1                        0                   0   \n",
              "3                     1                        0                   0   \n",
              "4                     0                        1                   0   \n",
              "...                 ...                      ...                 ...   \n",
              "5105                  1                        0                   0   \n",
              "5106                  0                        1                   0   \n",
              "5107                  0                        1                   0   \n",
              "5108                  1                        0                   0   \n",
              "5109                  0                        0                   0   \n",
              "\n",
              "      Residence_type_Rural  Residence_type_Urban  smoking_status_Unknown  \\\n",
              "0                        0                     1                       0   \n",
              "1                        1                     0                       0   \n",
              "2                        1                     0                       0   \n",
              "3                        0                     1                       0   \n",
              "4                        1                     0                       0   \n",
              "...                    ...                   ...                     ...   \n",
              "5105                     0                     1                       0   \n",
              "5106                     0                     1                       0   \n",
              "5107                     1                     0                       0   \n",
              "5108                     1                     0                       0   \n",
              "5109                     0                     1                       1   \n",
              "\n",
              "      smoking_status_formerly smoked  smoking_status_never smoked  \\\n",
              "0                                  1                            0   \n",
              "1                                  0                            1   \n",
              "2                                  0                            1   \n",
              "3                                  0                            0   \n",
              "4                                  0                            1   \n",
              "...                              ...                          ...   \n",
              "5105                               0                            1   \n",
              "5106                               0                            1   \n",
              "5107                               0                            1   \n",
              "5108                               1                            0   \n",
              "5109                               0                            0   \n",
              "\n",
              "      smoking_status_smokes  \n",
              "0                         0  \n",
              "1                         0  \n",
              "2                         0  \n",
              "3                         1  \n",
              "4                         0  \n",
              "...                     ...  \n",
              "5105                      0  \n",
              "5106                      0  \n",
              "5107                      0  \n",
              "5108                      0  \n",
              "5109                      0  \n",
              "\n",
              "[5110 rows x 16 columns]"
            ],
            "text/html": [
              "\n",
              "  <div id=\"df-cb77be58-e233-429c-a404-8f1acfb36c41\">\n",
              "    <div class=\"colab-df-container\">\n",
              "      <div>\n",
              "<style scoped>\n",
              "    .dataframe tbody tr th:only-of-type {\n",
              "        vertical-align: middle;\n",
              "    }\n",
              "\n",
              "    .dataframe tbody tr th {\n",
              "        vertical-align: top;\n",
              "    }\n",
              "\n",
              "    .dataframe thead th {\n",
              "        text-align: right;\n",
              "    }\n",
              "</style>\n",
              "<table border=\"1\" class=\"dataframe\">\n",
              "  <thead>\n",
              "    <tr style=\"text-align: right;\">\n",
              "      <th></th>\n",
              "      <th>gender_Female</th>\n",
              "      <th>gender_Male</th>\n",
              "      <th>gender_Other</th>\n",
              "      <th>ever_married_No</th>\n",
              "      <th>ever_married_Yes</th>\n",
              "      <th>work_type_Govt_job</th>\n",
              "      <th>work_type_Never_worked</th>\n",
              "      <th>work_type_Private</th>\n",
              "      <th>work_type_Self-employed</th>\n",
              "      <th>work_type_children</th>\n",
              "      <th>Residence_type_Rural</th>\n",
              "      <th>Residence_type_Urban</th>\n",
              "      <th>smoking_status_Unknown</th>\n",
              "      <th>smoking_status_formerly smoked</th>\n",
              "      <th>smoking_status_never smoked</th>\n",
              "      <th>smoking_status_smokes</th>\n",
              "    </tr>\n",
              "  </thead>\n",
              "  <tbody>\n",
              "    <tr>\n",
              "      <th>0</th>\n",
              "      <td>0</td>\n",
              "      <td>1</td>\n",
              "      <td>0</td>\n",
              "      <td>0</td>\n",
              "      <td>1</td>\n",
              "      <td>0</td>\n",
              "      <td>0</td>\n",
              "      <td>1</td>\n",
              "      <td>0</td>\n",
              "      <td>0</td>\n",
              "      <td>0</td>\n",
              "      <td>1</td>\n",
              "      <td>0</td>\n",
              "      <td>1</td>\n",
              "      <td>0</td>\n",
              "      <td>0</td>\n",
              "    </tr>\n",
              "    <tr>\n",
              "      <th>1</th>\n",
              "      <td>1</td>\n",
              "      <td>0</td>\n",
              "      <td>0</td>\n",
              "      <td>0</td>\n",
              "      <td>1</td>\n",
              "      <td>0</td>\n",
              "      <td>0</td>\n",
              "      <td>0</td>\n",
              "      <td>1</td>\n",
              "      <td>0</td>\n",
              "      <td>1</td>\n",
              "      <td>0</td>\n",
              "      <td>0</td>\n",
              "      <td>0</td>\n",
              "      <td>1</td>\n",
              "      <td>0</td>\n",
              "    </tr>\n",
              "    <tr>\n",
              "      <th>2</th>\n",
              "      <td>0</td>\n",
              "      <td>1</td>\n",
              "      <td>0</td>\n",
              "      <td>0</td>\n",
              "      <td>1</td>\n",
              "      <td>0</td>\n",
              "      <td>0</td>\n",
              "      <td>1</td>\n",
              "      <td>0</td>\n",
              "      <td>0</td>\n",
              "      <td>1</td>\n",
              "      <td>0</td>\n",
              "      <td>0</td>\n",
              "      <td>0</td>\n",
              "      <td>1</td>\n",
              "      <td>0</td>\n",
              "    </tr>\n",
              "    <tr>\n",
              "      <th>3</th>\n",
              "      <td>1</td>\n",
              "      <td>0</td>\n",
              "      <td>0</td>\n",
              "      <td>0</td>\n",
              "      <td>1</td>\n",
              "      <td>0</td>\n",
              "      <td>0</td>\n",
              "      <td>1</td>\n",
              "      <td>0</td>\n",
              "      <td>0</td>\n",
              "      <td>0</td>\n",
              "      <td>1</td>\n",
              "      <td>0</td>\n",
              "      <td>0</td>\n",
              "      <td>0</td>\n",
              "      <td>1</td>\n",
              "    </tr>\n",
              "    <tr>\n",
              "      <th>4</th>\n",
              "      <td>1</td>\n",
              "      <td>0</td>\n",
              "      <td>0</td>\n",
              "      <td>0</td>\n",
              "      <td>1</td>\n",
              "      <td>0</td>\n",
              "      <td>0</td>\n",
              "      <td>0</td>\n",
              "      <td>1</td>\n",
              "      <td>0</td>\n",
              "      <td>1</td>\n",
              "      <td>0</td>\n",
              "      <td>0</td>\n",
              "      <td>0</td>\n",
              "      <td>1</td>\n",
              "      <td>0</td>\n",
              "    </tr>\n",
              "    <tr>\n",
              "      <th>...</th>\n",
              "      <td>...</td>\n",
              "      <td>...</td>\n",
              "      <td>...</td>\n",
              "      <td>...</td>\n",
              "      <td>...</td>\n",
              "      <td>...</td>\n",
              "      <td>...</td>\n",
              "      <td>...</td>\n",
              "      <td>...</td>\n",
              "      <td>...</td>\n",
              "      <td>...</td>\n",
              "      <td>...</td>\n",
              "      <td>...</td>\n",
              "      <td>...</td>\n",
              "      <td>...</td>\n",
              "      <td>...</td>\n",
              "    </tr>\n",
              "    <tr>\n",
              "      <th>5105</th>\n",
              "      <td>1</td>\n",
              "      <td>0</td>\n",
              "      <td>0</td>\n",
              "      <td>0</td>\n",
              "      <td>1</td>\n",
              "      <td>0</td>\n",
              "      <td>0</td>\n",
              "      <td>1</td>\n",
              "      <td>0</td>\n",
              "      <td>0</td>\n",
              "      <td>0</td>\n",
              "      <td>1</td>\n",
              "      <td>0</td>\n",
              "      <td>0</td>\n",
              "      <td>1</td>\n",
              "      <td>0</td>\n",
              "    </tr>\n",
              "    <tr>\n",
              "      <th>5106</th>\n",
              "      <td>1</td>\n",
              "      <td>0</td>\n",
              "      <td>0</td>\n",
              "      <td>0</td>\n",
              "      <td>1</td>\n",
              "      <td>0</td>\n",
              "      <td>0</td>\n",
              "      <td>0</td>\n",
              "      <td>1</td>\n",
              "      <td>0</td>\n",
              "      <td>0</td>\n",
              "      <td>1</td>\n",
              "      <td>0</td>\n",
              "      <td>0</td>\n",
              "      <td>1</td>\n",
              "      <td>0</td>\n",
              "    </tr>\n",
              "    <tr>\n",
              "      <th>5107</th>\n",
              "      <td>1</td>\n",
              "      <td>0</td>\n",
              "      <td>0</td>\n",
              "      <td>0</td>\n",
              "      <td>1</td>\n",
              "      <td>0</td>\n",
              "      <td>0</td>\n",
              "      <td>0</td>\n",
              "      <td>1</td>\n",
              "      <td>0</td>\n",
              "      <td>1</td>\n",
              "      <td>0</td>\n",
              "      <td>0</td>\n",
              "      <td>0</td>\n",
              "      <td>1</td>\n",
              "      <td>0</td>\n",
              "    </tr>\n",
              "    <tr>\n",
              "      <th>5108</th>\n",
              "      <td>0</td>\n",
              "      <td>1</td>\n",
              "      <td>0</td>\n",
              "      <td>0</td>\n",
              "      <td>1</td>\n",
              "      <td>0</td>\n",
              "      <td>0</td>\n",
              "      <td>1</td>\n",
              "      <td>0</td>\n",
              "      <td>0</td>\n",
              "      <td>1</td>\n",
              "      <td>0</td>\n",
              "      <td>0</td>\n",
              "      <td>1</td>\n",
              "      <td>0</td>\n",
              "      <td>0</td>\n",
              "    </tr>\n",
              "    <tr>\n",
              "      <th>5109</th>\n",
              "      <td>1</td>\n",
              "      <td>0</td>\n",
              "      <td>0</td>\n",
              "      <td>0</td>\n",
              "      <td>1</td>\n",
              "      <td>1</td>\n",
              "      <td>0</td>\n",
              "      <td>0</td>\n",
              "      <td>0</td>\n",
              "      <td>0</td>\n",
              "      <td>0</td>\n",
              "      <td>1</td>\n",
              "      <td>1</td>\n",
              "      <td>0</td>\n",
              "      <td>0</td>\n",
              "      <td>0</td>\n",
              "    </tr>\n",
              "  </tbody>\n",
              "</table>\n",
              "<p>5110 rows × 16 columns</p>\n",
              "</div>\n",
              "      <button class=\"colab-df-convert\" onclick=\"convertToInteractive('df-cb77be58-e233-429c-a404-8f1acfb36c41')\"\n",
              "              title=\"Convert this dataframe to an interactive table.\"\n",
              "              style=\"display:none;\">\n",
              "        \n",
              "  <svg xmlns=\"http://www.w3.org/2000/svg\" height=\"24px\"viewBox=\"0 0 24 24\"\n",
              "       width=\"24px\">\n",
              "    <path d=\"M0 0h24v24H0V0z\" fill=\"none\"/>\n",
              "    <path d=\"M18.56 5.44l.94 2.06.94-2.06 2.06-.94-2.06-.94-.94-2.06-.94 2.06-2.06.94zm-11 1L8.5 8.5l.94-2.06 2.06-.94-2.06-.94L8.5 2.5l-.94 2.06-2.06.94zm10 10l.94 2.06.94-2.06 2.06-.94-2.06-.94-.94-2.06-.94 2.06-2.06.94z\"/><path d=\"M17.41 7.96l-1.37-1.37c-.4-.4-.92-.59-1.43-.59-.52 0-1.04.2-1.43.59L10.3 9.45l-7.72 7.72c-.78.78-.78 2.05 0 2.83L4 21.41c.39.39.9.59 1.41.59.51 0 1.02-.2 1.41-.59l7.78-7.78 2.81-2.81c.8-.78.8-2.07 0-2.86zM5.41 20L4 18.59l7.72-7.72 1.47 1.35L5.41 20z\"/>\n",
              "  </svg>\n",
              "      </button>\n",
              "      \n",
              "  <style>\n",
              "    .colab-df-container {\n",
              "      display:flex;\n",
              "      flex-wrap:wrap;\n",
              "      gap: 12px;\n",
              "    }\n",
              "\n",
              "    .colab-df-convert {\n",
              "      background-color: #E8F0FE;\n",
              "      border: none;\n",
              "      border-radius: 50%;\n",
              "      cursor: pointer;\n",
              "      display: none;\n",
              "      fill: #1967D2;\n",
              "      height: 32px;\n",
              "      padding: 0 0 0 0;\n",
              "      width: 32px;\n",
              "    }\n",
              "\n",
              "    .colab-df-convert:hover {\n",
              "      background-color: #E2EBFA;\n",
              "      box-shadow: 0px 1px 2px rgba(60, 64, 67, 0.3), 0px 1px 3px 1px rgba(60, 64, 67, 0.15);\n",
              "      fill: #174EA6;\n",
              "    }\n",
              "\n",
              "    [theme=dark] .colab-df-convert {\n",
              "      background-color: #3B4455;\n",
              "      fill: #D2E3FC;\n",
              "    }\n",
              "\n",
              "    [theme=dark] .colab-df-convert:hover {\n",
              "      background-color: #434B5C;\n",
              "      box-shadow: 0px 1px 3px 1px rgba(0, 0, 0, 0.15);\n",
              "      filter: drop-shadow(0px 1px 2px rgba(0, 0, 0, 0.3));\n",
              "      fill: #FFFFFF;\n",
              "    }\n",
              "  </style>\n",
              "\n",
              "      <script>\n",
              "        const buttonEl =\n",
              "          document.querySelector('#df-cb77be58-e233-429c-a404-8f1acfb36c41 button.colab-df-convert');\n",
              "        buttonEl.style.display =\n",
              "          google.colab.kernel.accessAllowed ? 'block' : 'none';\n",
              "\n",
              "        async function convertToInteractive(key) {\n",
              "          const element = document.querySelector('#df-cb77be58-e233-429c-a404-8f1acfb36c41');\n",
              "          const dataTable =\n",
              "            await google.colab.kernel.invokeFunction('convertToInteractive',\n",
              "                                                     [key], {});\n",
              "          if (!dataTable) return;\n",
              "\n",
              "          const docLinkHtml = 'Like what you see? Visit the ' +\n",
              "            '<a target=\"_blank\" href=https://colab.research.google.com/notebooks/data_table.ipynb>data table notebook</a>'\n",
              "            + ' to learn more about interactive tables.';\n",
              "          element.innerHTML = '';\n",
              "          dataTable['output_type'] = 'display_data';\n",
              "          await google.colab.output.renderOutput(dataTable, element);\n",
              "          const docLink = document.createElement('div');\n",
              "          docLink.innerHTML = docLinkHtml;\n",
              "          element.appendChild(docLink);\n",
              "        }\n",
              "      </script>\n",
              "    </div>\n",
              "  </div>\n",
              "  "
            ]
          },
          "metadata": {},
          "execution_count": 49
        }
      ],
      "source": [
        "# categorical to numerical\n",
        "\n",
        "train_data_cata_encoded = pd.get_dummies(train_data_cat,columns = train_data_cat.columns.to_list())\n",
        "train_data_cata_encoded"
      ]
    },
    {
      "cell_type": "code",
      "execution_count": null,
      "id": "03ed575a",
      "metadata": {
        "colab": {
          "base_uri": "https://localhost:8080/",
          "height": 317
        },
        "id": "03ed575a",
        "outputId": "2150acf4-76be-4d02-d630-53c66f4e5d28"
      },
      "outputs": [
        {
          "output_type": "execute_result",
          "data": {
            "text/plain": [
              "   gender_Female  gender_Male  gender_Other  ever_married_No  \\\n",
              "0              0            1             0                0   \n",
              "1              1            0             0                0   \n",
              "2              0            1             0                0   \n",
              "3              1            0             0                0   \n",
              "4              1            0             0                0   \n",
              "\n",
              "   ever_married_Yes  work_type_Govt_job  work_type_Never_worked  \\\n",
              "0                 1                   0                       0   \n",
              "1                 1                   0                       0   \n",
              "2                 1                   0                       0   \n",
              "3                 1                   0                       0   \n",
              "4                 1                   0                       0   \n",
              "\n",
              "   work_type_Private  work_type_Self-employed  work_type_children  ...  \\\n",
              "0                  1                        0                   0  ...   \n",
              "1                  0                        1                   0  ...   \n",
              "2                  1                        0                   0  ...   \n",
              "3                  1                        0                   0  ...   \n",
              "4                  0                        1                   0  ...   \n",
              "\n",
              "   smoking_status_Unknown  smoking_status_formerly smoked  \\\n",
              "0                       0                               1   \n",
              "1                       0                               0   \n",
              "2                       0                               0   \n",
              "3                       0                               0   \n",
              "4                       0                               0   \n",
              "\n",
              "   smoking_status_never smoked  smoking_status_smokes   age  hypertension  \\\n",
              "0                            0                      0  67.0             0   \n",
              "1                            1                      0  61.0             0   \n",
              "2                            1                      0  80.0             0   \n",
              "3                            0                      1  49.0             0   \n",
              "4                            1                      0  79.0             1   \n",
              "\n",
              "   heart_disease  avg_glucose_level        bmi  stroke  \n",
              "0              1             228.69  36.600000       1  \n",
              "1              0             202.21  28.893237       1  \n",
              "2              1             105.92  32.500000       1  \n",
              "3              0             171.23  34.400000       1  \n",
              "4              0             174.12  24.000000       1  \n",
              "\n",
              "[5 rows x 22 columns]"
            ],
            "text/html": [
              "\n",
              "  <div id=\"df-8a8ff812-f023-4dda-a0f5-99e245c90d61\">\n",
              "    <div class=\"colab-df-container\">\n",
              "      <div>\n",
              "<style scoped>\n",
              "    .dataframe tbody tr th:only-of-type {\n",
              "        vertical-align: middle;\n",
              "    }\n",
              "\n",
              "    .dataframe tbody tr th {\n",
              "        vertical-align: top;\n",
              "    }\n",
              "\n",
              "    .dataframe thead th {\n",
              "        text-align: right;\n",
              "    }\n",
              "</style>\n",
              "<table border=\"1\" class=\"dataframe\">\n",
              "  <thead>\n",
              "    <tr style=\"text-align: right;\">\n",
              "      <th></th>\n",
              "      <th>gender_Female</th>\n",
              "      <th>gender_Male</th>\n",
              "      <th>gender_Other</th>\n",
              "      <th>ever_married_No</th>\n",
              "      <th>ever_married_Yes</th>\n",
              "      <th>work_type_Govt_job</th>\n",
              "      <th>work_type_Never_worked</th>\n",
              "      <th>work_type_Private</th>\n",
              "      <th>work_type_Self-employed</th>\n",
              "      <th>work_type_children</th>\n",
              "      <th>...</th>\n",
              "      <th>smoking_status_Unknown</th>\n",
              "      <th>smoking_status_formerly smoked</th>\n",
              "      <th>smoking_status_never smoked</th>\n",
              "      <th>smoking_status_smokes</th>\n",
              "      <th>age</th>\n",
              "      <th>hypertension</th>\n",
              "      <th>heart_disease</th>\n",
              "      <th>avg_glucose_level</th>\n",
              "      <th>bmi</th>\n",
              "      <th>stroke</th>\n",
              "    </tr>\n",
              "  </thead>\n",
              "  <tbody>\n",
              "    <tr>\n",
              "      <th>0</th>\n",
              "      <td>0</td>\n",
              "      <td>1</td>\n",
              "      <td>0</td>\n",
              "      <td>0</td>\n",
              "      <td>1</td>\n",
              "      <td>0</td>\n",
              "      <td>0</td>\n",
              "      <td>1</td>\n",
              "      <td>0</td>\n",
              "      <td>0</td>\n",
              "      <td>...</td>\n",
              "      <td>0</td>\n",
              "      <td>1</td>\n",
              "      <td>0</td>\n",
              "      <td>0</td>\n",
              "      <td>67.0</td>\n",
              "      <td>0</td>\n",
              "      <td>1</td>\n",
              "      <td>228.69</td>\n",
              "      <td>36.600000</td>\n",
              "      <td>1</td>\n",
              "    </tr>\n",
              "    <tr>\n",
              "      <th>1</th>\n",
              "      <td>1</td>\n",
              "      <td>0</td>\n",
              "      <td>0</td>\n",
              "      <td>0</td>\n",
              "      <td>1</td>\n",
              "      <td>0</td>\n",
              "      <td>0</td>\n",
              "      <td>0</td>\n",
              "      <td>1</td>\n",
              "      <td>0</td>\n",
              "      <td>...</td>\n",
              "      <td>0</td>\n",
              "      <td>0</td>\n",
              "      <td>1</td>\n",
              "      <td>0</td>\n",
              "      <td>61.0</td>\n",
              "      <td>0</td>\n",
              "      <td>0</td>\n",
              "      <td>202.21</td>\n",
              "      <td>28.893237</td>\n",
              "      <td>1</td>\n",
              "    </tr>\n",
              "    <tr>\n",
              "      <th>2</th>\n",
              "      <td>0</td>\n",
              "      <td>1</td>\n",
              "      <td>0</td>\n",
              "      <td>0</td>\n",
              "      <td>1</td>\n",
              "      <td>0</td>\n",
              "      <td>0</td>\n",
              "      <td>1</td>\n",
              "      <td>0</td>\n",
              "      <td>0</td>\n",
              "      <td>...</td>\n",
              "      <td>0</td>\n",
              "      <td>0</td>\n",
              "      <td>1</td>\n",
              "      <td>0</td>\n",
              "      <td>80.0</td>\n",
              "      <td>0</td>\n",
              "      <td>1</td>\n",
              "      <td>105.92</td>\n",
              "      <td>32.500000</td>\n",
              "      <td>1</td>\n",
              "    </tr>\n",
              "    <tr>\n",
              "      <th>3</th>\n",
              "      <td>1</td>\n",
              "      <td>0</td>\n",
              "      <td>0</td>\n",
              "      <td>0</td>\n",
              "      <td>1</td>\n",
              "      <td>0</td>\n",
              "      <td>0</td>\n",
              "      <td>1</td>\n",
              "      <td>0</td>\n",
              "      <td>0</td>\n",
              "      <td>...</td>\n",
              "      <td>0</td>\n",
              "      <td>0</td>\n",
              "      <td>0</td>\n",
              "      <td>1</td>\n",
              "      <td>49.0</td>\n",
              "      <td>0</td>\n",
              "      <td>0</td>\n",
              "      <td>171.23</td>\n",
              "      <td>34.400000</td>\n",
              "      <td>1</td>\n",
              "    </tr>\n",
              "    <tr>\n",
              "      <th>4</th>\n",
              "      <td>1</td>\n",
              "      <td>0</td>\n",
              "      <td>0</td>\n",
              "      <td>0</td>\n",
              "      <td>1</td>\n",
              "      <td>0</td>\n",
              "      <td>0</td>\n",
              "      <td>0</td>\n",
              "      <td>1</td>\n",
              "      <td>0</td>\n",
              "      <td>...</td>\n",
              "      <td>0</td>\n",
              "      <td>0</td>\n",
              "      <td>1</td>\n",
              "      <td>0</td>\n",
              "      <td>79.0</td>\n",
              "      <td>1</td>\n",
              "      <td>0</td>\n",
              "      <td>174.12</td>\n",
              "      <td>24.000000</td>\n",
              "      <td>1</td>\n",
              "    </tr>\n",
              "  </tbody>\n",
              "</table>\n",
              "<p>5 rows × 22 columns</p>\n",
              "</div>\n",
              "      <button class=\"colab-df-convert\" onclick=\"convertToInteractive('df-8a8ff812-f023-4dda-a0f5-99e245c90d61')\"\n",
              "              title=\"Convert this dataframe to an interactive table.\"\n",
              "              style=\"display:none;\">\n",
              "        \n",
              "  <svg xmlns=\"http://www.w3.org/2000/svg\" height=\"24px\"viewBox=\"0 0 24 24\"\n",
              "       width=\"24px\">\n",
              "    <path d=\"M0 0h24v24H0V0z\" fill=\"none\"/>\n",
              "    <path d=\"M18.56 5.44l.94 2.06.94-2.06 2.06-.94-2.06-.94-.94-2.06-.94 2.06-2.06.94zm-11 1L8.5 8.5l.94-2.06 2.06-.94-2.06-.94L8.5 2.5l-.94 2.06-2.06.94zm10 10l.94 2.06.94-2.06 2.06-.94-2.06-.94-.94-2.06-.94 2.06-2.06.94z\"/><path d=\"M17.41 7.96l-1.37-1.37c-.4-.4-.92-.59-1.43-.59-.52 0-1.04.2-1.43.59L10.3 9.45l-7.72 7.72c-.78.78-.78 2.05 0 2.83L4 21.41c.39.39.9.59 1.41.59.51 0 1.02-.2 1.41-.59l7.78-7.78 2.81-2.81c.8-.78.8-2.07 0-2.86zM5.41 20L4 18.59l7.72-7.72 1.47 1.35L5.41 20z\"/>\n",
              "  </svg>\n",
              "      </button>\n",
              "      \n",
              "  <style>\n",
              "    .colab-df-container {\n",
              "      display:flex;\n",
              "      flex-wrap:wrap;\n",
              "      gap: 12px;\n",
              "    }\n",
              "\n",
              "    .colab-df-convert {\n",
              "      background-color: #E8F0FE;\n",
              "      border: none;\n",
              "      border-radius: 50%;\n",
              "      cursor: pointer;\n",
              "      display: none;\n",
              "      fill: #1967D2;\n",
              "      height: 32px;\n",
              "      padding: 0 0 0 0;\n",
              "      width: 32px;\n",
              "    }\n",
              "\n",
              "    .colab-df-convert:hover {\n",
              "      background-color: #E2EBFA;\n",
              "      box-shadow: 0px 1px 2px rgba(60, 64, 67, 0.3), 0px 1px 3px 1px rgba(60, 64, 67, 0.15);\n",
              "      fill: #174EA6;\n",
              "    }\n",
              "\n",
              "    [theme=dark] .colab-df-convert {\n",
              "      background-color: #3B4455;\n",
              "      fill: #D2E3FC;\n",
              "    }\n",
              "\n",
              "    [theme=dark] .colab-df-convert:hover {\n",
              "      background-color: #434B5C;\n",
              "      box-shadow: 0px 1px 3px 1px rgba(0, 0, 0, 0.15);\n",
              "      filter: drop-shadow(0px 1px 2px rgba(0, 0, 0, 0.3));\n",
              "      fill: #FFFFFF;\n",
              "    }\n",
              "  </style>\n",
              "\n",
              "      <script>\n",
              "        const buttonEl =\n",
              "          document.querySelector('#df-8a8ff812-f023-4dda-a0f5-99e245c90d61 button.colab-df-convert');\n",
              "        buttonEl.style.display =\n",
              "          google.colab.kernel.accessAllowed ? 'block' : 'none';\n",
              "\n",
              "        async function convertToInteractive(key) {\n",
              "          const element = document.querySelector('#df-8a8ff812-f023-4dda-a0f5-99e245c90d61');\n",
              "          const dataTable =\n",
              "            await google.colab.kernel.invokeFunction('convertToInteractive',\n",
              "                                                     [key], {});\n",
              "          if (!dataTable) return;\n",
              "\n",
              "          const docLinkHtml = 'Like what you see? Visit the ' +\n",
              "            '<a target=\"_blank\" href=https://colab.research.google.com/notebooks/data_table.ipynb>data table notebook</a>'\n",
              "            + ' to learn more about interactive tables.';\n",
              "          element.innerHTML = '';\n",
              "          dataTable['output_type'] = 'display_data';\n",
              "          await google.colab.output.renderOutput(dataTable, element);\n",
              "          const docLink = document.createElement('div');\n",
              "          docLink.innerHTML = docLinkHtml;\n",
              "          element.appendChild(docLink);\n",
              "        }\n",
              "      </script>\n",
              "    </div>\n",
              "  </div>\n",
              "  "
            ]
          },
          "metadata": {},
          "execution_count": 50
        }
      ],
      "source": [
        "data = pd.concat([train_data_cata_encoded,train_data_num],axis = 1, join = 'outer')\n",
        "data.head()"
      ]
    },
    {
      "cell_type": "code",
      "execution_count": null,
      "id": "d4ec05c9",
      "metadata": {
        "id": "d4ec05c9"
      },
      "outputs": [],
      "source": [
        "# seperating dependant and independant features\n",
        "\n",
        "y = data['stroke']\n",
        "x = data.drop('stroke',axis = 1)"
      ]
    },
    {
      "cell_type": "code",
      "execution_count": null,
      "id": "26a74b6c",
      "metadata": {
        "colab": {
          "base_uri": "https://localhost:8080/"
        },
        "id": "26a74b6c",
        "outputId": "f58f2c78-5d8c-4042-b6b2-455407461a4f"
      },
      "outputs": [
        {
          "output_type": "execute_result",
          "data": {
            "text/plain": [
              "array([[-1.18950991e+00,  1.18998977e+00, -1.39904618e-02, ...,\n",
              "         4.18503199e+00,  2.70637544e+00,  1.00123401e+00],\n",
              "       [ 8.40682358e-01, -8.40343359e-01, -1.39904618e-02, ...,\n",
              "        -2.38946800e-01,  2.12155854e+00,  4.61555355e-16],\n",
              "       [-1.18950991e+00,  1.18998977e+00, -1.39904618e-02, ...,\n",
              "         4.18503199e+00, -5.02830130e-03,  4.68577254e-01],\n",
              "       ...,\n",
              "       [ 8.40682358e-01, -8.40343359e-01, -1.39904618e-02, ...,\n",
              "        -2.38946800e-01, -5.11442636e-01,  2.21736316e-01],\n",
              "       [-1.18950991e+00,  1.18998977e+00, -1.39904618e-02, ...,\n",
              "        -2.38946800e-01,  1.32825706e+00, -4.27845098e-01],\n",
              "       [ 8.40682358e-01, -8.40343359e-01, -1.39904618e-02, ...,\n",
              "        -2.38946800e-01, -4.60867458e-01, -3.49895329e-01]])"
            ]
          },
          "metadata": {},
          "execution_count": 52
        }
      ],
      "source": [
        "from sklearn.preprocessing import StandardScaler \n",
        "sc =StandardScaler()\n",
        "x = sc.fit_transform(x)\n",
        "x"
      ]
    },
    {
      "cell_type": "code",
      "execution_count": null,
      "id": "2e8721fa",
      "metadata": {
        "id": "2e8721fa"
      },
      "outputs": [],
      "source": [
        "# Importing ML toolkits\n",
        "from sklearn.preprocessing import StandardScaler\n",
        "from sklearn.model_selection import train_test_split\n",
        "from sklearn.pipeline import Pipeline\n",
        "from sklearn.linear_model import LogisticRegression\n",
        "from sklearn.metrics import accuracy_score,confusion_matrix,classification_report\n",
        "from sklearn.svm import SVC\n",
        "import pickle\n",
        "\n",
        "from sklearn.neighbors import KNeighborsClassifier\n",
        "from sklearn.tree import DecisionTreeClassifier\n",
        "from sklearn.ensemble import RandomForestClassifier\n",
        "from sklearn.ensemble import AdaBoostClassifier\n",
        "from sklearn.ensemble import GradientBoostingClassifier\n",
        "# from xgboost import XGBClassifier,plot_importance\n",
        "from sklearn.model_selection import GridSearchCV, cross_val_score, StratifiedKFold,learning_curve"
      ]
    },
    {
      "cell_type": "code",
      "execution_count": null,
      "id": "c0627c13",
      "metadata": {
        "colab": {
          "base_uri": "https://localhost:8080/"
        },
        "id": "c0627c13",
        "outputId": "37fa41cd-674e-49c5-edf6-5c3e5b9afb9e"
      },
      "outputs": [
        {
          "output_type": "execute_result",
          "data": {
            "text/plain": [
              "((3577, 21), (1533, 21))"
            ]
          },
          "metadata": {},
          "execution_count": 54
        }
      ],
      "source": [
        "# Splitting \n",
        "X_train,X_test,y_train,y_test = train_test_split(x,y,test_size = 0.3,random_state = 7)\n",
        "X_train.shape,X_test.shape"
      ]
    },
    {
      "cell_type": "code",
      "execution_count": null,
      "id": "7fcba117",
      "metadata": {
        "id": "7fcba117"
      },
      "outputs": [],
      "source": [
        "accuracy = {}"
      ]
    },
    {
      "cell_type": "code",
      "execution_count": null,
      "id": "ca506050",
      "metadata": {
        "colab": {
          "base_uri": "https://localhost:8080/"
        },
        "id": "ca506050",
        "outputId": "cce49fa0-cedf-4e1b-e372-a5a64d9125ef"
      },
      "outputs": [
        {
          "output_type": "stream",
          "name": "stdout",
          "text": [
            "0.9471624266144814\n"
          ]
        }
      ],
      "source": [
        "# LogisticRegression\n",
        "lr = LogisticRegression(max_iter = 200)\n",
        "lr.fit(X_train,y_train)\n",
        "y_pred1 = lr.predict(X_test)\n",
        "print(accuracy_score(y_test,y_pred1))\n",
        "accuracy[str(lr)] = accuracy_score(y_test,y_pred1)*100"
      ]
    },
    {
      "cell_type": "code",
      "execution_count": null,
      "id": "aede3b2d",
      "metadata": {
        "colab": {
          "base_uri": "https://localhost:8080/",
          "height": 337
        },
        "id": "aede3b2d",
        "outputId": "46b6edf9-22a1-4cd2-e802-cb90cf589fe0"
      },
      "outputs": [
        {
          "output_type": "execute_result",
          "data": {
            "text/plain": [
              "<Axes: >"
            ]
          },
          "metadata": {},
          "execution_count": 57
        },
        {
          "output_type": "display_data",
          "data": {
            "text/plain": [
              "<Figure size 576x360 with 2 Axes>"
            ],
            "image/png": "[encoded data removed]"
          },
          "metadata": {
            "needs_background": "light"
          }
        }
      ],
      "source": [
        "# Confusion Matrix\n",
        "# ...............................\n",
        "cm = confusion_matrix(y_test,y_pred1)\n",
        "\n",
        "conf_matrix = pd.DataFrame(data =cm, columns = ['Predicted: 0','Predicted: 1'],index = ['Actual: 0', 'Actual: 1'])\n",
        "plt.figure(figsize= (8,5))\n",
        "sns.heatmap(conf_matrix, annot = True,cmap = 'YlGnBu')"
      ]
    },
    {
      "cell_type": "code",
      "execution_count": null,
      "id": "e5986520",
      "metadata": {
        "colab": {
          "base_uri": "https://localhost:8080/"
        },
        "id": "e5986520",
        "outputId": "38273bec-b269-466c-828f-61fddf67559e"
      },
      "outputs": [
        {
          "output_type": "stream",
          "name": "stdout",
          "text": [
            "              precision    recall  f1-score   support\n",
            "\n",
            "           0       0.95      1.00      0.97      1452\n",
            "           1       0.00      0.00      0.00        81\n",
            "\n",
            "    accuracy                           0.95      1533\n",
            "   macro avg       0.47      0.50      0.49      1533\n",
            "weighted avg       0.90      0.95      0.92      1533\n",
            "\n"
          ]
        },
        {
          "output_type": "stream",
          "name": "stderr",
          "text": [
            "/usr/local/lib/python3.9/dist-packages/sklearn/metrics/_classification.py:1344: UndefinedMetricWarning: Precision and F-score are ill-defined and being set to 0.0 in labels with no predicted samples. Use `zero_division` parameter to control this behavior.\n",
            "  _warn_prf(average, modifier, msg_start, len(result))\n",
            "/usr/local/lib/python3.9/dist-packages/sklearn/metrics/_classification.py:1344: UndefinedMetricWarning: Precision and F-score are ill-defined and being set to 0.0 in labels with no predicted samples. Use `zero_division` parameter to control this behavior.\n",
            "  _warn_prf(average, modifier, msg_start, len(result))\n",
            "/usr/local/lib/python3.9/dist-packages/sklearn/metrics/_classification.py:1344: UndefinedMetricWarning: Precision and F-score are ill-defined and being set to 0.0 in labels with no predicted samples. Use `zero_division` parameter to control this behavior.\n",
            "  _warn_prf(average, modifier, msg_start, len(result))\n"
          ]
        }
      ],
      "source": [
        "# Classification Report \n",
        "print(classification_report(y_test,y_pred1))"
      ]
    },
    {
      "cell_type": "code",
      "execution_count": null,
      "id": "13fa904d",
      "metadata": {
        "id": "13fa904d"
      },
      "outputs": [],
      "source": [
        "y_pred_test = lr.predict(X_test)\n",
        "test = pd.DataFrame({'Actual': y_test,'Y_test predicted':y_pred_test})"
      ]
    },
    {
      "cell_type": "code",
      "execution_count": null,
      "id": "55afdce8",
      "metadata": {
        "colab": {
          "base_uri": "https://localhost:8080/",
          "height": 363
        },
        "id": "55afdce8",
        "outputId": "04afdd3a-d27e-465c-e52a-73f66ec1cb6d"
      },
      "outputs": [
        {
          "output_type": "execute_result",
          "data": {
            "text/plain": [
              "      Actual  Y_test predicted\n",
              "868        0                 0\n",
              "1257       0                 0\n",
              "1175       0                 0\n",
              "1527       0                 0\n",
              "4455       0                 0\n",
              "4366       0                 0\n",
              "2284       0                 0\n",
              "3309       0                 0\n",
              "3490       0                 0\n",
              "1032       0                 0"
            ],
            "text/html": [
              "\n",
              "  <div id=\"df-2b02811c-f604-4be4-9028-c64c91b59afc\">\n",
              "    <div class=\"colab-df-container\">\n",
              "      <div>\n",
              "<style scoped>\n",
              "    .dataframe tbody tr th:only-of-type {\n",
              "        vertical-align: middle;\n",
              "    }\n",
              "\n",
              "    .dataframe tbody tr th {\n",
              "        vertical-align: top;\n",
              "    }\n",
              "\n",
              "    .dataframe thead th {\n",
              "        text-align: right;\n",
              "    }\n",
              "</style>\n",
              "<table border=\"1\" class=\"dataframe\">\n",
              "  <thead>\n",
              "    <tr style=\"text-align: right;\">\n",
              "      <th></th>\n",
              "      <th>Actual</th>\n",
              "      <th>Y_test predicted</th>\n",
              "    </tr>\n",
              "  </thead>\n",
              "  <tbody>\n",
              "    <tr>\n",
              "      <th>868</th>\n",
              "      <td>0</td>\n",
              "      <td>0</td>\n",
              "    </tr>\n",
              "    <tr>\n",
              "      <th>1257</th>\n",
              "      <td>0</td>\n",
              "      <td>0</td>\n",
              "    </tr>\n",
              "    <tr>\n",
              "      <th>1175</th>\n",
              "      <td>0</td>\n",
              "      <td>0</td>\n",
              "    </tr>\n",
              "    <tr>\n",
              "      <th>1527</th>\n",
              "      <td>0</td>\n",
              "      <td>0</td>\n",
              "    </tr>\n",
              "    <tr>\n",
              "      <th>4455</th>\n",
              "      <td>0</td>\n",
              "      <td>0</td>\n",
              "    </tr>\n",
              "    <tr>\n",
              "      <th>4366</th>\n",
              "      <td>0</td>\n",
              "      <td>0</td>\n",
              "    </tr>\n",
              "    <tr>\n",
              "      <th>2284</th>\n",
              "      <td>0</td>\n",
              "      <td>0</td>\n",
              "    </tr>\n",
              "    <tr>\n",
              "      <th>3309</th>\n",
              "      <td>0</td>\n",
              "      <td>0</td>\n",
              "    </tr>\n",
              "    <tr>\n",
              "      <th>3490</th>\n",
              "      <td>0</td>\n",
              "      <td>0</td>\n",
              "    </tr>\n",
              "    <tr>\n",
              "      <th>1032</th>\n",
              "      <td>0</td>\n",
              "      <td>0</td>\n",
              "    </tr>\n",
              "  </tbody>\n",
              "</table>\n",
              "</div>\n",
              "      <button class=\"colab-df-convert\" onclick=\"convertToInteractive('df-2b02811c-f604-4be4-9028-c64c91b59afc')\"\n",
              "              title=\"Convert this dataframe to an interactive table.\"\n",
              "              style=\"display:none;\">\n",
              "        \n",
              "  <svg xmlns=\"http://www.w3.org/2000/svg\" height=\"24px\"viewBox=\"0 0 24 24\"\n",
              "       width=\"24px\">\n",
              "    <path d=\"M0 0h24v24H0V0z\" fill=\"none\"/>\n",
              "    <path d=\"M18.56 5.44l.94 2.06.94-2.06 2.06-.94-2.06-.94-.94-2.06-.94 2.06-2.06.94zm-11 1L8.5 8.5l.94-2.06 2.06-.94-2.06-.94L8.5 2.5l-.94 2.06-2.06.94zm10 10l.94 2.06.94-2.06 2.06-.94-2.06-.94-.94-2.06-.94 2.06-2.06.94z\"/><path d=\"M17.41 7.96l-1.37-1.37c-.4-.4-.92-.59-1.43-.59-.52 0-1.04.2-1.43.59L10.3 9.45l-7.72 7.72c-.78.78-.78 2.05 0 2.83L4 21.41c.39.39.9.59 1.41.59.51 0 1.02-.2 1.41-.59l7.78-7.78 2.81-2.81c.8-.78.8-2.07 0-2.86zM5.41 20L4 18.59l7.72-7.72 1.47 1.35L5.41 20z\"/>\n",
              "  </svg>\n",
              "      </button>\n",
              "      \n",
              "  <style>\n",
              "    .colab-df-container {\n",
              "      display:flex;\n",
              "      flex-wrap:wrap;\n",
              "      gap: 12px;\n",
              "    }\n",
              "\n",
              "    .colab-df-convert {\n",
              "      background-color: #E8F0FE;\n",
              "      border: none;\n",
              "      border-radius: 50%;\n",
              "      cursor: pointer;\n",
              "      display: none;\n",
              "      fill: #1967D2;\n",
              "      height: 32px;\n",
              "      padding: 0 0 0 0;\n",
              "      width: 32px;\n",
              "    }\n",
              "\n",
              "    .colab-df-convert:hover {\n",
              "      background-color: #E2EBFA;\n",
              "      box-shadow: 0px 1px 2px rgba(60, 64, 67, 0.3), 0px 1px 3px 1px rgba(60, 64, 67, 0.15);\n",
              "      fill: #174EA6;\n",
              "    }\n",
              "\n",
              "    [theme=dark] .colab-df-convert {\n",
              "      background-color: #3B4455;\n",
              "      fill: #D2E3FC;\n",
              "    }\n",
              "\n",
              "    [theme=dark] .colab-df-convert:hover {\n",
              "      background-color: #434B5C;\n",
              "      box-shadow: 0px 1px 3px 1px rgba(0, 0, 0, 0.15);\n",
              "      filter: drop-shadow(0px 1px 2px rgba(0, 0, 0, 0.3));\n",
              "      fill: #FFFFFF;\n",
              "    }\n",
              "  </style>\n",
              "\n",
              "      <script>\n",
              "        const buttonEl =\n",
              "          document.querySelector('#df-2b02811c-f604-4be4-9028-c64c91b59afc button.colab-df-convert');\n",
              "        buttonEl.style.display =\n",
              "          google.colab.kernel.accessAllowed ? 'block' : 'none';\n",
              "\n",
              "        async function convertToInteractive(key) {\n",
              "          const element = document.querySelector('#df-2b02811c-f604-4be4-9028-c64c91b59afc');\n",
              "          const dataTable =\n",
              "            await google.colab.kernel.invokeFunction('convertToInteractive',\n",
              "                                                     [key], {});\n",
              "          if (!dataTable) return;\n",
              "\n",
              "          const docLinkHtml = 'Like what you see? Visit the ' +\n",
              "            '<a target=\"_blank\" href=https://colab.research.google.com/notebooks/data_table.ipynb>data table notebook</a>'\n",
              "            + ' to learn more about interactive tables.';\n",
              "          element.innerHTML = '';\n",
              "          dataTable['output_type'] = 'display_data';\n",
              "          await google.colab.output.renderOutput(dataTable, element);\n",
              "          const docLink = document.createElement('div');\n",
              "          docLink.innerHTML = docLinkHtml;\n",
              "          element.appendChild(docLink);\n",
              "        }\n",
              "      </script>\n",
              "    </div>\n",
              "  </div>\n",
              "  "
            ]
          },
          "metadata": {},
          "execution_count": 60
        }
      ],
      "source": [
        "test.sample(10)"
      ]
    },
    {
      "cell_type": "code",
      "execution_count": null,
      "id": "3646a719",
      "metadata": {
        "colab": {
          "base_uri": "https://localhost:8080/"
        },
        "id": "3646a719",
        "outputId": "f0537314-222b-425c-ebda-a0424f8a60e5"
      },
      "outputs": [
        {
          "output_type": "stream",
          "name": "stdout",
          "text": [
            "0.9465101108936725\n"
          ]
        }
      ],
      "source": [
        "dtc = DecisionTreeClassifier(max_depth = 3)\n",
        "dtc.fit(X_train,y_train)\n",
        "y_pred2 = dtc.predict(X_test)\n",
        "print(accuracy_score(y_test,y_pred2))\n",
        "accuracy[str(dtc)] = accuracy_score(y_test,y_pred2)*100"
      ]
    },
    {
      "cell_type": "code",
      "execution_count": null,
      "id": "3b757dde",
      "metadata": {
        "colab": {
          "base_uri": "https://localhost:8080/",
          "height": 337
        },
        "id": "3b757dde",
        "outputId": "7c135d2b-5aa8-469c-b25d-1aa267ec318e"
      },
      "outputs": [
        {
          "output_type": "execute_result",
          "data": {
            "text/plain": [
              "<Axes: >"
            ]
          },
          "metadata": {},
          "execution_count": 62
        },
        {
          "output_type": "display_data",
          "data": {
            "text/plain": [
              "<Figure size 576x360 with 2 Axes>"
            ],
            "image/png": "[encoded data removed]"
          },
          "metadata": {
            "needs_background": "light"
          }
        }
      ],
      "source": [
        "cm = confusion_matrix(y_test,y_pred2)\n",
        "conf_matrix = pd.DataFrame(data = cm, columns = ['Predict: 0','Predict: 1'],index = ['Actual: 0','Actual: 1' ])\n",
        "plt.figure(figsize = (8,5))\n",
        "sns.heatmap(conf_matrix, annot = True, fmt = 'd', cmap = 'YlGnBu')"
      ]
    },
    {
      "cell_type": "code",
      "execution_count": null,
      "id": "a8b59db7",
      "metadata": {
        "colab": {
          "base_uri": "https://localhost:8080/"
        },
        "id": "a8b59db7",
        "outputId": "4e5c99f5-b82a-4389-f262-054235242cc3"
      },
      "outputs": [
        {
          "output_type": "stream",
          "name": "stdout",
          "text": [
            "              precision    recall  f1-score   support\n",
            "\n",
            "           0       0.95      1.00      0.97      1452\n",
            "           1       0.00      0.00      0.00        81\n",
            "\n",
            "    accuracy                           0.95      1533\n",
            "   macro avg       0.47      0.50      0.49      1533\n",
            "weighted avg       0.90      0.95      0.92      1533\n",
            "\n"
          ]
        }
      ],
      "source": [
        "print(classification_report(y_test,y_pred2))"
      ]
    },
    {
      "cell_type": "code",
      "execution_count": null,
      "id": "db1b4620",
      "metadata": {
        "colab": {
          "base_uri": "https://localhost:8080/",
          "height": 363
        },
        "id": "db1b4620",
        "outputId": "0ac68c7e-31b7-4f79-ed5a-8a9eafe9b802"
      },
      "outputs": [
        {
          "output_type": "execute_result",
          "data": {
            "text/plain": [
              "      Actual  y_test predicted\n",
              "183        1                 0\n",
              "4700       0                 0\n",
              "2469       0                 0\n",
              "4006       0                 0\n",
              "514        0                 0\n",
              "1282       0                 0\n",
              "5050       0                 0\n",
              "1990       0                 0\n",
              "661        0                 0\n",
              "75         1                 0"
            ],
            "text/html": [
              "\n",
              "  <div id=\"df-e4acb7b1-438d-4e67-9ddf-ed217eb029da\">\n",
              "    <div class=\"colab-df-container\">\n",
              "      <div>\n",
              "<style scoped>\n",
              "    .dataframe tbody tr th:only-of-type {\n",
              "        vertical-align: middle;\n",
              "    }\n",
              "\n",
              "    .dataframe tbody tr th {\n",
              "        vertical-align: top;\n",
              "    }\n",
              "\n",
              "    .dataframe thead th {\n",
              "        text-align: right;\n",
              "    }\n",
              "</style>\n",
              "<table border=\"1\" class=\"dataframe\">\n",
              "  <thead>\n",
              "    <tr style=\"text-align: right;\">\n",
              "      <th></th>\n",
              "      <th>Actual</th>\n",
              "      <th>y_test predicted</th>\n",
              "    </tr>\n",
              "  </thead>\n",
              "  <tbody>\n",
              "    <tr>\n",
              "      <th>183</th>\n",
              "      <td>1</td>\n",
              "      <td>0</td>\n",
              "    </tr>\n",
              "    <tr>\n",
              "      <th>4700</th>\n",
              "      <td>0</td>\n",
              "      <td>0</td>\n",
              "    </tr>\n",
              "    <tr>\n",
              "      <th>2469</th>\n",
              "      <td>0</td>\n",
              "      <td>0</td>\n",
              "    </tr>\n",
              "    <tr>\n",
              "      <th>4006</th>\n",
              "      <td>0</td>\n",
              "      <td>0</td>\n",
              "    </tr>\n",
              "    <tr>\n",
              "      <th>514</th>\n",
              "      <td>0</td>\n",
              "      <td>0</td>\n",
              "    </tr>\n",
              "    <tr>\n",
              "      <th>1282</th>\n",
              "      <td>0</td>\n",
              "      <td>0</td>\n",
              "    </tr>\n",
              "    <tr>\n",
              "      <th>5050</th>\n",
              "      <td>0</td>\n",
              "      <td>0</td>\n",
              "    </tr>\n",
              "    <tr>\n",
              "      <th>1990</th>\n",
              "      <td>0</td>\n",
              "      <td>0</td>\n",
              "    </tr>\n",
              "    <tr>\n",
              "      <th>661</th>\n",
              "      <td>0</td>\n",
              "      <td>0</td>\n",
              "    </tr>\n",
              "    <tr>\n",
              "      <th>75</th>\n",
              "      <td>1</td>\n",
              "      <td>0</td>\n",
              "    </tr>\n",
              "  </tbody>\n",
              "</table>\n",
              "</div>\n",
              "      <button class=\"colab-df-convert\" onclick=\"convertToInteractive('df-e4acb7b1-438d-4e67-9ddf-ed217eb029da')\"\n",
              "              title=\"Convert this dataframe to an interactive table.\"\n",
              "              style=\"display:none;\">\n",
              "        \n",
              "  <svg xmlns=\"http://www.w3.org/2000/svg\" height=\"24px\"viewBox=\"0 0 24 24\"\n",
              "       width=\"24px\">\n",
              "    <path d=\"M0 0h24v24H0V0z\" fill=\"none\"/>\n",
              "    <path d=\"M18.56 5.44l.94 2.06.94-2.06 2.06-.94-2.06-.94-.94-2.06-.94 2.06-2.06.94zm-11 1L8.5 8.5l.94-2.06 2.06-.94-2.06-.94L8.5 2.5l-.94 2.06-2.06.94zm10 10l.94 2.06.94-2.06 2.06-.94-2.06-.94-.94-2.06-.94 2.06-2.06.94z\"/><path d=\"M17.41 7.96l-1.37-1.37c-.4-.4-.92-.59-1.43-.59-.52 0-1.04.2-1.43.59L10.3 9.45l-7.72 7.72c-.78.78-.78 2.05 0 2.83L4 21.41c.39.39.9.59 1.41.59.51 0 1.02-.2 1.41-.59l7.78-7.78 2.81-2.81c.8-.78.8-2.07 0-2.86zM5.41 20L4 18.59l7.72-7.72 1.47 1.35L5.41 20z\"/>\n",
              "  </svg>\n",
              "      </button>\n",
              "      \n",
              "  <style>\n",
              "    .colab-df-container {\n",
              "      display:flex;\n",
              "      flex-wrap:wrap;\n",
              "      gap: 12px;\n",
              "    }\n",
              "\n",
              "    .colab-df-convert {\n",
              "      background-color: #E8F0FE;\n",
              "      border: none;\n",
              "      border-radius: 50%;\n",
              "      cursor: pointer;\n",
              "      display: none;\n",
              "      fill: #1967D2;\n",
              "      height: 32px;\n",
              "      padding: 0 0 0 0;\n",
              "      width: 32px;\n",
              "    }\n",
              "\n",
              "    .colab-df-convert:hover {\n",
              "      background-color: #E2EBFA;\n",
              "      box-shadow: 0px 1px 2px rgba(60, 64, 67, 0.3), 0px 1px 3px 1px rgba(60, 64, 67, 0.15);\n",
              "      fill: #174EA6;\n",
              "    }\n",
              "\n",
              "    [theme=dark] .colab-df-convert {\n",
              "      background-color: #3B4455;\n",
              "      fill: #D2E3FC;\n",
              "    }\n",
              "\n",
              "    [theme=dark] .colab-df-convert:hover {\n",
              "      background-color: #434B5C;\n",
              "      box-shadow: 0px 1px 3px 1px rgba(0, 0, 0, 0.15);\n",
              "      filter: drop-shadow(0px 1px 2px rgba(0, 0, 0, 0.3));\n",
              "      fill: #FFFFFF;\n",
              "    }\n",
              "  </style>\n",
              "\n",
              "      <script>\n",
              "        const buttonEl =\n",
              "          document.querySelector('#df-e4acb7b1-438d-4e67-9ddf-ed217eb029da button.colab-df-convert');\n",
              "        buttonEl.style.display =\n",
              "          google.colab.kernel.accessAllowed ? 'block' : 'none';\n",
              "\n",
              "        async function convertToInteractive(key) {\n",
              "          const element = document.querySelector('#df-e4acb7b1-438d-4e67-9ddf-ed217eb029da');\n",
              "          const dataTable =\n",
              "            await google.colab.kernel.invokeFunction('convertToInteractive',\n",
              "                                                     [key], {});\n",
              "          if (!dataTable) return;\n",
              "\n",
              "          const docLinkHtml = 'Like what you see? Visit the ' +\n",
              "            '<a target=\"_blank\" href=https://colab.research.google.com/notebooks/data_table.ipynb>data table notebook</a>'\n",
              "            + ' to learn more about interactive tables.';\n",
              "          element.innerHTML = '';\n",
              "          dataTable['output_type'] = 'display_data';\n",
              "          await google.colab.output.renderOutput(dataTable, element);\n",
              "          const docLink = document.createElement('div');\n",
              "          docLink.innerHTML = docLinkHtml;\n",
              "          element.appendChild(docLink);\n",
              "        }\n",
              "      </script>\n",
              "    </div>\n",
              "  </div>\n",
              "  "
            ]
          },
          "metadata": {},
          "execution_count": 64
        }
      ],
      "source": [
        "y_pred_test = dtc.predict(X_test)\n",
        "test = pd.DataFrame({'Actual':y_test,'y_test predicted':y_pred_test})\n",
        "test.sample(10)"
      ]
    },
    {
      "cell_type": "code",
      "execution_count": null,
      "id": "fc2865a1",
      "metadata": {
        "colab": {
          "base_uri": "https://localhost:8080/"
        },
        "id": "fc2865a1",
        "outputId": "6f837334-85b8-4392-b37e-f5a0deed6970"
      },
      "outputs": [
        {
          "output_type": "stream",
          "name": "stdout",
          "text": [
            "0.9471624266144814\n"
          ]
        }
      ],
      "source": [
        "rfc = RandomForestClassifier(max_depth = 5)\n",
        "rfc.fit(X_train,y_train)\n",
        "y_pred3 = rfc.predict(X_test)\n",
        "print(accuracy_score(y_test,y_pred3))\n",
        "accuracy[str(rfc)] = accuracy_score(y_test,y_pred3)*100"
      ]
    },
    {
      "cell_type": "code",
      "execution_count": null,
      "id": "626c9436",
      "metadata": {
        "colab": {
          "base_uri": "https://localhost:8080/",
          "height": 337
        },
        "id": "626c9436",
        "outputId": "ecd0f4cc-34da-47f0-e48a-3385b1562a0d"
      },
      "outputs": [
        {
          "output_type": "execute_result",
          "data": {
            "text/plain": [
              "<Axes: >"
            ]
          },
          "metadata": {},
          "execution_count": 66
        },
        {
          "output_type": "display_data",
          "data": {
            "text/plain": [
              "<Figure size 576x360 with 2 Axes>"
            ],
            "image/png": "[encoded data removed]"
          },
          "metadata": {
            "needs_background": "light"
          }
        }
      ],
      "source": [
        "cm = confusion_matrix(y_test,y_pred3)\n",
        "conf_matrix = pd.DataFrame(data = cm, columns = ['Predict: 0','Predict: 1'],index = ['Actual: 0','Actual: 1' ])\n",
        "plt.figure(figsize = (8,5))\n",
        "sns.heatmap(conf_matrix, annot = True, fmt = 'd', cmap = 'YlGnBu')"
      ]
    },
    {
      "cell_type": "code",
      "execution_count": null,
      "id": "050309c8",
      "metadata": {
        "colab": {
          "base_uri": "https://localhost:8080/"
        },
        "id": "050309c8",
        "outputId": "30bee58c-9c38-4e65-eb60-ad8d3dc5a5f7"
      },
      "outputs": [
        {
          "output_type": "stream",
          "name": "stdout",
          "text": [
            "0.9425962165688193\n"
          ]
        }
      ],
      "source": [
        "gbc = GradientBoostingClassifier(n_estimators = 100, learning_rate = 0.1 )\n",
        "gbc.fit(X_train,y_train)\n",
        "y_pred4 = gbc.predict(X_test)\n",
        "print(accuracy_score(y_test,y_pred4))\n",
        "accuracy[str(gbc)] = accuracy_score(y_test,y_pred4)*100"
      ]
    },
    {
      "cell_type": "code",
      "execution_count": null,
      "id": "6f76ded5",
      "metadata": {
        "colab": {
          "base_uri": "https://localhost:8080/",
          "height": 337
        },
        "id": "6f76ded5",
        "outputId": "19ddc544-baf3-4df4-dd1c-d25ba55f5206"
      },
      "outputs": [
        {
          "output_type": "execute_result",
          "data": {
            "text/plain": [
              "<Axes: >"
            ]
          },
          "metadata": {},
          "execution_count": 68
        },
        {
          "output_type": "display_data",
          "data": {
            "text/plain": [
              "<Figure size 576x360 with 2 Axes>"
            ],
            "image/png": "[encoded data removed]"
          },
          "metadata": {
            "needs_background": "light"
          }
        }
      ],
      "source": [
        "cm = confusion_matrix(y_test,y_pred4)\n",
        "conf_matrix = pd.DataFrame(data = cm, columns = ['Predict: 0','Predict: 1'],index = ['Actual: 0','Actual: 1' ])\n",
        "plt.figure(figsize = (8,5))\n",
        "sns.heatmap(conf_matrix, annot = True, fmt = 'd', cmap = 'YlGnBu')"
      ]
    },
    {
      "cell_type": "code",
      "execution_count": null,
      "id": "33e120df",
      "metadata": {
        "colab": {
          "base_uri": "https://localhost:8080/"
        },
        "id": "33e120df",
        "outputId": "24aacc71-14df-4824-ae7f-1aefa7afee25"
      },
      "outputs": [
        {
          "output_type": "stream",
          "name": "stdout",
          "text": [
            "0.9471624266144814\n"
          ]
        }
      ],
      "source": [
        "svc = SVC()\n",
        "svc.fit(X_train,y_train)\n",
        "y_pred5 = svc.predict(X_test)\n",
        "print(accuracy_score(y_test,y_pred5))\n",
        "accuracy[str(svc)] = accuracy_score(y_test,y_pred5)*100"
      ]
    },
    {
      "cell_type": "code",
      "execution_count": null,
      "id": "f0f063aa",
      "metadata": {
        "colab": {
          "base_uri": "https://localhost:8080/",
          "height": 337
        },
        "id": "f0f063aa",
        "outputId": "7d004dda-40d6-4fd8-ff19-cb3677f15098"
      },
      "outputs": [
        {
          "output_type": "execute_result",
          "data": {
            "text/plain": [
              "<Axes: >"
            ]
          },
          "metadata": {},
          "execution_count": 70
        },
        {
          "output_type": "display_data",
          "data": {
            "text/plain": [
              "<Figure size 576x360 with 2 Axes>"
            ],
            "image/png": "[encoded data removed]"
          },
          "metadata": {
            "needs_background": "light"
          }
        }
      ],
      "source": [
        "cm = confusion_matrix(y_test,y_pred5)\n",
        "conf_matrix = pd.DataFrame(data = cm, columns = ['Predict: 0','Predict: 1'],index = ['Actual: 0','Actual: 1' ])\n",
        "plt.figure(figsize = (8,5))\n",
        "sns.heatmap(conf_matrix, annot = True, fmt = 'd', cmap = 'YlGnBu')"
      ]
    },
    {
      "cell_type": "code",
      "execution_count": null,
      "id": "4028a51f",
      "metadata": {
        "colab": {
          "base_uri": "https://localhost:8080/"
        },
        "id": "4028a51f",
        "outputId": "3e0ad745-b2ef-4b2f-9abb-f33cbb6cfeba"
      },
      "outputs": [
        {
          "output_type": "execute_result",
          "data": {
            "text/plain": [
              "{'LogisticRegression(max_iter=200)': 94.71624266144813,\n",
              " 'DecisionTreeClassifier(max_depth=3)': 94.65101108936726,\n",
              " 'RandomForestClassifier(max_depth=5)': 94.71624266144813,\n",
              " 'GradientBoostingClassifier()': 94.25962165688193,\n",
              " 'SVC()': 94.71624266144813}"
            ]
          },
          "metadata": {},
          "execution_count": 71
        }
      ],
      "source": [
        "accuracy"
      ]
    },
    {
      "cell_type": "markdown",
      "id": "0d0b362d",
      "metadata": {
        "id": "0d0b362d"
      },
      "source": [
        "# Conclusions:\n",
        "- Almost all heart diseases are caused to people above age 50.\n",
        "- Hypertension disease in people of above 50.\n",
        "- 'BMI','Age' and 'Glucose_level' are important features.\n",
        "- Only 249 of the total dataset records have stroke."
      ]
    },
    {
      "cell_type": "code",
      "execution_count": null,
      "id": "1d3a2976",
      "metadata": {
        "id": "1d3a2976"
      },
      "outputs": [],
      "source": [
        "# conda install -c conda-forge imbalanced-learn"
      ]
    },
    {
      "cell_type": "code",
      "execution_count": null,
      "id": "7e15d2df",
      "metadata": {
        "id": "7e15d2df"
      },
      "outputs": [],
      "source": [
        "from imblearn import under_sampling, over_sampling\n",
        "from imblearn.over_sampling import SMOTE\n",
        "smote = SMOTE()\n",
        "x1,y1 = smote.fit_resample(x,y)"
      ]
    },
    {
      "cell_type": "code",
      "execution_count": null,
      "id": "005fcc87",
      "metadata": {
        "colab": {
          "base_uri": "https://localhost:8080/"
        },
        "id": "005fcc87",
        "outputId": "e134c5f3-fedf-4217-b78a-38c93ae96493"
      },
      "outputs": [
        {
          "output_type": "execute_result",
          "data": {
            "text/plain": [
              "(9722, 21)"
            ]
          },
          "metadata": {},
          "execution_count": 74
        }
      ],
      "source": [
        "x1.shape"
      ]
    },
    {
      "cell_type": "code",
      "execution_count": null,
      "id": "76b4ce10",
      "metadata": {
        "id": "76b4ce10"
      },
      "outputs": [],
      "source": [
        "X_train,X_test, y_train, y_test = train_test_split(x1,y1,test_size = 0.3, shuffle = 'True',random_state = 3)"
      ]
    },
    {
      "cell_type": "code",
      "execution_count": null,
      "id": "c7e5292b",
      "metadata": {
        "colab": {
          "base_uri": "https://localhost:8080/"
        },
        "id": "c7e5292b",
        "outputId": "b26b47a6-823c-4899-cdb2-23257f35701e"
      },
      "outputs": [
        {
          "output_type": "stream",
          "name": "stdout",
          "text": [
            "(6805, 21) (2917, 21)\n"
          ]
        }
      ],
      "source": [
        "print(X_train.shape,X_test.shape)"
      ]
    },
    {
      "cell_type": "code",
      "execution_count": null,
      "id": "3a0bb33b",
      "metadata": {
        "colab": {
          "base_uri": "https://localhost:8080/"
        },
        "id": "3a0bb33b",
        "outputId": "8e1219f0-88a4-42bc-851b-416c806beab6"
      },
      "outputs": [
        {
          "output_type": "stream",
          "name": "stdout",
          "text": [
            "0.7929379499485774\n"
          ]
        }
      ],
      "source": [
        "lr = LogisticRegression(max_iter = 200)\n",
        "lr.fit(X_train,y_train)\n",
        "y_pred1 = lr.predict(X_test)\n",
        "print(accuracy_score(y_test,y_pred1))\n",
        "accuracy[str(lr)] = accuracy_score(y_test,y_pred1)*100"
      ]
    },
    {
      "cell_type": "code",
      "execution_count": null,
      "id": "3d699fe6",
      "metadata": {
        "colab": {
          "base_uri": "https://localhost:8080/",
          "height": 337
        },
        "id": "3d699fe6",
        "outputId": "6d285ccd-0c02-4a10-81c4-c5d3d90a2746"
      },
      "outputs": [
        {
          "output_type": "execute_result",
          "data": {
            "text/plain": [
              "<Axes: >"
            ]
          },
          "metadata": {},
          "execution_count": 78
        },
        {
          "output_type": "display_data",
          "data": {
            "text/plain": [
              "<Figure size 576x360 with 2 Axes>"
            ],
            "image/png": "[encoded data removed]"
          },
          "metadata": {
            "needs_background": "light"
          }
        }
      ],
      "source": [
        "cm =confusion_matrix(y_test,y_pred1)\n",
        "conf_matrix = pd.DataFrame(data = cm, columns = ['Predicted: 0','Predicted: 1'],index = ['Actual: 0', 'Actual: 1'])\n",
        "plt.figure(figsize = (8,5))\n",
        "sns.heatmap(conf_matrix,annot = True,fmt = 'd', cmap = \"YlGnBu\")"
      ]
    },
    {
      "cell_type": "code",
      "execution_count": null,
      "id": "9031f1de",
      "metadata": {
        "colab": {
          "base_uri": "https://localhost:8080/"
        },
        "id": "9031f1de",
        "outputId": "91f2f33f-ea55-41f3-c7b9-85a4dd137808"
      },
      "outputs": [
        {
          "output_type": "stream",
          "name": "stdout",
          "text": [
            "              precision    recall  f1-score   support\n",
            "\n",
            "           0       0.82      0.75      0.78      1453\n",
            "           1       0.77      0.84      0.80      1464\n",
            "\n",
            "    accuracy                           0.79      2917\n",
            "   macro avg       0.80      0.79      0.79      2917\n",
            "weighted avg       0.80      0.79      0.79      2917\n",
            "\n"
          ]
        }
      ],
      "source": [
        "print(classification_report(y_test,y_pred1))"
      ]
    },
    {
      "cell_type": "code",
      "execution_count": null,
      "id": "813ce230",
      "metadata": {
        "colab": {
          "base_uri": "https://localhost:8080/",
          "height": 206
        },
        "id": "813ce230",
        "outputId": "48149ee2-46e8-49ce-c906-506e83069449"
      },
      "outputs": [
        {
          "output_type": "execute_result",
          "data": {
            "text/plain": [
              "      Actual  Y test predicted\n",
              "6893       1                 1\n",
              "940        0                 0\n",
              "5285       1                 1\n",
              "1839       0                 1\n",
              "9293       1                 0"
            ],
            "text/html": [
              "\n",
              "  <div id=\"df-255428a0-41d4-4592-8840-8c4fb122ab55\">\n",
              "    <div class=\"colab-df-container\">\n",
              "      <div>\n",
              "<style scoped>\n",
              "    .dataframe tbody tr th:only-of-type {\n",
              "        vertical-align: middle;\n",
              "    }\n",
              "\n",
              "    .dataframe tbody tr th {\n",
              "        vertical-align: top;\n",
              "    }\n",
              "\n",
              "    .dataframe thead th {\n",
              "        text-align: right;\n",
              "    }\n",
              "</style>\n",
              "<table border=\"1\" class=\"dataframe\">\n",
              "  <thead>\n",
              "    <tr style=\"text-align: right;\">\n",
              "      <th></th>\n",
              "      <th>Actual</th>\n",
              "      <th>Y test predicted</th>\n",
              "    </tr>\n",
              "  </thead>\n",
              "  <tbody>\n",
              "    <tr>\n",
              "      <th>6893</th>\n",
              "      <td>1</td>\n",
              "      <td>1</td>\n",
              "    </tr>\n",
              "    <tr>\n",
              "      <th>940</th>\n",
              "      <td>0</td>\n",
              "      <td>0</td>\n",
              "    </tr>\n",
              "    <tr>\n",
              "      <th>5285</th>\n",
              "      <td>1</td>\n",
              "      <td>1</td>\n",
              "    </tr>\n",
              "    <tr>\n",
              "      <th>1839</th>\n",
              "      <td>0</td>\n",
              "      <td>1</td>\n",
              "    </tr>\n",
              "    <tr>\n",
              "      <th>9293</th>\n",
              "      <td>1</td>\n",
              "      <td>0</td>\n",
              "    </tr>\n",
              "  </tbody>\n",
              "</table>\n",
              "</div>\n",
              "      <button class=\"colab-df-convert\" onclick=\"convertToInteractive('df-255428a0-41d4-4592-8840-8c4fb122ab55')\"\n",
              "              title=\"Convert this dataframe to an interactive table.\"\n",
              "              style=\"display:none;\">\n",
              "        \n",
              "  <svg xmlns=\"http://www.w3.org/2000/svg\" height=\"24px\"viewBox=\"0 0 24 24\"\n",
              "       width=\"24px\">\n",
              "    <path d=\"M0 0h24v24H0V0z\" fill=\"none\"/>\n",
              "    <path d=\"M18.56 5.44l.94 2.06.94-2.06 2.06-.94-2.06-.94-.94-2.06-.94 2.06-2.06.94zm-11 1L8.5 8.5l.94-2.06 2.06-.94-2.06-.94L8.5 2.5l-.94 2.06-2.06.94zm10 10l.94 2.06.94-2.06 2.06-.94-2.06-.94-.94-2.06-.94 2.06-2.06.94z\"/><path d=\"M17.41 7.96l-1.37-1.37c-.4-.4-.92-.59-1.43-.59-.52 0-1.04.2-1.43.59L10.3 9.45l-7.72 7.72c-.78.78-.78 2.05 0 2.83L4 21.41c.39.39.9.59 1.41.59.51 0 1.02-.2 1.41-.59l7.78-7.78 2.81-2.81c.8-.78.8-2.07 0-2.86zM5.41 20L4 18.59l7.72-7.72 1.47 1.35L5.41 20z\"/>\n",
              "  </svg>\n",
              "      </button>\n",
              "      \n",
              "  <style>\n",
              "    .colab-df-container {\n",
              "      display:flex;\n",
              "      flex-wrap:wrap;\n",
              "      gap: 12px;\n",
              "    }\n",
              "\n",
              "    .colab-df-convert {\n",
              "      background-color: #E8F0FE;\n",
              "      border: none;\n",
              "      border-radius: 50%;\n",
              "      cursor: pointer;\n",
              "      display: none;\n",
              "      fill: #1967D2;\n",
              "      height: 32px;\n",
              "      padding: 0 0 0 0;\n",
              "      width: 32px;\n",
              "    }\n",
              "\n",
              "    .colab-df-convert:hover {\n",
              "      background-color: #E2EBFA;\n",
              "      box-shadow: 0px 1px 2px rgba(60, 64, 67, 0.3), 0px 1px 3px 1px rgba(60, 64, 67, 0.15);\n",
              "      fill: #174EA6;\n",
              "    }\n",
              "\n",
              "    [theme=dark] .colab-df-convert {\n",
              "      background-color: #3B4455;\n",
              "      fill: #D2E3FC;\n",
              "    }\n",
              "\n",
              "    [theme=dark] .colab-df-convert:hover {\n",
              "      background-color: #434B5C;\n",
              "      box-shadow: 0px 1px 3px 1px rgba(0, 0, 0, 0.15);\n",
              "      filter: drop-shadow(0px 1px 2px rgba(0, 0, 0, 0.3));\n",
              "      fill: #FFFFFF;\n",
              "    }\n",
              "  </style>\n",
              "\n",
              "      <script>\n",
              "        const buttonEl =\n",
              "          document.querySelector('#df-255428a0-41d4-4592-8840-8c4fb122ab55 button.colab-df-convert');\n",
              "        buttonEl.style.display =\n",
              "          google.colab.kernel.accessAllowed ? 'block' : 'none';\n",
              "\n",
              "        async function convertToInteractive(key) {\n",
              "          const element = document.querySelector('#df-255428a0-41d4-4592-8840-8c4fb122ab55');\n",
              "          const dataTable =\n",
              "            await google.colab.kernel.invokeFunction('convertToInteractive',\n",
              "                                                     [key], {});\n",
              "          if (!dataTable) return;\n",
              "\n",
              "          const docLinkHtml = 'Like what you see? Visit the ' +\n",
              "            '<a target=\"_blank\" href=https://colab.research.google.com/notebooks/data_table.ipynb>data table notebook</a>'\n",
              "            + ' to learn more about interactive tables.';\n",
              "          element.innerHTML = '';\n",
              "          dataTable['output_type'] = 'display_data';\n",
              "          await google.colab.output.renderOutput(dataTable, element);\n",
              "          const docLink = document.createElement('div');\n",
              "          docLink.innerHTML = docLinkHtml;\n",
              "          element.appendChild(docLink);\n",
              "        }\n",
              "      </script>\n",
              "    </div>\n",
              "  </div>\n",
              "  "
            ]
          },
          "metadata": {},
          "execution_count": 80
        }
      ],
      "source": [
        " y_pred_test = lr.predict(X_test)\n",
        "\n",
        "test = pd.DataFrame({\n",
        "    'Actual':y_test,\n",
        "    'Y test predicted':y_pred_test\n",
        "})\n",
        "test.head()"
      ]
    },
    {
      "cell_type": "code",
      "execution_count": null,
      "id": "174c0ca4",
      "metadata": {
        "colab": {
          "base_uri": "https://localhost:8080/"
        },
        "id": "174c0ca4",
        "outputId": "9324eadc-52c8-417b-92d6-a21b06e9955d"
      },
      "outputs": [
        {
          "output_type": "stream",
          "name": "stdout",
          "text": [
            "0.9088104216660953\n"
          ]
        }
      ],
      "source": [
        "knn = KNeighborsClassifier(n_neighbors = 3)\n",
        "knn.fit(X_train,y_train)\n",
        "y_pred2 = knn.predict(X_test)\n",
        "print(accuracy_score(y_test,y_pred2))\n",
        "accuracy[str(knn)] = accuracy_score(y_test,y_pred2)*100"
      ]
    },
    {
      "cell_type": "code",
      "execution_count": null,
      "id": "588dbf95",
      "metadata": {
        "colab": {
          "base_uri": "https://localhost:8080/",
          "height": 337
        },
        "id": "588dbf95",
        "outputId": "597aa4f8-d7e5-4f7d-fd6a-77a6d9599507"
      },
      "outputs": [
        {
          "output_type": "execute_result",
          "data": {
            "text/plain": [
              "<Axes: >"
            ]
          },
          "metadata": {},
          "execution_count": 82
        },
        {
          "output_type": "display_data",
          "data": {
            "text/plain": [
              "<Figure size 576x360 with 2 Axes>"
            ],
            "image/png": "[encoded data removed]"
          },
          "metadata": {
            "needs_background": "light"
          }
        }
      ],
      "source": [
        "cm =confusion_matrix(y_test,y_pred2)\n",
        "conf_matrix = pd.DataFrame(data = cm, columns = ['Predicted: 0','Predicted: 1'],index = ['Actual: 0', 'Actual: 1'])\n",
        "plt.figure(figsize = (8,5))\n",
        "sns.heatmap(conf_matrix,annot = True,fmt = 'd', cmap = \"YlGnBu\")"
      ]
    },
    {
      "cell_type": "code",
      "execution_count": null,
      "id": "af4aaa71",
      "metadata": {
        "colab": {
          "base_uri": "https://localhost:8080/"
        },
        "id": "af4aaa71",
        "outputId": "0d394be7-418c-4639-b54e-7fe4dd3dbf43"
      },
      "outputs": [
        {
          "output_type": "stream",
          "name": "stdout",
          "text": [
            "              precision    recall  f1-score   support\n",
            "\n",
            "           0       0.97      0.84      0.90      1453\n",
            "           1       0.86      0.98      0.91      1464\n",
            "\n",
            "    accuracy                           0.91      2917\n",
            "   macro avg       0.92      0.91      0.91      2917\n",
            "weighted avg       0.92      0.91      0.91      2917\n",
            "\n"
          ]
        }
      ],
      "source": [
        "print(classification_report(y_test,y_pred2))"
      ]
    },
    {
      "cell_type": "code",
      "execution_count": null,
      "id": "ca33ff46",
      "metadata": {
        "colab": {
          "base_uri": "https://localhost:8080/",
          "height": 363
        },
        "id": "ca33ff46",
        "outputId": "093ef872-bfcc-4653-82b2-07606d31f6ee"
      },
      "outputs": [
        {
          "output_type": "execute_result",
          "data": {
            "text/plain": [
              "      Actual  Y test predicted\n",
              "6893       1                 1\n",
              "940        0                 0\n",
              "5285       1                 1\n",
              "1839       0                 1\n",
              "9293       1                 1\n",
              "2262       0                 1\n",
              "955        0                 0\n",
              "146        1                 0\n",
              "6834       1                 1\n",
              "1757       0                 0"
            ],
            "text/html": [
              "\n",
              "  <div id=\"df-22fcf834-95a0-438b-9432-00a72801df6f\">\n",
              "    <div class=\"colab-df-container\">\n",
              "      <div>\n",
              "<style scoped>\n",
              "    .dataframe tbody tr th:only-of-type {\n",
              "        vertical-align: middle;\n",
              "    }\n",
              "\n",
              "    .dataframe tbody tr th {\n",
              "        vertical-align: top;\n",
              "    }\n",
              "\n",
              "    .dataframe thead th {\n",
              "        text-align: right;\n",
              "    }\n",
              "</style>\n",
              "<table border=\"1\" class=\"dataframe\">\n",
              "  <thead>\n",
              "    <tr style=\"text-align: right;\">\n",
              "      <th></th>\n",
              "      <th>Actual</th>\n",
              "      <th>Y test predicted</th>\n",
              "    </tr>\n",
              "  </thead>\n",
              "  <tbody>\n",
              "    <tr>\n",
              "      <th>6893</th>\n",
              "      <td>1</td>\n",
              "      <td>1</td>\n",
              "    </tr>\n",
              "    <tr>\n",
              "      <th>940</th>\n",
              "      <td>0</td>\n",
              "      <td>0</td>\n",
              "    </tr>\n",
              "    <tr>\n",
              "      <th>5285</th>\n",
              "      <td>1</td>\n",
              "      <td>1</td>\n",
              "    </tr>\n",
              "    <tr>\n",
              "      <th>1839</th>\n",
              "      <td>0</td>\n",
              "      <td>1</td>\n",
              "    </tr>\n",
              "    <tr>\n",
              "      <th>9293</th>\n",
              "      <td>1</td>\n",
              "      <td>1</td>\n",
              "    </tr>\n",
              "    <tr>\n",
              "      <th>2262</th>\n",
              "      <td>0</td>\n",
              "      <td>1</td>\n",
              "    </tr>\n",
              "    <tr>\n",
              "      <th>955</th>\n",
              "      <td>0</td>\n",
              "      <td>0</td>\n",
              "    </tr>\n",
              "    <tr>\n",
              "      <th>146</th>\n",
              "      <td>1</td>\n",
              "      <td>0</td>\n",
              "    </tr>\n",
              "    <tr>\n",
              "      <th>6834</th>\n",
              "      <td>1</td>\n",
              "      <td>1</td>\n",
              "    </tr>\n",
              "    <tr>\n",
              "      <th>1757</th>\n",
              "      <td>0</td>\n",
              "      <td>0</td>\n",
              "    </tr>\n",
              "  </tbody>\n",
              "</table>\n",
              "</div>\n",
              "      <button class=\"colab-df-convert\" onclick=\"convertToInteractive('df-22fcf834-95a0-438b-9432-00a72801df6f')\"\n",
              "              title=\"Convert this dataframe to an interactive table.\"\n",
              "              style=\"display:none;\">\n",
              "        \n",
              "  <svg xmlns=\"http://www.w3.org/2000/svg\" height=\"24px\"viewBox=\"0 0 24 24\"\n",
              "       width=\"24px\">\n",
              "    <path d=\"M0 0h24v24H0V0z\" fill=\"none\"/>\n",
              "    <path d=\"M18.56 5.44l.94 2.06.94-2.06 2.06-.94-2.06-.94-.94-2.06-.94 2.06-2.06.94zm-11 1L8.5 8.5l.94-2.06 2.06-.94-2.06-.94L8.5 2.5l-.94 2.06-2.06.94zm10 10l.94 2.06.94-2.06 2.06-.94-2.06-.94-.94-2.06-.94 2.06-2.06.94z\"/><path d=\"M17.41 7.96l-1.37-1.37c-.4-.4-.92-.59-1.43-.59-.52 0-1.04.2-1.43.59L10.3 9.45l-7.72 7.72c-.78.78-.78 2.05 0 2.83L4 21.41c.39.39.9.59 1.41.59.51 0 1.02-.2 1.41-.59l7.78-7.78 2.81-2.81c.8-.78.8-2.07 0-2.86zM5.41 20L4 18.59l7.72-7.72 1.47 1.35L5.41 20z\"/>\n",
              "  </svg>\n",
              "      </button>\n",
              "      \n",
              "  <style>\n",
              "    .colab-df-container {\n",
              "      display:flex;\n",
              "      flex-wrap:wrap;\n",
              "      gap: 12px;\n",
              "    }\n",
              "\n",
              "    .colab-df-convert {\n",
              "      background-color: #E8F0FE;\n",
              "      border: none;\n",
              "      border-radius: 50%;\n",
              "      cursor: pointer;\n",
              "      display: none;\n",
              "      fill: #1967D2;\n",
              "      height: 32px;\n",
              "      padding: 0 0 0 0;\n",
              "      width: 32px;\n",
              "    }\n",
              "\n",
              "    .colab-df-convert:hover {\n",
              "      background-color: #E2EBFA;\n",
              "      box-shadow: 0px 1px 2px rgba(60, 64, 67, 0.3), 0px 1px 3px 1px rgba(60, 64, 67, 0.15);\n",
              "      fill: #174EA6;\n",
              "    }\n",
              "\n",
              "    [theme=dark] .colab-df-convert {\n",
              "      background-color: #3B4455;\n",
              "      fill: #D2E3FC;\n",
              "    }\n",
              "\n",
              "    [theme=dark] .colab-df-convert:hover {\n",
              "      background-color: #434B5C;\n",
              "      box-shadow: 0px 1px 3px 1px rgba(0, 0, 0, 0.15);\n",
              "      filter: drop-shadow(0px 1px 2px rgba(0, 0, 0, 0.3));\n",
              "      fill: #FFFFFF;\n",
              "    }\n",
              "  </style>\n",
              "\n",
              "      <script>\n",
              "        const buttonEl =\n",
              "          document.querySelector('#df-22fcf834-95a0-438b-9432-00a72801df6f button.colab-df-convert');\n",
              "        buttonEl.style.display =\n",
              "          google.colab.kernel.accessAllowed ? 'block' : 'none';\n",
              "\n",
              "        async function convertToInteractive(key) {\n",
              "          const element = document.querySelector('#df-22fcf834-95a0-438b-9432-00a72801df6f');\n",
              "          const dataTable =\n",
              "            await google.colab.kernel.invokeFunction('convertToInteractive',\n",
              "                                                     [key], {});\n",
              "          if (!dataTable) return;\n",
              "\n",
              "          const docLinkHtml = 'Like what you see? Visit the ' +\n",
              "            '<a target=\"_blank\" href=https://colab.research.google.com/notebooks/data_table.ipynb>data table notebook</a>'\n",
              "            + ' to learn more about interactive tables.';\n",
              "          element.innerHTML = '';\n",
              "          dataTable['output_type'] = 'display_data';\n",
              "          await google.colab.output.renderOutput(dataTable, element);\n",
              "          const docLink = document.createElement('div');\n",
              "          docLink.innerHTML = docLinkHtml;\n",
              "          element.appendChild(docLink);\n",
              "        }\n",
              "      </script>\n",
              "    </div>\n",
              "  </div>\n",
              "  "
            ]
          },
          "metadata": {},
          "execution_count": 84
        }
      ],
      "source": [
        " y_pred_test = knn.predict(X_test)\n",
        "\n",
        "test = pd.DataFrame({\n",
        "    'Actual':y_test,\n",
        "    'Y test predicted':y_pred_test\n",
        "})\n",
        "test.head(10)"
      ]
    },
    {
      "cell_type": "code",
      "execution_count": null,
      "id": "5c7c4992",
      "metadata": {
        "id": "5c7c4992"
      },
      "outputs": [],
      "source": [
        "#  DeepLearning\n",
        "import tensorflow as tf\n",
        "from tensorflow import keras\n"
      ]
    },
    {
      "cell_type": "code",
      "execution_count": null,
      "id": "09e35d02",
      "metadata": {
        "colab": {
          "base_uri": "https://localhost:8080/"
        },
        "id": "09e35d02",
        "outputId": "98627fb0-2eb4-4543-ecd2-301a5d2bf85a"
      },
      "outputs": [
        {
          "output_type": "stream",
          "name": "stdout",
          "text": [
            "Model: \"sequential\"\n",
            "_________________________________________________________________\n",
            " Layer (type)                Output Shape              Param #   \n",
            "=================================================================\n",
            " dense (Dense)               (None, 4800)              105600    \n",
            "                                                                 \n",
            " dense_1 (Dense)             (None, 2000)              9602000   \n",
            "                                                                 \n",
            " dense_2 (Dense)             (None, 1000)              2001000   \n",
            "                                                                 \n",
            " dense_3 (Dense)             (None, 100)               100100    \n",
            "                                                                 \n",
            " dense_4 (Dense)             (None, 1)                 101       \n",
            "                                                                 \n",
            "=================================================================\n",
            "Total params: 11,808,801\n",
            "Trainable params: 11,808,801\n",
            "Non-trainable params: 0\n",
            "_________________________________________________________________\n"
          ]
        }
      ],
      "source": [
        "model = keras.Sequential([\n",
        "    keras.layers.Dense(4800,input_shape = [21], activation = 'relu'),\n",
        "    keras.layers.Dense(2000, activation='relu'),\n",
        "    keras.layers.Dense(1000, activation='relu'),\n",
        "    keras.layers.Dense(100, activation='relu'),\n",
        "    keras.layers.Dense(1,activation='sigmoid')\n",
        "    ])\n",
        "model.summary()"
      ]
    },
    {
      "cell_type": "code",
      "execution_count": null,
      "id": "15dec9a3",
      "metadata": {
        "id": "15dec9a3"
      },
      "outputs": [],
      "source": [
        "model.compile(loss = 'binary_crossentropy', optimizer = 'adam', metrics = ['accuracy'])"
      ]
    },
    {
      "cell_type": "code",
      "source": [
        "train = model.fit(X_train,y_train, epochs =50, batch_size = 100)"
      ],
      "metadata": {
        "colab": {
          "base_uri": "https://localhost:8080/"
        },
        "id": "NXYCEV7nZUAg",
        "outputId": "e0c73c24-5509-4fdd-cc84-18dc1ef87b09"
      },
      "id": "NXYCEV7nZUAg",
      "execution_count": null,
      "outputs": [
        {
          "output_type": "stream",
          "name": "stdout",
          "text": [
            "Epoch 1/50\n",
            "69/69 [==============================] - 32s 459ms/step - loss: 0.1777 - accuracy: 0.9274\n",
            "Epoch 2/50\n",
            "69/69 [==============================] - 30s 441ms/step - loss: 0.1807 - accuracy: 0.9327\n",
            "Epoch 3/50\n",
            "69/69 [==============================] - 38s 547ms/step - loss: 0.1595 - accuracy: 0.9368\n",
            "Epoch 4/50\n",
            "69/69 [==============================] - 28s 406ms/step - loss: 0.1592 - accuracy: 0.9399\n",
            "Epoch 5/50\n",
            "69/69 [==============================] - 22s 326ms/step - loss: 0.1462 - accuracy: 0.9452\n",
            "Epoch 6/50\n",
            "69/69 [==============================] - 22s 315ms/step - loss: 0.1436 - accuracy: 0.9471\n",
            "Epoch 7/50\n",
            "69/69 [==============================] - 23s 324ms/step - loss: 0.1482 - accuracy: 0.9424\n",
            "Epoch 8/50\n",
            "69/69 [==============================] - 23s 329ms/step - loss: 0.1309 - accuracy: 0.9502\n",
            "Epoch 9/50\n",
            "69/69 [==============================] - 24s 355ms/step - loss: 0.1135 - accuracy: 0.9584\n",
            "Epoch 10/50\n",
            "69/69 [==============================] - 30s 431ms/step - loss: 0.1265 - accuracy: 0.9525\n",
            "Epoch 11/50\n",
            "69/69 [==============================] - 23s 330ms/step - loss: 0.1102 - accuracy: 0.9614\n",
            "Epoch 12/50\n",
            "69/69 [==============================] - 36s 526ms/step - loss: 0.1024 - accuracy: 0.9619\n",
            "Epoch 13/50\n",
            "69/69 [==============================] - 22s 315ms/step - loss: 0.1061 - accuracy: 0.9606\n",
            "Epoch 14/50\n",
            "69/69 [==============================] - 31s 455ms/step - loss: 0.1095 - accuracy: 0.9590\n",
            "Epoch 15/50\n",
            "69/69 [==============================] - 41s 591ms/step - loss: 0.0978 - accuracy: 0.9614\n",
            "Epoch 16/50\n",
            "69/69 [==============================] - 33s 473ms/step - loss: 0.0931 - accuracy: 0.9663\n",
            "Epoch 17/50\n",
            "69/69 [==============================] - 33s 473ms/step - loss: 0.0808 - accuracy: 0.9708\n",
            "Epoch 18/50\n",
            "69/69 [==============================] - 37s 533ms/step - loss: 0.0936 - accuracy: 0.9665\n",
            "Epoch 19/50\n",
            "69/69 [==============================] - 34s 498ms/step - loss: 0.0855 - accuracy: 0.9687\n",
            "Epoch 20/50\n",
            "69/69 [==============================] - 23s 330ms/step - loss: 0.0875 - accuracy: 0.9681\n",
            "Epoch 21/50\n",
            "69/69 [==============================] - 23s 329ms/step - loss: 0.0986 - accuracy: 0.9662\n",
            "Epoch 22/50\n",
            "69/69 [==============================] - 22s 313ms/step - loss: 0.0926 - accuracy: 0.9650\n",
            "Epoch 23/50\n",
            "69/69 [==============================] - 24s 345ms/step - loss: 0.0876 - accuracy: 0.9687\n",
            "Epoch 24/50\n",
            "69/69 [==============================] - 23s 331ms/step - loss: 0.0868 - accuracy: 0.9686\n",
            "Epoch 25/50\n",
            "69/69 [==============================] - 23s 333ms/step - loss: 0.0801 - accuracy: 0.9694\n",
            "Epoch 26/50\n",
            "69/69 [==============================] - 23s 332ms/step - loss: 0.0808 - accuracy: 0.9705\n",
            "Epoch 27/50\n",
            "69/69 [==============================] - 22s 316ms/step - loss: 0.0734 - accuracy: 0.9735\n",
            "Epoch 28/50\n",
            "69/69 [==============================] - 23s 333ms/step - loss: 0.0769 - accuracy: 0.9730\n",
            "Epoch 29/50\n",
            "69/69 [==============================] - 23s 331ms/step - loss: 0.0670 - accuracy: 0.9769\n",
            "Epoch 30/50\n",
            "69/69 [==============================] - 23s 333ms/step - loss: 0.0700 - accuracy: 0.9747\n",
            "Epoch 31/50\n",
            "69/69 [==============================] - 22s 315ms/step - loss: 0.0545 - accuracy: 0.9797\n",
            "Epoch 32/50\n",
            "69/69 [==============================] - 23s 333ms/step - loss: 0.1062 - accuracy: 0.9655\n",
            "Epoch 33/50\n",
            "69/69 [==============================] - 23s 332ms/step - loss: 0.0750 - accuracy: 0.9727\n",
            "Epoch 34/50\n",
            "69/69 [==============================] - 23s 335ms/step - loss: 0.0717 - accuracy: 0.9750\n",
            "Epoch 35/50\n",
            "69/69 [==============================] - 22s 320ms/step - loss: 0.0652 - accuracy: 0.9760\n",
            "Epoch 36/50\n",
            "69/69 [==============================] - 23s 327ms/step - loss: 0.0542 - accuracy: 0.9784\n",
            "Epoch 37/50\n",
            "69/69 [==============================] - 23s 332ms/step - loss: 0.0605 - accuracy: 0.9775\n",
            "Epoch 38/50\n",
            "69/69 [==============================] - 23s 331ms/step - loss: 0.0539 - accuracy: 0.9794\n",
            "Epoch 39/50\n",
            "69/69 [==============================] - 22s 320ms/step - loss: 0.0552 - accuracy: 0.9777\n",
            "Epoch 40/50\n",
            "69/69 [==============================] - 22s 322ms/step - loss: 0.0478 - accuracy: 0.9825\n",
            "Epoch 41/50\n",
            "69/69 [==============================] - 23s 331ms/step - loss: 0.0566 - accuracy: 0.9791\n",
            "Epoch 42/50\n",
            "69/69 [==============================] - 23s 332ms/step - loss: 0.0784 - accuracy: 0.9718\n",
            "Epoch 43/50\n",
            "69/69 [==============================] - 26s 385ms/step - loss: 0.0721 - accuracy: 0.9752\n",
            "Epoch 44/50\n",
            "69/69 [==============================] - 23s 329ms/step - loss: 0.0630 - accuracy: 0.9785\n",
            "Epoch 45/50\n",
            "69/69 [==============================] - 22s 313ms/step - loss: 0.0498 - accuracy: 0.9803\n",
            "Epoch 46/50\n",
            "69/69 [==============================] - 23s 328ms/step - loss: 0.0547 - accuracy: 0.9802\n",
            "Epoch 47/50\n",
            "69/69 [==============================] - 23s 329ms/step - loss: 0.0509 - accuracy: 0.9812\n",
            "Epoch 48/50\n",
            "69/69 [==============================] - 22s 317ms/step - loss: 0.0535 - accuracy: 0.9818\n",
            "Epoch 49/50\n",
            "69/69 [==============================] - 22s 320ms/step - loss: 0.0443 - accuracy: 0.9847\n",
            "Epoch 50/50\n",
            "69/69 [==============================] - 23s 328ms/step - loss: 0.0822 - accuracy: 0.9755\n"
          ]
        }
      ]
    },
    {
      "cell_type": "code",
      "source": [
        "model.evaluate(X_test,y_test)"
      ],
      "metadata": {
        "colab": {
          "base_uri": "https://localhost:8080/"
        },
        "id": "QYLdlYvuZhZT",
        "outputId": "8557416b-b675-4b12-91b6-11036dc8b72a"
      },
      "id": "QYLdlYvuZhZT",
      "execution_count": null,
      "outputs": [
        {
          "output_type": "stream",
          "name": "stdout",
          "text": [
            "92/92 [==============================] - 3s 27ms/step - loss: 0.2594 - accuracy: 0.9410\n"
          ]
        },
        {
          "output_type": "execute_result",
          "data": {
            "text/plain": [
              "[0.2594465911388397, 0.9410353302955627]"
            ]
          },
          "metadata": {},
          "execution_count": 97
        }
      ]
    },
    {
      "cell_type": "code",
      "source": [
        "y_pred = model.predict(X_test).flatten()\n",
        "y_pred = np.round(y_pred)\n",
        "\n",
        "y_pred[:11]\n",
        "y_test[:11]\n",
        "\n",
        "print(classification_report(y_test,y_pred))"
      ],
      "metadata": {
        "colab": {
          "base_uri": "https://localhost:8080/"
        },
        "id": "mU3usDfra924",
        "outputId": "c6653145-2962-4f70-cc66-f84d7ec0cf44"
      },
      "id": "mU3usDfra924",
      "execution_count": null,
      "outputs": [
        {
          "output_type": "stream",
          "name": "stdout",
          "text": [
            "92/92 [==============================] - 3s 26ms/step\n",
            "              precision    recall  f1-score   support\n",
            "\n",
            "           0       0.97      0.91      0.94      1453\n",
            "           1       0.92      0.97      0.94      1464\n",
            "\n",
            "    accuracy                           0.94      2917\n",
            "   macro avg       0.94      0.94      0.94      2917\n",
            "weighted avg       0.94      0.94      0.94      2917\n",
            "\n"
          ]
        }
      ]
    },
    {
      "cell_type": "code",
      "source": [
        "cm = confusion_matrix(y_test,y_pred)\n",
        "conf_matrix = pd.DataFrame(data = cm, columns = ['Predict: 0','Predict: 1'],index = ['Actual: 0','Actual: 1'])\n",
        "plt.figure(figsize = (8,5))\n",
        "sns.heatmap(conf_matrix,annot = True,fmt ='d',cmap = 'YlGnBu')"
      ],
      "metadata": {
        "colab": {
          "base_uri": "https://localhost:8080/",
          "height": 337
        },
        "id": "Jbj5K_vFcFvA",
        "outputId": "9dede067-71e0-4968-c262-084e76946c90"
      },
      "id": "Jbj5K_vFcFvA",
      "execution_count": null,
      "outputs": [
        {
          "output_type": "execute_result",
          "data": {
            "text/plain": [
              "<Axes: >"
            ]
          },
          "metadata": {},
          "execution_count": 99
        },
        {
          "output_type": "display_data",
          "data": {
            "text/plain": [
              "<Figure size 576x360 with 2 Axes>"
            ],
            "image/png": "[encoded data removed]"
          },
          "metadata": {
            "needs_background": "light"
          }
        }
      ]
    },
    {
      "cell_type": "code",
      "source": [
        "model = Sequential()\n",
        "model.add(Dense(512,activation='relu', input_shape= (21,)))\n",
        "model.add(Dense(512,activation='relu'))\n",
        "model.add(Dropout(0.5))\n",
        "model.add(Dense(256,activation='relu'))\n",
        "model.add(Dense(256,activation='relu'))\n",
        "model.add(Dropout(0.5))\n",
        "model.add(Dense(128,activation='relu'))\n",
        "model.add(Dense(128,activation='relu'))\n",
        "model.add(Dropout(0.5))\n",
        "model.add(Dense(1,activation='sigmoid'))\n",
        "model.summary()"
      ],
      "metadata": {
        "colab": {
          "base_uri": "https://localhost:8080/"
        },
        "id": "IdzQ0ycbc-6J",
        "outputId": "1d400086-4b0d-413c-c9fa-7bd21367a585"
      },
      "id": "IdzQ0ycbc-6J",
      "execution_count": null,
      "outputs": [
        {
          "output_type": "stream",
          "name": "stdout",
          "text": [
            "Model: \"sequential_3\"\n",
            "_________________________________________________________________\n",
            " Layer (type)                Output Shape              Param #   \n",
            "=================================================================\n",
            " dense_9 (Dense)             (None, 512)               11264     \n",
            "                                                                 \n",
            " dense_10 (Dense)            (None, 512)               262656    \n",
            "                                                                 \n",
            " dropout_1 (Dropout)         (None, 512)               0         \n",
            "                                                                 \n",
            " dense_11 (Dense)            (None, 256)               131328    \n",
            "                                                                 \n",
            " dense_12 (Dense)            (None, 256)               65792     \n",
            "                                                                 \n",
            " dropout_2 (Dropout)         (None, 256)               0         \n",
            "                                                                 \n",
            " dense_13 (Dense)            (None, 128)               32896     \n",
            "                                                                 \n",
            " dense_14 (Dense)            (None, 128)               16512     \n",
            "                                                                 \n",
            " dropout_3 (Dropout)         (None, 128)               0         \n",
            "                                                                 \n",
            " dense_15 (Dense)            (None, 1)                 129       \n",
            "                                                                 \n",
            "=================================================================\n",
            "Total params: 520,577\n",
            "Trainable params: 520,577\n",
            "Non-trainable params: 0\n",
            "_________________________________________________________________\n"
          ]
        }
      ]
    },
    {
      "cell_type": "code",
      "source": [
        "model.compile(loss = 'binary_crossentropy',optimizer = Adam(lr = 0.001),metrics = ['accuracy'])"
      ],
      "metadata": {
        "colab": {
          "base_uri": "https://localhost:8080/"
        },
        "id": "wWXsCBA9jgFw",
        "outputId": "bd144c55-df1b-43f9-d98d-d5e10ede5249"
      },
      "id": "wWXsCBA9jgFw",
      "execution_count": null,
      "outputs": [
        {
          "output_type": "stream",
          "name": "stderr",
          "text": [
            "WARNING:absl:`lr` is deprecated, please use `learning_rate` instead, or use the legacy optimizer, e.g.,tf.keras.optimizers.legacy.Adam.\n"
          ]
        }
      ]
    },
    {
      "cell_type": "code",
      "source": [
        "from keras.callbacks import EarlyStopping\n",
        "cb = EarlyStopping(\n",
        "    monitor = 'accuracy',\n",
        "    min_delta = 0.001,\n",
        "    patience = 100,\n",
        "    mode ='auto'\n",
        ")"
      ],
      "metadata": {
        "id": "dv8srh4alLcL"
      },
      "id": "dv8srh4alLcL",
      "execution_count": null,
      "outputs": []
    },
    {
      "cell_type": "code",
      "source": [
        "model.fit(X_train,y_train,epochs = 50,batch_size = 100,validation_split = 0.2,callbacks = cb)"
      ],
      "metadata": {
        "colab": {
          "base_uri": "https://localhost:8080/"
        },
        "id": "gncb02N0kn0g",
        "outputId": "00e80c6b-1958-4a0b-cb31-d5fa7be98394"
      },
      "id": "gncb02N0kn0g",
      "execution_count": null,
      "outputs": [
        {
          "output_type": "stream",
          "name": "stdout",
          "text": [
            "Epoch 1/50\n",
            "55/55 [==============================] - 2s 34ms/step - loss: 0.1735 - accuracy: 0.9331 - val_loss: 0.1819 - val_accuracy: 0.9295\n",
            "Epoch 2/50\n",
            "55/55 [==============================] - 2s 36ms/step - loss: 0.1601 - accuracy: 0.9342 - val_loss: 0.1920 - val_accuracy: 0.9280\n",
            "Epoch 3/50\n",
            "55/55 [==============================] - 1s 26ms/step - loss: 0.1508 - accuracy: 0.9368 - val_loss: 0.1817 - val_accuracy: 0.9258\n",
            "Epoch 4/50\n",
            "55/55 [==============================] - 2s 31ms/step - loss: 0.1595 - accuracy: 0.9372 - val_loss: 0.1731 - val_accuracy: 0.9361\n",
            "Epoch 5/50\n",
            "55/55 [==============================] - 1s 21ms/step - loss: 0.1505 - accuracy: 0.9392 - val_loss: 0.1915 - val_accuracy: 0.9258\n",
            "Epoch 6/50\n",
            "55/55 [==============================] - 1s 19ms/step - loss: 0.1547 - accuracy: 0.9394 - val_loss: 0.1905 - val_accuracy: 0.9251\n",
            "Epoch 7/50\n",
            "55/55 [==============================] - 1s 19ms/step - loss: 0.1494 - accuracy: 0.9432 - val_loss: 0.1813 - val_accuracy: 0.9287\n",
            "Epoch 8/50\n",
            "55/55 [==============================] - 1s 20ms/step - loss: 0.1400 - accuracy: 0.9456 - val_loss: 0.1717 - val_accuracy: 0.9280\n",
            "Epoch 9/50\n",
            "55/55 [==============================] - 1s 21ms/step - loss: 0.1471 - accuracy: 0.9438 - val_loss: 0.1646 - val_accuracy: 0.9302\n",
            "Epoch 10/50\n",
            "55/55 [==============================] - 1s 20ms/step - loss: 0.1486 - accuracy: 0.9423 - val_loss: 0.1789 - val_accuracy: 0.9287\n",
            "Epoch 11/50\n",
            "55/55 [==============================] - 1s 19ms/step - loss: 0.1370 - accuracy: 0.9462 - val_loss: 0.1783 - val_accuracy: 0.9287\n",
            "Epoch 12/50\n",
            "55/55 [==============================] - 1s 20ms/step - loss: 0.1461 - accuracy: 0.9431 - val_loss: 0.1889 - val_accuracy: 0.9280\n",
            "Epoch 13/50\n",
            "55/55 [==============================] - 1s 20ms/step - loss: 0.1317 - accuracy: 0.9499 - val_loss: 0.1856 - val_accuracy: 0.9295\n",
            "Epoch 14/50\n",
            "55/55 [==============================] - 1s 27ms/step - loss: 0.1270 - accuracy: 0.9513 - val_loss: 0.1671 - val_accuracy: 0.9346\n",
            "Epoch 15/50\n",
            "55/55 [==============================] - 2s 30ms/step - loss: 0.1346 - accuracy: 0.9476 - val_loss: 0.1578 - val_accuracy: 0.9434\n",
            "Epoch 16/50\n",
            "55/55 [==============================] - 1s 21ms/step - loss: 0.1287 - accuracy: 0.9524 - val_loss: 0.1695 - val_accuracy: 0.9309\n",
            "Epoch 17/50\n",
            "55/55 [==============================] - 1s 19ms/step - loss: 0.1367 - accuracy: 0.9473 - val_loss: 0.1699 - val_accuracy: 0.9346\n",
            "Epoch 18/50\n",
            "55/55 [==============================] - 1s 20ms/step - loss: 0.1261 - accuracy: 0.9519 - val_loss: 0.1668 - val_accuracy: 0.9346\n",
            "Epoch 19/50\n",
            "55/55 [==============================] - 1s 21ms/step - loss: 0.1187 - accuracy: 0.9535 - val_loss: 0.1738 - val_accuracy: 0.9287\n",
            "Epoch 20/50\n",
            "55/55 [==============================] - 1s 19ms/step - loss: 0.1279 - accuracy: 0.9515 - val_loss: 0.1748 - val_accuracy: 0.9346\n",
            "Epoch 21/50\n",
            "55/55 [==============================] - 1s 19ms/step - loss: 0.1139 - accuracy: 0.9565 - val_loss: 0.1824 - val_accuracy: 0.9280\n",
            "Epoch 22/50\n",
            "55/55 [==============================] - 1s 20ms/step - loss: 0.1131 - accuracy: 0.9583 - val_loss: 0.1740 - val_accuracy: 0.9383\n",
            "Epoch 23/50\n",
            "55/55 [==============================] - 1s 20ms/step - loss: 0.1119 - accuracy: 0.9570 - val_loss: 0.1618 - val_accuracy: 0.9339\n",
            "Epoch 24/50\n",
            "55/55 [==============================] - 1s 19ms/step - loss: 0.1169 - accuracy: 0.9541 - val_loss: 0.1726 - val_accuracy: 0.9375\n",
            "Epoch 25/50\n",
            "55/55 [==============================] - 2s 29ms/step - loss: 0.1128 - accuracy: 0.9566 - val_loss: 0.1790 - val_accuracy: 0.9317\n",
            "Epoch 26/50\n",
            "55/55 [==============================] - 2s 29ms/step - loss: 0.1084 - accuracy: 0.9594 - val_loss: 0.1875 - val_accuracy: 0.9412\n",
            "Epoch 27/50\n",
            "55/55 [==============================] - 1s 21ms/step - loss: 0.1110 - accuracy: 0.9570 - val_loss: 0.1691 - val_accuracy: 0.9427\n",
            "Epoch 28/50\n",
            "55/55 [==============================] - 1s 19ms/step - loss: 0.1023 - accuracy: 0.9636 - val_loss: 0.2011 - val_accuracy: 0.9361\n",
            "Epoch 29/50\n",
            "55/55 [==============================] - 1s 19ms/step - loss: 0.0963 - accuracy: 0.9612 - val_loss: 0.1726 - val_accuracy: 0.9427\n",
            "Epoch 30/50\n",
            "55/55 [==============================] - 1s 19ms/step - loss: 0.1059 - accuracy: 0.9607 - val_loss: 0.1653 - val_accuracy: 0.9368\n",
            "Epoch 31/50\n",
            "55/55 [==============================] - 1s 19ms/step - loss: 0.0975 - accuracy: 0.9658 - val_loss: 0.1752 - val_accuracy: 0.9412\n",
            "Epoch 32/50\n",
            "55/55 [==============================] - 1s 19ms/step - loss: 0.1046 - accuracy: 0.9596 - val_loss: 0.1778 - val_accuracy: 0.9405\n",
            "Epoch 33/50\n",
            "55/55 [==============================] - 1s 20ms/step - loss: 0.1041 - accuracy: 0.9611 - val_loss: 0.1792 - val_accuracy: 0.9324\n",
            "Epoch 34/50\n",
            "55/55 [==============================] - 1s 19ms/step - loss: 0.1013 - accuracy: 0.9622 - val_loss: 0.1730 - val_accuracy: 0.9309\n",
            "Epoch 35/50\n",
            "55/55 [==============================] - 1s 19ms/step - loss: 0.0979 - accuracy: 0.9605 - val_loss: 0.1968 - val_accuracy: 0.9361\n",
            "Epoch 36/50\n",
            "55/55 [==============================] - 2s 29ms/step - loss: 0.0994 - accuracy: 0.9642 - val_loss: 0.1753 - val_accuracy: 0.9412\n",
            "Epoch 37/50\n",
            "55/55 [==============================] - 2s 31ms/step - loss: 0.0927 - accuracy: 0.9655 - val_loss: 0.1722 - val_accuracy: 0.9412\n",
            "Epoch 38/50\n",
            "55/55 [==============================] - 1s 19ms/step - loss: 0.0962 - accuracy: 0.9638 - val_loss: 0.1585 - val_accuracy: 0.9449\n",
            "Epoch 39/50\n",
            "55/55 [==============================] - 1s 20ms/step - loss: 0.1000 - accuracy: 0.9600 - val_loss: 0.1603 - val_accuracy: 0.9456\n",
            "Epoch 40/50\n",
            "55/55 [==============================] - 1s 20ms/step - loss: 0.1015 - accuracy: 0.9590 - val_loss: 0.1746 - val_accuracy: 0.9405\n",
            "Epoch 41/50\n",
            "55/55 [==============================] - 1s 19ms/step - loss: 0.0910 - accuracy: 0.9669 - val_loss: 0.1825 - val_accuracy: 0.9464\n",
            "Epoch 42/50\n",
            "55/55 [==============================] - 1s 19ms/step - loss: 0.0877 - accuracy: 0.9691 - val_loss: 0.1810 - val_accuracy: 0.9353\n",
            "Epoch 43/50\n",
            "55/55 [==============================] - 1s 20ms/step - loss: 0.1024 - accuracy: 0.9614 - val_loss: 0.1590 - val_accuracy: 0.9412\n",
            "Epoch 44/50\n",
            "55/55 [==============================] - 1s 21ms/step - loss: 0.0913 - accuracy: 0.9675 - val_loss: 0.1941 - val_accuracy: 0.9302\n",
            "Epoch 45/50\n",
            "55/55 [==============================] - 1s 21ms/step - loss: 0.0931 - accuracy: 0.9673 - val_loss: 0.1685 - val_accuracy: 0.9478\n",
            "Epoch 46/50\n",
            "55/55 [==============================] - 1s 19ms/step - loss: 0.0840 - accuracy: 0.9691 - val_loss: 0.1575 - val_accuracy: 0.9390\n",
            "Epoch 47/50\n",
            "55/55 [==============================] - 2s 31ms/step - loss: 0.0881 - accuracy: 0.9690 - val_loss: 0.1880 - val_accuracy: 0.9368\n",
            "Epoch 48/50\n",
            "55/55 [==============================] - 2s 30ms/step - loss: 0.0840 - accuracy: 0.9695 - val_loss: 0.1748 - val_accuracy: 0.9434\n",
            "Epoch 49/50\n",
            "55/55 [==============================] - 1s 20ms/step - loss: 0.0852 - accuracy: 0.9699 - val_loss: 0.1694 - val_accuracy: 0.9420\n",
            "Epoch 50/50\n",
            "55/55 [==============================] - 1s 20ms/step - loss: 0.0788 - accuracy: 0.9690 - val_loss: 0.1855 - val_accuracy: 0.9412\n"
          ]
        },
        {
          "output_type": "execute_result",
          "data": {
            "text/plain": [
              "<keras.callbacks.History at 0x7ff8a8cb3880>"
            ]
          },
          "metadata": {},
          "execution_count": 112
        }
      ]
    },
    {
      "cell_type": "code",
      "source": [],
      "metadata": {
        "id": "ysXcEzqNolbG"
      },
      "id": "ysXcEzqNolbG",
      "execution_count": null,
      "outputs": []
    },
    {
      "cell_type": "code",
      "source": [
        "model.evaluate(X_test,y_test)"
      ],
      "metadata": {
        "colab": {
          "base_uri": "https://localhost:8080/"
        },
        "id": "MxlAx5Rfl5JK",
        "outputId": "513a29b8-1359-4ece-9b96-d0059558705c"
      },
      "id": "MxlAx5Rfl5JK",
      "execution_count": null,
      "outputs": [
        {
          "output_type": "stream",
          "name": "stdout",
          "text": [
            "92/92 [==============================] - 1s 7ms/step - loss: 0.2826 - accuracy: 0.9335\n"
          ]
        },
        {
          "output_type": "execute_result",
          "data": {
            "text/plain": [
              "[0.2826496660709381, 0.9334933161735535]"
            ]
          },
          "metadata": {},
          "execution_count": 113
        }
      ]
    },
    {
      "cell_type": "code",
      "source": [
        "y_pred = model.predict(X_test)\n",
        "y_pred = np.round(y_pred)\n",
        "print(classification_report(y_test,y_pred))"
      ],
      "metadata": {
        "colab": {
          "base_uri": "https://localhost:8080/"
        },
        "id": "yLvKrswhn0oo",
        "outputId": "4b84d14a-6567-4e49-9052-6437d442c1bf"
      },
      "id": "yLvKrswhn0oo",
      "execution_count": null,
      "outputs": [
        {
          "output_type": "stream",
          "name": "stdout",
          "text": [
            "92/92 [==============================] - 0s 4ms/step\n",
            "              precision    recall  f1-score   support\n",
            "\n",
            "           0       0.98      0.88      0.93      1453\n",
            "           1       0.89      0.98      0.94      1464\n",
            "\n",
            "    accuracy                           0.93      2917\n",
            "   macro avg       0.94      0.93      0.93      2917\n",
            "weighted avg       0.94      0.93      0.93      2917\n",
            "\n"
          ]
        }
      ]
    },
    {
      "cell_type": "code",
      "source": [
        "cm=confusion_matrix(y_test, y_pred)\n",
        "\n",
        "conf_matrix=pd.DataFrame(data=cm,columns=['Predicted:0','Predicted:1'],index=['Actual:0','Actual:1'])\n",
        "plt.figure(figsize = (8,5))\n",
        "sns.heatmap(conf_matrix, annot=True,fmt='d',cmap=\"YlGnBu\")"
      ],
      "metadata": {
        "colab": {
          "base_uri": "https://localhost:8080/",
          "height": 337
        },
        "id": "7DS9gNzXoIlh",
        "outputId": "30c867df-5eeb-40fe-adbb-974a8cfd385d"
      },
      "id": "7DS9gNzXoIlh",
      "execution_count": null,
      "outputs": [
        {
          "output_type": "execute_result",
          "data": {
            "text/plain": [
              "<Axes: >"
            ]
          },
          "metadata": {},
          "execution_count": 123
        },
        {
          "output_type": "display_data",
          "data": {
            "text/plain": [
              "<Figure size 576x360 with 2 Axes>"
            ],
            "image/png": "[encoded data removed]"
          },
          "metadata": {
            "needs_background": "light"
          }
        }
      ]
    },
    {
      "cell_type": "markdown",
      "source": [
        "#THE END"
      ],
      "metadata": {
        "id": "aMsudd1vpGQK"
      },
      "id": "aMsudd1vpGQK"
    },
    {
      "cell_type": "code",
      "source": [],
      "metadata": {
        "id": "VMD9EaTapRls"
      },
      "id": "VMD9EaTapRls",
      "execution_count": null,
      "outputs": []
    }
  ],
  "metadata": {
    "kernelspec": {
      "display_name": "Python 3 (ipykernel)",
      "language": "python",
      "name": "python3"
    },
    "language_info": {
      "codemirror_mode": {
        "name": "ipython",
        "version": 3
      },
      "file_extension": ".py",
      "mimetype": "text/x-python",
      "name": "python",
      "nbconvert_exporter": "python",
      "pygments_lexer": "ipython3",
      "version": "3.9.7"
    },
    "colab": {
      "provenance": []
    }
  },
  "nbformat": 4,
  "nbformat_minor": 5
}